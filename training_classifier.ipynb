{
  "nbformat": 4,
  "nbformat_minor": 0,
  "metadata": {
    "colab": {
      "name": "training_classifier.ipynb",
      "provenance": [],
      "collapsed_sections": [
        "x4mgkPL-xpHO",
        "mB0tbYEzqeL2",
        "2929c_oGiMPe",
        "7xvhcZHcqVx_",
        "SodqLenCm0Zu"
      ],
      "toc_visible": true
    },
    "kernelspec": {
      "name": "python3",
      "display_name": "Python 3"
    },
    "language_info": {
      "name": "python"
    },
    "accelerator": "GPU"
  },
  "cells": [
    {
      "cell_type": "code",
      "metadata": {
        "id": "kzHDYc6wyXu_",
        "colab": {
          "base_uri": "https://localhost:8080/"
        },
        "outputId": "326cb75e-a6ac-41c0-f36c-75e8e490cde8"
      },
      "source": [
        "!pip install catboost"
      ],
      "execution_count": null,
      "outputs": [
        {
          "output_type": "stream",
          "text": [
            "Collecting catboost\n",
            "\u001b[?25l  Downloading https://files.pythonhosted.org/packages/47/80/8e9c57ec32dfed6ba2922bc5c96462cbf8596ce1a6f5de532ad1e43e53fe/catboost-0.25.1-cp37-none-manylinux1_x86_64.whl (67.3MB)\n",
            "\u001b[K     |████████████████████████████████| 67.3MB 47kB/s \n",
            "\u001b[?25hRequirement already satisfied: six in /usr/local/lib/python3.7/dist-packages (from catboost) (1.15.0)\n",
            "Requirement already satisfied: plotly in /usr/local/lib/python3.7/dist-packages (from catboost) (4.4.1)\n",
            "Requirement already satisfied: pandas>=0.24.0 in /usr/local/lib/python3.7/dist-packages (from catboost) (1.1.5)\n",
            "Requirement already satisfied: numpy>=1.16.0 in /usr/local/lib/python3.7/dist-packages (from catboost) (1.19.5)\n",
            "Requirement already satisfied: graphviz in /usr/local/lib/python3.7/dist-packages (from catboost) (0.10.1)\n",
            "Requirement already satisfied: matplotlib in /usr/local/lib/python3.7/dist-packages (from catboost) (3.2.2)\n",
            "Requirement already satisfied: scipy in /usr/local/lib/python3.7/dist-packages (from catboost) (1.4.1)\n",
            "Requirement already satisfied: retrying>=1.3.3 in /usr/local/lib/python3.7/dist-packages (from plotly->catboost) (1.3.3)\n",
            "Requirement already satisfied: python-dateutil>=2.7.3 in /usr/local/lib/python3.7/dist-packages (from pandas>=0.24.0->catboost) (2.8.1)\n",
            "Requirement already satisfied: pytz>=2017.2 in /usr/local/lib/python3.7/dist-packages (from pandas>=0.24.0->catboost) (2018.9)\n",
            "Requirement already satisfied: kiwisolver>=1.0.1 in /usr/local/lib/python3.7/dist-packages (from matplotlib->catboost) (1.3.1)\n",
            "Requirement already satisfied: pyparsing!=2.0.4,!=2.1.2,!=2.1.6,>=2.0.1 in /usr/local/lib/python3.7/dist-packages (from matplotlib->catboost) (2.4.7)\n",
            "Requirement already satisfied: cycler>=0.10 in /usr/local/lib/python3.7/dist-packages (from matplotlib->catboost) (0.10.0)\n",
            "Installing collected packages: catboost\n",
            "Successfully installed catboost-0.25.1\n"
          ],
          "name": "stdout"
        }
      ]
    },
    {
      "cell_type": "code",
      "metadata": {
        "id": "a5JCighXeWVp"
      },
      "source": [
        "import os\n",
        "import shutil\n",
        "import random\n",
        "import numpy as np \n",
        "import pandas as pd\n",
        "import matplotlib.pyplot as plt\n",
        "from PIL import Image\n",
        "import lightgbm as lgbm\n",
        "from google.colab import files\n",
        "from sklearn.model_selection import train_test_split\n",
        "from catboost import Pool, CatBoostClassifier\n",
        "from sklearn.metrics import precision_score\n",
        "import torch\n",
        "import tqdm\n",
        "import torch.nn as nn\n",
        "import torch.nn.functional as F\n",
        "import torch.optim as optim\n",
        "from torch.utils.data import DataLoader, Dataset\n",
        "from torchvision import datasets, transforms\n",
        "from torch.autograd import Variable"
      ],
      "execution_count": null,
      "outputs": []
    },
    {
      "cell_type": "code",
      "metadata": {
        "id": "OK4oj_7PCcpr"
      },
      "source": [
        "torch.manual_seed(22)\n",
        "random.seed(22)"
      ],
      "execution_count": null,
      "outputs": []
    },
    {
      "cell_type": "code",
      "metadata": {
        "id": "iQXfKCbEgi6b",
        "colab": {
          "resources": {
            "http://localhost:8080/nbextensions/google.colab/files.js": {
              "data": "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",
              "ok": true,
              "headers": [
                [
                  "content-type",
                  "application/javascript"
                ]
              ],
              "status": 200,
              "status_text": ""
            }
          },
          "base_uri": "https://localhost:8080/",
          "height": 72
        },
        "outputId": "0eee6168-1111-401a-d0ca-dfc1d08fa6d0"
      },
      "source": [
        "files.upload(); #animals_data.zip"
      ],
      "execution_count": null,
      "outputs": [
        {
          "output_type": "display_data",
          "data": {
            "text/html": [
              "\n",
              "     <input type=\"file\" id=\"files-10a8693d-5d76-47d8-adbe-580e8acc3418\" name=\"files[]\" multiple disabled\n",
              "        style=\"border:none\" />\n",
              "     <output id=\"result-10a8693d-5d76-47d8-adbe-580e8acc3418\">\n",
              "      Upload widget is only available when the cell has been executed in the\n",
              "      current browser session. Please rerun this cell to enable.\n",
              "      </output>\n",
              "      <script src=\"/nbextensions/google.colab/files.js\"></script> "
            ],
            "text/plain": [
              "<IPython.core.display.HTML object>"
            ]
          },
          "metadata": {
            "tags": []
          }
        },
        {
          "output_type": "stream",
          "text": [
            "Saving animals_data.zip to animals_data.zip\n"
          ],
          "name": "stdout"
        }
      ]
    },
    {
      "cell_type": "code",
      "metadata": {
        "id": "c9Gcvg8yhFFV"
      },
      "source": [
        "data_dir = '/content/data'"
      ],
      "execution_count": null,
      "outputs": []
    },
    {
      "cell_type": "code",
      "metadata": {
        "id": "vkAWKmqxhGKU"
      },
      "source": [
        "shutil.unpack_archive('/content/animals_data.zip', data_dir)"
      ],
      "execution_count": null,
      "outputs": []
    },
    {
      "cell_type": "code",
      "metadata": {
        "id": "rHTkdg6vhaee",
        "colab": {
          "base_uri": "https://localhost:8080/"
        },
        "outputId": "2e1d297f-113a-4267-d9a3-e985a7f93bad"
      },
      "source": [
        "df = pd.read_csv(os.path.join(data_dir, 'animals_data.csv'))\n",
        "print(\"Строк в датасете: {}\".format(len(df)))"
      ],
      "execution_count": null,
      "outputs": [
        {
          "output_type": "stream",
          "text": [
            "Строк в датасете: 967\n"
          ],
          "name": "stdout"
        }
      ]
    },
    {
      "cell_type": "code",
      "metadata": {
        "colab": {
          "base_uri": "https://localhost:8080/",
          "height": 224
        },
        "id": "WYY_-eCJTsEU",
        "outputId": "32d7b9f7-9964-4df2-c862-17f02fef31fd"
      },
      "source": [
        "df.head()"
      ],
      "execution_count": null,
      "outputs": [
        {
          "output_type": "execute_result",
          "data": {
            "text/html": [
              "<div>\n",
              "<style scoped>\n",
              "    .dataframe tbody tr th:only-of-type {\n",
              "        vertical-align: middle;\n",
              "    }\n",
              "\n",
              "    .dataframe tbody tr th {\n",
              "        vertical-align: top;\n",
              "    }\n",
              "\n",
              "    .dataframe thead th {\n",
              "        text-align: right;\n",
              "    }\n",
              "</style>\n",
              "<table border=\"1\" class=\"dataframe\">\n",
              "  <thead>\n",
              "    <tr style=\"text-align: right;\">\n",
              "      <th></th>\n",
              "      <th>id</th>\n",
              "      <th>cat</th>\n",
              "      <th>cow</th>\n",
              "      <th>dog</th>\n",
              "      <th>horse</th>\n",
              "      <th>sheep</th>\n",
              "      <th>bounds_x</th>\n",
              "      <th>bounds_y</th>\n",
              "      <th>bounds_width</th>\n",
              "      <th>bounds_height</th>\n",
              "      <th>L_eye_v</th>\n",
              "      <th>L_eye_x</th>\n",
              "      <th>L_eye_y</th>\n",
              "      <th>R_eye_v</th>\n",
              "      <th>R_eye_x</th>\n",
              "      <th>R_eye_y</th>\n",
              "      <th>L_ear_v</th>\n",
              "      <th>L_ear_x</th>\n",
              "      <th>L_ear_y</th>\n",
              "      <th>R_ear_v</th>\n",
              "      <th>R_ear_x</th>\n",
              "      <th>R_ear_y</th>\n",
              "      <th>Nose_v</th>\n",
              "      <th>Nose_x</th>\n",
              "      <th>Nose_y</th>\n",
              "      <th>Throat_v</th>\n",
              "      <th>Throat_x</th>\n",
              "      <th>Throat_y</th>\n",
              "      <th>Tail_v</th>\n",
              "      <th>Tail_x</th>\n",
              "      <th>Tail_y</th>\n",
              "      <th>withers_v</th>\n",
              "      <th>withers_x</th>\n",
              "      <th>withers_y</th>\n",
              "      <th>L_F_elbow_v</th>\n",
              "      <th>L_F_elbow_x</th>\n",
              "      <th>L_F_elbow_y</th>\n",
              "      <th>R_F_elbow_v</th>\n",
              "      <th>R_F_elbow_x</th>\n",
              "      <th>R_F_elbow_y</th>\n",
              "      <th>L_B_elbow_v</th>\n",
              "      <th>L_B_elbow_x</th>\n",
              "      <th>L_B_elbow_y</th>\n",
              "      <th>R_B_elbow_v</th>\n",
              "      <th>R_B_elbow_x</th>\n",
              "      <th>R_B_elbow_y</th>\n",
              "      <th>L_F_knee_v</th>\n",
              "      <th>L_F_knee_x</th>\n",
              "      <th>L_F_knee_y</th>\n",
              "      <th>R_F_knee_v</th>\n",
              "      <th>R_F_knee_x</th>\n",
              "      <th>R_F_knee_y</th>\n",
              "      <th>L_B_knee_v</th>\n",
              "      <th>L_B_knee_x</th>\n",
              "      <th>L_B_knee_y</th>\n",
              "      <th>R_B_knee_v</th>\n",
              "      <th>R_B_knee_x</th>\n",
              "      <th>R_B_knee_y</th>\n",
              "      <th>L_F_paw_v</th>\n",
              "      <th>L_F_paw_x</th>\n",
              "      <th>L_F_paw_y</th>\n",
              "      <th>R_F_paw_v</th>\n",
              "      <th>R_F_paw_x</th>\n",
              "      <th>R_F_paw_y</th>\n",
              "      <th>L_B_paw_v</th>\n",
              "      <th>L_B_paw_x</th>\n",
              "      <th>L_B_paw_y</th>\n",
              "      <th>R_B_paw_v</th>\n",
              "      <th>R_B_paw_x</th>\n",
              "      <th>R_B_paw_y</th>\n",
              "      <th>stand</th>\n",
              "      <th>sit</th>\n",
              "      <th>lie</th>\n",
              "      <th>go</th>\n",
              "      <th>run</th>\n",
              "    </tr>\n",
              "  </thead>\n",
              "  <tbody>\n",
              "    <tr>\n",
              "      <th>0</th>\n",
              "      <td>0</td>\n",
              "      <td>1</td>\n",
              "      <td>0</td>\n",
              "      <td>0</td>\n",
              "      <td>0</td>\n",
              "      <td>0</td>\n",
              "      <td>2</td>\n",
              "      <td>5</td>\n",
              "      <td>296</td>\n",
              "      <td>204</td>\n",
              "      <td>1</td>\n",
              "      <td>178</td>\n",
              "      <td>71</td>\n",
              "      <td>1</td>\n",
              "      <td>132</td>\n",
              "      <td>65</td>\n",
              "      <td>1</td>\n",
              "      <td>203</td>\n",
              "      <td>33</td>\n",
              "      <td>1</td>\n",
              "      <td>117</td>\n",
              "      <td>19</td>\n",
              "      <td>1</td>\n",
              "      <td>154</td>\n",
              "      <td>86</td>\n",
              "      <td>1</td>\n",
              "      <td>157</td>\n",
              "      <td>119</td>\n",
              "      <td>0</td>\n",
              "      <td>0</td>\n",
              "      <td>0</td>\n",
              "      <td>0</td>\n",
              "      <td>0</td>\n",
              "      <td>0</td>\n",
              "      <td>1</td>\n",
              "      <td>213</td>\n",
              "      <td>146</td>\n",
              "      <td>1</td>\n",
              "      <td>94</td>\n",
              "      <td>130</td>\n",
              "      <td>0</td>\n",
              "      <td>0</td>\n",
              "      <td>0</td>\n",
              "      <td>0</td>\n",
              "      <td>0</td>\n",
              "      <td>0</td>\n",
              "      <td>1</td>\n",
              "      <td>265</td>\n",
              "      <td>162</td>\n",
              "      <td>1</td>\n",
              "      <td>72</td>\n",
              "      <td>158</td>\n",
              "      <td>0</td>\n",
              "      <td>0</td>\n",
              "      <td>0</td>\n",
              "      <td>0</td>\n",
              "      <td>0</td>\n",
              "      <td>0</td>\n",
              "      <td>0</td>\n",
              "      <td>0</td>\n",
              "      <td>0</td>\n",
              "      <td>1</td>\n",
              "      <td>6</td>\n",
              "      <td>174</td>\n",
              "      <td>0</td>\n",
              "      <td>0</td>\n",
              "      <td>0</td>\n",
              "      <td>0</td>\n",
              "      <td>0</td>\n",
              "      <td>0</td>\n",
              "      <td>0</td>\n",
              "      <td>0</td>\n",
              "      <td>1</td>\n",
              "      <td>0</td>\n",
              "      <td>0</td>\n",
              "    </tr>\n",
              "    <tr>\n",
              "      <th>1</th>\n",
              "      <td>1</td>\n",
              "      <td>1</td>\n",
              "      <td>0</td>\n",
              "      <td>0</td>\n",
              "      <td>0</td>\n",
              "      <td>0</td>\n",
              "      <td>20</td>\n",
              "      <td>8</td>\n",
              "      <td>260</td>\n",
              "      <td>286</td>\n",
              "      <td>1</td>\n",
              "      <td>202</td>\n",
              "      <td>145</td>\n",
              "      <td>1</td>\n",
              "      <td>99</td>\n",
              "      <td>149</td>\n",
              "      <td>1</td>\n",
              "      <td>248</td>\n",
              "      <td>46</td>\n",
              "      <td>1</td>\n",
              "      <td>46</td>\n",
              "      <td>56</td>\n",
              "      <td>1</td>\n",
              "      <td>147</td>\n",
              "      <td>190</td>\n",
              "      <td>1</td>\n",
              "      <td>146</td>\n",
              "      <td>276</td>\n",
              "      <td>0</td>\n",
              "      <td>0</td>\n",
              "      <td>0</td>\n",
              "      <td>0</td>\n",
              "      <td>0</td>\n",
              "      <td>0</td>\n",
              "      <td>0</td>\n",
              "      <td>0</td>\n",
              "      <td>0</td>\n",
              "      <td>0</td>\n",
              "      <td>0</td>\n",
              "      <td>0</td>\n",
              "      <td>0</td>\n",
              "      <td>0</td>\n",
              "      <td>0</td>\n",
              "      <td>0</td>\n",
              "      <td>0</td>\n",
              "      <td>0</td>\n",
              "      <td>0</td>\n",
              "      <td>0</td>\n",
              "      <td>0</td>\n",
              "      <td>0</td>\n",
              "      <td>0</td>\n",
              "      <td>0</td>\n",
              "      <td>0</td>\n",
              "      <td>0</td>\n",
              "      <td>0</td>\n",
              "      <td>0</td>\n",
              "      <td>0</td>\n",
              "      <td>0</td>\n",
              "      <td>0</td>\n",
              "      <td>0</td>\n",
              "      <td>0</td>\n",
              "      <td>0</td>\n",
              "      <td>0</td>\n",
              "      <td>0</td>\n",
              "      <td>0</td>\n",
              "      <td>0</td>\n",
              "      <td>0</td>\n",
              "      <td>0</td>\n",
              "      <td>0</td>\n",
              "      <td>0</td>\n",
              "      <td>1</td>\n",
              "      <td>0</td>\n",
              "      <td>0</td>\n",
              "      <td>0</td>\n",
              "      <td>0</td>\n",
              "    </tr>\n",
              "    <tr>\n",
              "      <th>2</th>\n",
              "      <td>2</td>\n",
              "      <td>1</td>\n",
              "      <td>0</td>\n",
              "      <td>0</td>\n",
              "      <td>0</td>\n",
              "      <td>0</td>\n",
              "      <td>5</td>\n",
              "      <td>11</td>\n",
              "      <td>282</td>\n",
              "      <td>224</td>\n",
              "      <td>1</td>\n",
              "      <td>190</td>\n",
              "      <td>129</td>\n",
              "      <td>1</td>\n",
              "      <td>130</td>\n",
              "      <td>125</td>\n",
              "      <td>1</td>\n",
              "      <td>240</td>\n",
              "      <td>75</td>\n",
              "      <td>1</td>\n",
              "      <td>102</td>\n",
              "      <td>61</td>\n",
              "      <td>1</td>\n",
              "      <td>160</td>\n",
              "      <td>136</td>\n",
              "      <td>1</td>\n",
              "      <td>154</td>\n",
              "      <td>200</td>\n",
              "      <td>0</td>\n",
              "      <td>0</td>\n",
              "      <td>0</td>\n",
              "      <td>0</td>\n",
              "      <td>0</td>\n",
              "      <td>0</td>\n",
              "      <td>0</td>\n",
              "      <td>0</td>\n",
              "      <td>0</td>\n",
              "      <td>0</td>\n",
              "      <td>0</td>\n",
              "      <td>0</td>\n",
              "      <td>0</td>\n",
              "      <td>0</td>\n",
              "      <td>0</td>\n",
              "      <td>0</td>\n",
              "      <td>0</td>\n",
              "      <td>0</td>\n",
              "      <td>0</td>\n",
              "      <td>0</td>\n",
              "      <td>0</td>\n",
              "      <td>0</td>\n",
              "      <td>0</td>\n",
              "      <td>0</td>\n",
              "      <td>0</td>\n",
              "      <td>0</td>\n",
              "      <td>0</td>\n",
              "      <td>0</td>\n",
              "      <td>0</td>\n",
              "      <td>0</td>\n",
              "      <td>0</td>\n",
              "      <td>0</td>\n",
              "      <td>0</td>\n",
              "      <td>0</td>\n",
              "      <td>0</td>\n",
              "      <td>0</td>\n",
              "      <td>0</td>\n",
              "      <td>0</td>\n",
              "      <td>0</td>\n",
              "      <td>0</td>\n",
              "      <td>0</td>\n",
              "      <td>0</td>\n",
              "      <td>1</td>\n",
              "      <td>0</td>\n",
              "      <td>0</td>\n",
              "      <td>0</td>\n",
              "      <td>0</td>\n",
              "    </tr>\n",
              "    <tr>\n",
              "      <th>3</th>\n",
              "      <td>3</td>\n",
              "      <td>1</td>\n",
              "      <td>0</td>\n",
              "      <td>0</td>\n",
              "      <td>0</td>\n",
              "      <td>0</td>\n",
              "      <td>9</td>\n",
              "      <td>13</td>\n",
              "      <td>274</td>\n",
              "      <td>228</td>\n",
              "      <td>1</td>\n",
              "      <td>221</td>\n",
              "      <td>85</td>\n",
              "      <td>1</td>\n",
              "      <td>179</td>\n",
              "      <td>91</td>\n",
              "      <td>1</td>\n",
              "      <td>245</td>\n",
              "      <td>33</td>\n",
              "      <td>1</td>\n",
              "      <td>145</td>\n",
              "      <td>40</td>\n",
              "      <td>1</td>\n",
              "      <td>200</td>\n",
              "      <td>92</td>\n",
              "      <td>1</td>\n",
              "      <td>205</td>\n",
              "      <td>130</td>\n",
              "      <td>1</td>\n",
              "      <td>46</td>\n",
              "      <td>127</td>\n",
              "      <td>1</td>\n",
              "      <td>124</td>\n",
              "      <td>72</td>\n",
              "      <td>1</td>\n",
              "      <td>232</td>\n",
              "      <td>175</td>\n",
              "      <td>1</td>\n",
              "      <td>130</td>\n",
              "      <td>170</td>\n",
              "      <td>0</td>\n",
              "      <td>0</td>\n",
              "      <td>0</td>\n",
              "      <td>1</td>\n",
              "      <td>63</td>\n",
              "      <td>179</td>\n",
              "      <td>1</td>\n",
              "      <td>210</td>\n",
              "      <td>201</td>\n",
              "      <td>1</td>\n",
              "      <td>149</td>\n",
              "      <td>206</td>\n",
              "      <td>0</td>\n",
              "      <td>0</td>\n",
              "      <td>0</td>\n",
              "      <td>1</td>\n",
              "      <td>75</td>\n",
              "      <td>206</td>\n",
              "      <td>1</td>\n",
              "      <td>218</td>\n",
              "      <td>227</td>\n",
              "      <td>1</td>\n",
              "      <td>144</td>\n",
              "      <td>233</td>\n",
              "      <td>0</td>\n",
              "      <td>0</td>\n",
              "      <td>0</td>\n",
              "      <td>1</td>\n",
              "      <td>87</td>\n",
              "      <td>221</td>\n",
              "      <td>1</td>\n",
              "      <td>0</td>\n",
              "      <td>0</td>\n",
              "      <td>0</td>\n",
              "      <td>0</td>\n",
              "    </tr>\n",
              "    <tr>\n",
              "      <th>4</th>\n",
              "      <td>4</td>\n",
              "      <td>1</td>\n",
              "      <td>0</td>\n",
              "      <td>0</td>\n",
              "      <td>0</td>\n",
              "      <td>0</td>\n",
              "      <td>25</td>\n",
              "      <td>0</td>\n",
              "      <td>236</td>\n",
              "      <td>220</td>\n",
              "      <td>1</td>\n",
              "      <td>178</td>\n",
              "      <td>79</td>\n",
              "      <td>1</td>\n",
              "      <td>114</td>\n",
              "      <td>99</td>\n",
              "      <td>1</td>\n",
              "      <td>195</td>\n",
              "      <td>20</td>\n",
              "      <td>1</td>\n",
              "      <td>47</td>\n",
              "      <td>48</td>\n",
              "      <td>1</td>\n",
              "      <td>156</td>\n",
              "      <td>118</td>\n",
              "      <td>1</td>\n",
              "      <td>160</td>\n",
              "      <td>164</td>\n",
              "      <td>0</td>\n",
              "      <td>0</td>\n",
              "      <td>0</td>\n",
              "      <td>0</td>\n",
              "      <td>0</td>\n",
              "      <td>0</td>\n",
              "      <td>0</td>\n",
              "      <td>0</td>\n",
              "      <td>0</td>\n",
              "      <td>0</td>\n",
              "      <td>0</td>\n",
              "      <td>0</td>\n",
              "      <td>0</td>\n",
              "      <td>0</td>\n",
              "      <td>0</td>\n",
              "      <td>0</td>\n",
              "      <td>0</td>\n",
              "      <td>0</td>\n",
              "      <td>0</td>\n",
              "      <td>0</td>\n",
              "      <td>0</td>\n",
              "      <td>0</td>\n",
              "      <td>0</td>\n",
              "      <td>0</td>\n",
              "      <td>0</td>\n",
              "      <td>0</td>\n",
              "      <td>0</td>\n",
              "      <td>0</td>\n",
              "      <td>0</td>\n",
              "      <td>0</td>\n",
              "      <td>0</td>\n",
              "      <td>0</td>\n",
              "      <td>0</td>\n",
              "      <td>0</td>\n",
              "      <td>0</td>\n",
              "      <td>0</td>\n",
              "      <td>0</td>\n",
              "      <td>0</td>\n",
              "      <td>0</td>\n",
              "      <td>0</td>\n",
              "      <td>0</td>\n",
              "      <td>0</td>\n",
              "      <td>0</td>\n",
              "      <td>0</td>\n",
              "      <td>1</td>\n",
              "      <td>0</td>\n",
              "      <td>0</td>\n",
              "    </tr>\n",
              "  </tbody>\n",
              "</table>\n",
              "</div>"
            ],
            "text/plain": [
              "   id  cat  cow  dog  horse  sheep  ...  R_B_paw_y  stand  sit  lie  go  run\n",
              "0   0    1    0    0      0      0  ...          0      0    0    1   0    0\n",
              "1   1    1    0    0      0      0  ...          0      1    0    0   0    0\n",
              "2   2    1    0    0      0      0  ...          0      1    0    0   0    0\n",
              "3   3    1    0    0      0      0  ...        221      1    0    0   0    0\n",
              "4   4    1    0    0      0      0  ...          0      0    0    1   0    0\n",
              "\n",
              "[5 rows x 75 columns]"
            ]
          },
          "metadata": {
            "tags": []
          },
          "execution_count": 8
        }
      ]
    },
    {
      "cell_type": "code",
      "metadata": {
        "id": "LpiSl9-dkQ1n"
      },
      "source": [
        "classes = ['stand', 'sit', 'lie', 'go', 'run']\n",
        "X = df.drop(classes, axis=1)\n",
        "y = df[['id'] + classes]"
      ],
      "execution_count": null,
      "outputs": []
    },
    {
      "cell_type": "code",
      "metadata": {
        "id": "DnaJgeWzhJk0"
      },
      "source": [
        "for column in X.columns:\n",
        "    if '_x' in column or '_width' in column or '_y' in column or '_height' in column:\n",
        "        X[column] = X[column].astype(float)\n",
        "\n",
        "df_dict = X.to_dict()\n",
        "\n",
        "for idx in df_dict['id'].values():\n",
        "    img_name = os.path.join(data_dir, 'animals', \"0\"*(3-len(str(idx))) + str(idx) + \".jpeg\")\n",
        "    image = Image.open(img_name)\n",
        "    x_size, y_size = image.size\n",
        "    for column in df_dict.keys():\n",
        "        if '_x' in column or '_width' in column:\n",
        "            df_dict[column][idx] /= x_size\n",
        "        elif '_y' in column or '_height' in column:\n",
        "            df_dict[column][idx] /= y_size\n",
        "\n",
        "X = pd.DataFrame.from_dict(df_dict)"
      ],
      "execution_count": null,
      "outputs": []
    },
    {
      "cell_type": "code",
      "metadata": {
        "id": "EqRVRWPWbXLZ"
      },
      "source": [
        "y['label'] = 0\n",
        "\n",
        "# for idx in range(1, len(y.columns)-1):\n",
        "#     y['label'] += y[y.columns[idx]] * (idx - 1)\n",
        "\n",
        "y['label'] = 0\n",
        "for idx in range(1, len(y.columns)-1):\n",
        "    y['label'] += y[y.columns[idx]] * int(idx > 1)"
      ],
      "execution_count": null,
      "outputs": []
    },
    {
      "cell_type": "code",
      "metadata": {
        "id": "SortDs4emlbk"
      },
      "source": [
        "X.set_index('id', inplace=True)\n",
        "y.set_index('id', inplace=True)"
      ],
      "execution_count": null,
      "outputs": []
    },
    {
      "cell_type": "code",
      "metadata": {
        "id": "qMnSkmGKwqgV"
      },
      "source": [
        "# X['animal'] = 0\n",
        "# for idx in range(5):\n",
        "#     X['animal'] += X[X.columns[idx]] * idx\n",
        "\n",
        "# X = X.drop(['cat', 'cow', 'dog', 'horse', 'sheep'], axis=1)\n",
        "\n",
        "X['bounds_width'] += X['bounds_x']\n",
        "X['bounds_height'] += X['bounds_y']"
      ],
      "execution_count": null,
      "outputs": []
    },
    {
      "cell_type": "code",
      "metadata": {
        "colab": {
          "base_uri": "https://localhost:8080/",
          "height": 530
        },
        "id": "T7mbiqXq3X0F",
        "outputId": "4e81d25e-435a-47e9-b9d2-819f4e72d3e9"
      },
      "source": [
        "def distrib_hist(y):\n",
        "    plt.rcParams['figure.figsize'] = (14, 8)\n",
        "    levels = list(sum(list(y[col])) for col in y.columns[:-1])\n",
        "    names = list(y.columns[:-1])\n",
        "\n",
        "    plt.bar(range(len(levels)), levels);\n",
        "    plt.xticks(range(len(levels)), names);\n",
        "    plt.ylabel('Number of class elements')\n",
        "    plt.xlabel('Classes')\n",
        "    plt.title(\"Distribution histogram\");\n",
        "\n",
        "    print(*levels)\n",
        "\n",
        "distrib_hist(y)"
      ],
      "execution_count": null,
      "outputs": [
        {
          "output_type": "stream",
          "text": [
            "550 102 103 129 83\n"
          ],
          "name": "stdout"
        },
        {
          "output_type": "display_data",
          "data": {
            "image/png": "[encoded data removed]",
            "text/plain": [
              "<Figure size 1008x576 with 1 Axes>"
            ]
          },
          "metadata": {
            "tags": [],
            "needs_background": "light"
          }
        }
      ]
    },
    {
      "cell_type": "code",
      "metadata": {
        "id": "gdfdhcI5nQgS",
        "colab": {
          "base_uri": "https://localhost:8080/"
        },
        "outputId": "0d64c689-3d7c-48e9-cde5-8b0d8e249159"
      },
      "source": [
        "X_train, X_test, y_train, y_test = train_test_split(X, y, test_size=0.4, random_state=22)\n",
        "X_val, X_test, y_val, y_test = train_test_split(X_test, y_test, test_size=0.4, random_state=22)\n",
        "\n",
        "print(f\"SPLIT\\nTrain:\\t{len(X_train)}\\nVal:\\t{len(X_val)}\\nTest:\\t{len(X_test)}\")"
      ],
      "execution_count": null,
      "outputs": [
        {
          "output_type": "stream",
          "text": [
            "SPLIT\n",
            "Train:\t580\n",
            "Val:\t232\n",
            "Test:\t155\n"
          ],
          "name": "stdout"
        }
      ]
    },
    {
      "cell_type": "code",
      "metadata": {
        "id": "LyoLBwfpHSRs"
      },
      "source": [
        "coord_columns = []\n",
        "for c in range(len(X_train.columns)):\n",
        "    column = X_train.columns[c]\n",
        "    if '_x' in column or '_width' in column or '_y' in column or '_height' in column:\n",
        "        coord_columns.append(c)\n",
        "\n",
        "delta = 0.001\n",
        "\n",
        "next_idx = float(max(list(map(int, X_train.index))) + 1)\n",
        "\n",
        "roof = max(list(sum(list(y_train[col])) for col in y_train.columns[:-1]))\n",
        "\n",
        "for idx in range(len(y_train.columns)-1):\n",
        "    list_index = 0\n",
        "    while sum(list(y_train[y_train.columns[idx]])) != roof:\n",
        "        indexes = list(map(int, X_train.index))\n",
        "        features = list(X_train.loc[indexes[list_index]])\n",
        "        answers = list(y_train.loc[indexes[list_index]])\n",
        "\n",
        "        if answers[-1] == idx:\n",
        "            for cc in coord_columns:\n",
        "                if features[cc] != 0:\n",
        "                    features[cc] += random.uniform(-delta, delta)\n",
        "            X_train = X_train.append(pd.Series(features, index=X_train.columns, name=next_idx))\n",
        "            y_train = y_train.append(pd.Series(answers, index=y_train.columns, name=next_idx))\n",
        "            next_idx += 1\n",
        "        list_index = (list_index + 1) % len(X_train)"
      ],
      "execution_count": null,
      "outputs": []
    },
    {
      "cell_type": "code",
      "metadata": {
        "colab": {
          "base_uri": "https://localhost:8080/",
          "height": 530
        },
        "id": "XtbTiK5lJxjS",
        "outputId": "68192c5b-c5f9-48b3-96d3-5e67476ed1aa"
      },
      "source": [
        "distrib_hist(y_train)"
      ],
      "execution_count": null,
      "outputs": [
        {
          "output_type": "stream",
          "text": [
            "335 335 335 335 335\n"
          ],
          "name": "stdout"
        },
        {
          "output_type": "display_data",
          "data": {
            "image/png": "[encoded data removed]",
            "text/plain": [
              "<Figure size 1008x576 with 1 Axes>"
            ]
          },
          "metadata": {
            "tags": [],
            "needs_background": "light"
          }
        }
      ]
    },
    {
      "cell_type": "markdown",
      "metadata": {
        "id": "x4mgkPL-xpHO"
      },
      "source": [
        "# LightGBM Classifier\n",
        "0.4261"
      ]
    },
    {
      "cell_type": "code",
      "metadata": {
        "id": "JZzpqqi_n-Tz"
      },
      "source": [
        "params = {'task': 'train',\n",
        "        'boosting_type': 'gbdt',\n",
        "        'objective': 'multiclass',\n",
        "        'num_class': 10,\n",
        "        'metric': 'multi_logloss',\n",
        "        'learning_rate': 0.003,\n",
        "        'max_depth': 10,\n",
        "        'num_leaves': 20}\n",
        "\n",
        "d_train = lgbm.Dataset(X_train, label=y_train['label'])\n",
        "\n",
        "num_epochs = 1000"
      ],
      "execution_count": null,
      "outputs": []
    },
    {
      "cell_type": "code",
      "metadata": {
        "id": "KcA9RsfZpNLg"
      },
      "source": [
        "lgbm_classifier = lgbm.train(params, d_train, num_epochs)"
      ],
      "execution_count": null,
      "outputs": []
    },
    {
      "cell_type": "code",
      "metadata": {
        "id": "eD93jB8DqBmf"
      },
      "source": [
        "y_pred = lgbm_classifier.predict(X_test)"
      ],
      "execution_count": null,
      "outputs": []
    },
    {
      "cell_type": "code",
      "metadata": {
        "id": "bFUOOoj6uNIJ"
      },
      "source": [
        "y_pred = [np.argmax(line) for line in y_pred]"
      ],
      "execution_count": null,
      "outputs": []
    },
    {
      "cell_type": "code",
      "metadata": {
        "colab": {
          "base_uri": "https://localhost:8080/"
        },
        "id": "l4ikDttSudRy",
        "outputId": "82c0c44a-bdc0-457d-94cd-fa03c0320822"
      },
      "source": [
        "precision_score(y_pred, y_test['label'], average=None).mean()"
      ],
      "execution_count": null,
      "outputs": [
        {
          "output_type": "execute_result",
          "data": {
            "text/plain": [
              "0.42230411495378234"
            ]
          },
          "metadata": {
            "tags": []
          },
          "execution_count": 37
        }
      ]
    },
    {
      "cell_type": "markdown",
      "metadata": {
        "id": "h2huov0dyFcu"
      },
      "source": [
        "# Catboost Classifier\n",
        "pure 0.6551 eval 0.9002 multiclass 69.7% test\n",
        "\n",
        "augm 0.6724 eval 0.8873 multiclass 69.7% test\n",
        "\n",
        "stand/not_stand 0.75 eval 0.5330 logloss 75.5% test\n",
        "\n",
        "sit/lie/go/run 0.67 eval 0.8882 multiclass 68.7% test"
      ]
    },
    {
      "cell_type": "markdown",
      "metadata": {
        "id": "mB0tbYEzqeL2"
      },
      "source": [
        "##### Классификация по всем классам"
      ]
    },
    {
      "cell_type": "code",
      "metadata": {
        "id": "qW5kZtmaqm4N"
      },
      "source": [
        "train_pool = Pool(data=X_train, label=y_train['label'])\n",
        "eval_pool = Pool(data=X_val, label=y_val['label'])"
      ],
      "execution_count": null,
      "outputs": []
    },
    {
      "cell_type": "code",
      "metadata": {
        "id": "4PAh_T4Bskl3"
      },
      "source": [
        "cat_classifier = CatBoostClassifier(\n",
        "    loss_function='MultiClass',\n",
        "    eval_metric='Accuracy',\n",
        "    use_best_model=True,\n",
        "    random_state = 22\n",
        ")"
      ],
      "execution_count": null,
      "outputs": []
    },
    {
      "cell_type": "code",
      "metadata": {
        "colab": {
          "base_uri": "https://localhost:8080/"
        },
        "id": "gOUvtdK3yZYM",
        "outputId": "e3cb5325-8d4d-49ab-e57d-83061b02d1df"
      },
      "source": [
        "cat_classifier.fit(train_pool, eval_set=eval_pool, verbose=False, plot=False)"
      ],
      "execution_count": null,
      "outputs": [
        {
          "output_type": "execute_result",
          "data": {
            "text/plain": [
              "<catboost.core.CatBoostClassifier at 0x7f68939e8e90>"
            ]
          },
          "metadata": {
            "tags": []
          },
          "execution_count": 27
        }
      ]
    },
    {
      "cell_type": "code",
      "metadata": {
        "colab": {
          "base_uri": "https://localhost:8080/"
        },
        "id": "BSEH4xTEykAu",
        "outputId": "35bf30ae-6b28-4eb3-f30f-077fd3425327"
      },
      "source": [
        "cat_classifier.get_best_score()"
      ],
      "execution_count": null,
      "outputs": [
        {
          "output_type": "execute_result",
          "data": {
            "text/plain": [
              "{'learn': {'Accuracy': 1.0, 'MultiClass': 0.009940162100151403},\n",
              " 'validation': {'Accuracy': 0.6724137931034483,\n",
              "  'MultiClass': 0.88734822981546}}"
            ]
          },
          "metadata": {
            "tags": []
          },
          "execution_count": 28
        }
      ]
    },
    {
      "cell_type": "code",
      "metadata": {
        "colab": {
          "base_uri": "https://localhost:8080/"
        },
        "id": "BWGxlW0GynjZ",
        "outputId": "e644dc2e-359e-4f8c-ec6e-2d900498c265"
      },
      "source": [
        "preds = cat_classifier.predict(X_test)\n",
        "targets = list(y_test[\"label\"])\n",
        "\n",
        "names = list(y_train.columns)[:-1]\n",
        "\n",
        "preds = cat_classifier.predict(X_test)\n",
        "targets = list(y_test[\"label\"])\n",
        "\n",
        "n = len(names)\n",
        "\n",
        "classes_count = [0] * n\n",
        "classes_correct = [0] * n\n",
        "\n",
        "for idx in range(len(targets)):\n",
        "    classes_count[targets[idx]] += 1\n",
        "    if targets[idx] == preds[idx]:\n",
        "        classes_correct[targets[idx]] += 1\n",
        "\n",
        "plt.rcParams['figure.figsize'] = (12, 7)\n",
        "plt.bar(range(n), classes_count, color=\"red\");\n",
        "plt.bar(range(n), classes_correct, color=\"green\");\n",
        "plt.xticks(range(n), names);\n",
        "plt.ylabel('Correct/Total number of class elements')\n",
        "plt.xlabel('Classes')\n",
        "plt.title(\"Prediction histogram\")\n",
        "plt.show()\n",
        "\n",
        "print()\n",
        "for idx in range(n):\n",
        "    print(\"{}:   {}/{}   {:.1f}%\".format(names[idx].title(), classes_correct[idx], classes_count[idx], 100*classes_correct[idx]/classes_count[idx]))\n",
        "\n",
        "print(\"\\ntotal:   {}/{}   {:.1f}%\".format(sum(classes_correct), sum(classes_count), 100*sum(classes_correct)/sum(classes_count)))"
      ],
      "execution_count": null,
      "outputs": [
        {
          "output_type": "display_data",
          "data": {
            "image/png": "[encoded data removed]",
            "text/plain": [
              "<Figure size 864x504 with 1 Axes>"
            ]
          },
          "metadata": {
            "tags": [],
            "needs_background": "light"
          }
        },
        {
          "output_type": "stream",
          "text": [
            "\n",
            "Stand:   70/86   81.4%\n",
            "Sit:   12/18   66.7%\n",
            "Lie:   6/13   46.2%\n",
            "Go:   16/31   51.6%\n",
            "Run:   4/7   57.1%\n",
            "\n",
            "total:   108/155   69.7%\n"
          ],
          "name": "stdout"
        }
      ]
    },
    {
      "cell_type": "code",
      "metadata": {
        "id": "fUZw68CE_hsU"
      },
      "source": [
        "cat_classifier.save_model('cat_classifier_pure5')"
      ],
      "execution_count": null,
      "outputs": []
    },
    {
      "cell_type": "code",
      "metadata": {
        "id": "XrqOY02EA2Qa"
      },
      "source": [
        "cat_classifier.save_model('cat_classifier_augm5')"
      ],
      "execution_count": null,
      "outputs": []
    },
    {
      "cell_type": "markdown",
      "metadata": {
        "id": "2929c_oGiMPe"
      },
      "source": [
        "##### Разбиение на 2 класса"
      ]
    },
    {
      "cell_type": "code",
      "metadata": {
        "id": "NgfFydp1u5O2"
      },
      "source": [
        "train_pool = Pool(data=X_train, label=y_train['label'])\n",
        "eval_pool = Pool(data=X_val, label=y_val['label']) "
      ],
      "execution_count": null,
      "outputs": []
    },
    {
      "cell_type": "code",
      "metadata": {
        "id": "ekkTMfgwhjWa"
      },
      "source": [
        "cat_classifier1 = CatBoostClassifier(\n",
        "    loss_function='Logloss',\n",
        "    eval_metric='Accuracy',\n",
        "    use_best_model=True,\n",
        "    random_state = 22\n",
        ")"
      ],
      "execution_count": null,
      "outputs": []
    },
    {
      "cell_type": "code",
      "metadata": {
        "colab": {
          "base_uri": "https://localhost:8080/"
        },
        "id": "PetgUkTZhnao",
        "outputId": "310e80fa-90e6-4724-a429-775f41f0f50a"
      },
      "source": [
        "cat_classifier1.fit(train_pool, eval_set=eval_pool, verbose=False, plot=False)"
      ],
      "execution_count": null,
      "outputs": [
        {
          "output_type": "execute_result",
          "data": {
            "text/plain": [
              "<catboost.core.CatBoostClassifier at 0x7f6893b25150>"
            ]
          },
          "metadata": {
            "tags": []
          },
          "execution_count": 40
        }
      ]
    },
    {
      "cell_type": "code",
      "metadata": {
        "colab": {
          "base_uri": "https://localhost:8080/"
        },
        "id": "lmgvvshzh0yM",
        "outputId": "fc1c2514-7998-4f62-de3d-d47a1dd9450d"
      },
      "source": [
        "cat_classifier1.get_best_score()"
      ],
      "execution_count": null,
      "outputs": [
        {
          "output_type": "execute_result",
          "data": {
            "text/plain": [
              "{'learn': {'Accuracy': 1.0, 'Logloss': 0.02146854091971445},\n",
              " 'validation': {'Accuracy': 0.75, 'Logloss': 0.5329601555342831}}"
            ]
          },
          "metadata": {
            "tags": []
          },
          "execution_count": 41
        }
      ]
    },
    {
      "cell_type": "code",
      "metadata": {
        "colab": {
          "base_uri": "https://localhost:8080/"
        },
        "id": "Ezckp1idiLGh",
        "outputId": "031bb8a1-5cc7-405d-b138-5e7dda27fb98"
      },
      "source": [
        "preds = cat_classifier1.predict(X_test)\n",
        "targets = list(y_test[\"label\"])\n",
        "\n",
        "names = ['stand', 'not stand']\n",
        "\n",
        "preds = cat_classifier1.predict(X_test)\n",
        "targets = list(y_test[\"label\"])\n",
        "\n",
        "n = len(names)\n",
        "\n",
        "classes_count = [0] * n\n",
        "classes_correct = [0] * n\n",
        "\n",
        "for idx in range(len(targets)):\n",
        "    classes_count[targets[idx]] += 1\n",
        "    if targets[idx] == preds[idx]:\n",
        "        classes_correct[targets[idx]] += 1\n",
        "\n",
        "plt.rcParams['figure.figsize'] = (6, 7)\n",
        "plt.bar(range(n), classes_count, color=\"red\");\n",
        "plt.bar(range(n), classes_correct, color=\"green\");\n",
        "plt.xticks(range(n), names);\n",
        "plt.ylabel('Correct/Total number of class elements')\n",
        "plt.xlabel('Classes')\n",
        "plt.title(\"Prediction histogram\")\n",
        "plt.show()\n",
        "\n",
        "print()\n",
        "for idx in range(n):\n",
        "    print(\"{}:   {}/{}   {:.1f}%\".format(names[idx].title(), classes_correct[idx], classes_count[idx], 100*classes_correct[idx]/classes_count[idx]))\n",
        "\n",
        "print(\"\\ntotal:   {}/{}   {:.1f}%\".format(sum(classes_correct), sum(classes_count), 100*sum(classes_correct)/sum(classes_count)))"
      ],
      "execution_count": null,
      "outputs": [
        {
          "output_type": "display_data",
          "data": {
            "image/png": "[encoded data removed]",
            "text/plain": [
              "<Figure size 432x504 with 1 Axes>"
            ]
          },
          "metadata": {
            "tags": [],
            "needs_background": "light"
          }
        },
        {
          "output_type": "stream",
          "text": [
            "\n",
            "Stand:   74/86   86.0%\n",
            "Not Stand:   43/69   62.3%\n",
            "\n",
            "total:   117/155   75.5%\n"
          ],
          "name": "stdout"
        }
      ]
    },
    {
      "cell_type": "code",
      "metadata": {
        "id": "Of4wUPKiDGWY"
      },
      "source": [
        "cat_classifier1.save_model('cat_classifier_stand2')"
      ],
      "execution_count": null,
      "outputs": []
    },
    {
      "cell_type": "markdown",
      "metadata": {
        "id": "7xvhcZHcqVx_"
      },
      "source": [
        "##### Разбиение оставшихся 4 классов"
      ]
    },
    {
      "cell_type": "code",
      "metadata": {
        "colab": {
          "base_uri": "https://localhost:8080/"
        },
        "id": "a42q6LsFjcdg",
        "outputId": "3c5afe08-0858-4ed1-88b1-f705442815b3"
      },
      "source": [
        "next_idx = 0\n",
        "\n",
        "X_new = pd.DataFrame()\n",
        "y_new = pd.DataFrame()\n",
        "\n",
        "for idx in list(map(int, X.index)):\n",
        "    features = list(X.loc[idx])\n",
        "    answers = list(y.loc[idx])\n",
        "\n",
        "    if answers[-1] == 1:\n",
        "        X_new = X_new.append(pd.Series(features, index=X.columns, name=next_idx))\n",
        "        y_new = y_new.append(pd.Series(answers, index=y.columns, name=next_idx))\n",
        "        next_idx += 1\n",
        "\n",
        "y_new.pop('stand')"
      ],
      "execution_count": null,
      "outputs": [
        {
          "output_type": "execute_result",
          "data": {
            "text/plain": [
              "0      0.0\n",
              "1      0.0\n",
              "2      0.0\n",
              "3      0.0\n",
              "4      0.0\n",
              "      ... \n",
              "412    0.0\n",
              "413    0.0\n",
              "414    0.0\n",
              "415    0.0\n",
              "416    0.0\n",
              "Name: stand, Length: 417, dtype: float64"
            ]
          },
          "metadata": {
            "tags": []
          },
          "execution_count": 44
        }
      ]
    },
    {
      "cell_type": "code",
      "metadata": {
        "id": "Dll9uWX9kxzy"
      },
      "source": [
        "y_new['label'] = 0\n",
        "\n",
        "y_columns = list(y.columns)\n",
        "y_columns.remove('label')\n",
        "y_columns.remove('stand')\n",
        "\n",
        "for idx in range(len(y_columns)):\n",
        "    y_new['label'] += y_new[y_columns[idx]] * idx\n",
        "    \n",
        "y_new = y_new.astype(int)"
      ],
      "execution_count": null,
      "outputs": []
    },
    {
      "cell_type": "code",
      "metadata": {
        "colab": {
          "base_uri": "https://localhost:8080/"
        },
        "id": "mmt3wnRtmIE5",
        "outputId": "dcaffccc-be66-4ff7-fd87-7f3555746e6c"
      },
      "source": [
        "y_new"
      ],
      "execution_count": null,
      "outputs": [
        {
          "output_type": "execute_result",
          "data": {
            "text/html": [
              "<div>\n",
              "<style scoped>\n",
              "    .dataframe tbody tr th:only-of-type {\n",
              "        vertical-align: middle;\n",
              "    }\n",
              "\n",
              "    .dataframe tbody tr th {\n",
              "        vertical-align: top;\n",
              "    }\n",
              "\n",
              "    .dataframe thead th {\n",
              "        text-align: right;\n",
              "    }\n",
              "</style>\n",
              "<table border=\"1\" class=\"dataframe\">\n",
              "  <thead>\n",
              "    <tr style=\"text-align: right;\">\n",
              "      <th></th>\n",
              "      <th>go</th>\n",
              "      <th>label</th>\n",
              "      <th>lie</th>\n",
              "      <th>run</th>\n",
              "      <th>sit</th>\n",
              "    </tr>\n",
              "  </thead>\n",
              "  <tbody>\n",
              "    <tr>\n",
              "      <th>0</th>\n",
              "      <td>0</td>\n",
              "      <td>1</td>\n",
              "      <td>1</td>\n",
              "      <td>0</td>\n",
              "      <td>0</td>\n",
              "    </tr>\n",
              "    <tr>\n",
              "      <th>1</th>\n",
              "      <td>0</td>\n",
              "      <td>1</td>\n",
              "      <td>1</td>\n",
              "      <td>0</td>\n",
              "      <td>0</td>\n",
              "    </tr>\n",
              "    <tr>\n",
              "      <th>2</th>\n",
              "      <td>0</td>\n",
              "      <td>0</td>\n",
              "      <td>0</td>\n",
              "      <td>0</td>\n",
              "      <td>1</td>\n",
              "    </tr>\n",
              "    <tr>\n",
              "      <th>3</th>\n",
              "      <td>0</td>\n",
              "      <td>0</td>\n",
              "      <td>0</td>\n",
              "      <td>0</td>\n",
              "      <td>1</td>\n",
              "    </tr>\n",
              "    <tr>\n",
              "      <th>4</th>\n",
              "      <td>0</td>\n",
              "      <td>0</td>\n",
              "      <td>0</td>\n",
              "      <td>0</td>\n",
              "      <td>1</td>\n",
              "    </tr>\n",
              "    <tr>\n",
              "      <th>...</th>\n",
              "      <td>...</td>\n",
              "      <td>...</td>\n",
              "      <td>...</td>\n",
              "      <td>...</td>\n",
              "      <td>...</td>\n",
              "    </tr>\n",
              "    <tr>\n",
              "      <th>412</th>\n",
              "      <td>1</td>\n",
              "      <td>2</td>\n",
              "      <td>0</td>\n",
              "      <td>0</td>\n",
              "      <td>0</td>\n",
              "    </tr>\n",
              "    <tr>\n",
              "      <th>413</th>\n",
              "      <td>1</td>\n",
              "      <td>2</td>\n",
              "      <td>0</td>\n",
              "      <td>0</td>\n",
              "      <td>0</td>\n",
              "    </tr>\n",
              "    <tr>\n",
              "      <th>414</th>\n",
              "      <td>1</td>\n",
              "      <td>2</td>\n",
              "      <td>0</td>\n",
              "      <td>0</td>\n",
              "      <td>0</td>\n",
              "    </tr>\n",
              "    <tr>\n",
              "      <th>415</th>\n",
              "      <td>0</td>\n",
              "      <td>3</td>\n",
              "      <td>0</td>\n",
              "      <td>1</td>\n",
              "      <td>0</td>\n",
              "    </tr>\n",
              "    <tr>\n",
              "      <th>416</th>\n",
              "      <td>1</td>\n",
              "      <td>2</td>\n",
              "      <td>0</td>\n",
              "      <td>0</td>\n",
              "      <td>0</td>\n",
              "    </tr>\n",
              "  </tbody>\n",
              "</table>\n",
              "<p>417 rows × 5 columns</p>\n",
              "</div>"
            ],
            "text/plain": [
              "     go  label  lie  run  sit\n",
              "0     0      1    1    0    0\n",
              "1     0      1    1    0    0\n",
              "2     0      0    0    0    1\n",
              "3     0      0    0    0    1\n",
              "4     0      0    0    0    1\n",
              "..   ..    ...  ...  ...  ...\n",
              "412   1      2    0    0    0\n",
              "413   1      2    0    0    0\n",
              "414   1      2    0    0    0\n",
              "415   0      3    0    1    0\n",
              "416   1      2    0    0    0\n",
              "\n",
              "[417 rows x 5 columns]"
            ]
          },
          "metadata": {
            "tags": []
          },
          "execution_count": 46
        }
      ]
    },
    {
      "cell_type": "code",
      "metadata": {
        "colab": {
          "base_uri": "https://localhost:8080/"
        },
        "id": "HI_zSw_Iomb8",
        "outputId": "5aa8eb5f-313c-4a9f-ff5d-f221ebd5d55f"
      },
      "source": [
        "X_new_train, X_new_test, y_new_train, y_new_test = train_test_split(X_new, y_new, test_size=0.4, random_state=22)\n",
        "X_new_val, X_new_test, y_new_val, y_new_test = train_test_split(X_new_test, y_new_test, test_size=0.4, random_state=22)\n",
        "\n",
        "print(f\"SPLIT\\nTrain:\\t{len(X_new_train)}\\nVal:\\t{len(X_new_val)}\\nTest:\\t{len(X_new_test)}\")"
      ],
      "execution_count": null,
      "outputs": [
        {
          "output_type": "stream",
          "text": [
            "SPLIT\n",
            "Train:\t250\n",
            "Val:\t100\n",
            "Test:\t67\n"
          ],
          "name": "stdout"
        }
      ]
    },
    {
      "cell_type": "code",
      "metadata": {
        "id": "sNP-k7Ibo4LW"
      },
      "source": [
        "train_pool = Pool(data=X_new_train, label=y_new_train['label'])\n",
        "eval_pool = Pool(data=X_new_val, label=y_new_val['label']) "
      ],
      "execution_count": null,
      "outputs": []
    },
    {
      "cell_type": "code",
      "metadata": {
        "id": "6slQ5lIMyqDs"
      },
      "source": [
        "cat_classifier2 = CatBoostClassifier(\n",
        "    loss_function='MultiClass',\n",
        "    eval_metric='Accuracy',\n",
        "    use_best_model=True,\n",
        "    random_state = 22\n",
        ")"
      ],
      "execution_count": null,
      "outputs": []
    },
    {
      "cell_type": "code",
      "metadata": {
        "id": "0k6IwSaUy1yn",
        "colab": {
          "base_uri": "https://localhost:8080/"
        },
        "outputId": "35636d8f-c21e-4da1-fe66-b2991cbe1ccd"
      },
      "source": [
        "cat_classifier2.fit(train_pool, eval_set=eval_pool, verbose=False, plot=False)"
      ],
      "execution_count": null,
      "outputs": [
        {
          "output_type": "execute_result",
          "data": {
            "text/plain": [
              "<catboost.core.CatBoostClassifier at 0x7f689396c250>"
            ]
          },
          "metadata": {
            "tags": []
          },
          "execution_count": 50
        }
      ]
    },
    {
      "cell_type": "code",
      "metadata": {
        "colab": {
          "base_uri": "https://localhost:8080/"
        },
        "id": "Uvtr_5d3Uzcz",
        "outputId": "e54450cd-de6c-4fee-8840-dbd82732d439"
      },
      "source": [
        "cat_classifier2.get_best_score()"
      ],
      "execution_count": null,
      "outputs": [
        {
          "output_type": "execute_result",
          "data": {
            "text/plain": [
              "{'learn': {'Accuracy': 1.0, 'MultiClass': 0.01431540118261365},\n",
              " 'validation': {'Accuracy': 0.67, 'MultiClass': 0.888259865216044}}"
            ]
          },
          "metadata": {
            "tags": []
          },
          "execution_count": 51
        }
      ]
    },
    {
      "cell_type": "code",
      "metadata": {
        "colab": {
          "base_uri": "https://localhost:8080/"
        },
        "id": "n0yaN2dRbSo6",
        "outputId": "8b99c2ba-d5a6-4d70-fe16-37ca0c087089"
      },
      "source": [
        "preds = cat_classifier2.predict(X_new_test)\n",
        "targets = list(y_new_test[\"label\"])\n",
        "\n",
        "names = y_columns\n",
        "\n",
        "preds = cat_classifier2.predict(X_new_test)\n",
        "targets = list(y_new_test[\"label\"])\n",
        "\n",
        "n = len(names)\n",
        "\n",
        "classes_count = [0] * n\n",
        "classes_correct = [0] * n\n",
        "\n",
        "for idx in range(len(targets)):\n",
        "    classes_count[targets[idx]] += 1\n",
        "    if targets[idx] == preds[idx]:\n",
        "        classes_correct[targets[idx]] += 1\n",
        "\n",
        "plt.rcParams['figure.figsize'] = (14, 8)\n",
        "plt.bar(range(n), classes_count, color=\"red\");\n",
        "plt.bar(range(n), classes_correct, color=\"green\");\n",
        "plt.xticks(range(n), names);\n",
        "plt.ylabel('Correct/Total number of class elements')\n",
        "plt.xlabel('Classes')\n",
        "plt.title(\"Prediction histogram\")\n",
        "plt.show()\n",
        "\n",
        "print()\n",
        "for idx in range(n):\n",
        "    print(\"{}:   {}/{}   {:.1f}%\".format(names[idx].title(), classes_correct[idx], classes_count[idx], 100*classes_correct[idx]/classes_count[idx]))\n",
        "\n",
        "print(\"\\ntotal:   {}/{}   {:.1f}%\".format(sum(classes_correct), sum(classes_count), 100*sum(classes_correct)/sum(classes_count)))"
      ],
      "execution_count": null,
      "outputs": [
        {
          "output_type": "display_data",
          "data": {
            "image/png": "[encoded data removed]",
            "text/plain": [
              "<Figure size 1008x576 with 1 Axes>"
            ]
          },
          "metadata": {
            "tags": [],
            "needs_background": "light"
          }
        },
        {
          "output_type": "stream",
          "text": [
            "\n",
            "Sit:   10/16   62.5%\n",
            "Lie:   11/18   61.1%\n",
            "Go:   20/22   90.9%\n",
            "Run:   5/11   45.5%\n",
            "\n",
            "total:   46/67   68.7%\n"
          ],
          "name": "stdout"
        }
      ]
    },
    {
      "cell_type": "code",
      "metadata": {
        "id": "6lTMAOlJ0XvI"
      },
      "source": [
        "cat_classifier2.save_model('cat_classifier_last4')"
      ],
      "execution_count": null,
      "outputs": []
    },
    {
      "cell_type": "markdown",
      "metadata": {
        "id": "SodqLenCm0Zu"
      },
      "source": [
        "# MyNet\n",
        "0.6341"
      ]
    },
    {
      "cell_type": "code",
      "metadata": {
        "id": "9brCCXjrU1VT"
      },
      "source": [
        "class AnimalsDataset(Dataset):\n",
        "    def __init__(self, csv_file, root_dir, transform=None):\n",
        "        self.data = csv_file\n",
        "        self.root_dir = root_dir\n",
        "        self.transform = transform\n",
        "\n",
        "    def __len__(self):\n",
        "        return len(self.data)\n",
        "\n",
        "    def __getitem__(self, idx):\n",
        "        img_idx = self.data.iloc[idx, 0]\n",
        "        img_name = os.path.join(self.root_dir, \"0\"*(3-len(str(img_idx))) + str(img_idx) + \".jpeg\")\n",
        "        image = Image.open(img_name)\n",
        "        features = self.data.iloc[idx, 1:].to_numpy()\n",
        "\n",
        "        if self.transform:\n",
        "            image = self.transform(image)\n",
        "\n",
        "        sample = (image, features)\n",
        "\n",
        "        return sample"
      ],
      "execution_count": null,
      "outputs": []
    },
    {
      "cell_type": "code",
      "metadata": {
        "id": "mIA38WnanNoS"
      },
      "source": [
        "target_size = (188, 188)"
      ],
      "execution_count": null,
      "outputs": []
    },
    {
      "cell_type": "code",
      "metadata": {
        "colab": {
          "base_uri": "https://localhost:8080/"
        },
        "id": "7QE5flz9nQF5",
        "outputId": "c1e4805e-54ba-49da-aeec-6ac98d9ac1d1"
      },
      "source": [
        "train_transforms = transforms.Compose([\n",
        "        transforms.Resize(target_size),\n",
        "        transforms.ToTensor()\n",
        "])\n",
        "\n",
        "\n",
        "for column in df.columns:\n",
        "    if '_x' in column or '_width' in column or '_y' in column or '_height' in column:\n",
        "        df[column] = df[column].astype(float)\n",
        "\n",
        "df_dict = df.to_dict()\n",
        "\n",
        "for idx in df_dict['id'].values():\n",
        "    img_name = os.path.join(data_dir, 'animals', \"0\"*(3-len(str(idx))) + str(idx) + \".jpeg\")\n",
        "    image = Image.open(img_name)\n",
        "    x_size, y_size = image.size\n",
        "    for column in df_dict.keys():\n",
        "        if '_x' in column or '_width' in column:\n",
        "            df_dict[column][idx] /= x_size\n",
        "        elif '_y' in column or '_height' in column:\n",
        "            df_dict[column][idx] /= y_size\n",
        "\n",
        "df = pd.DataFrame.from_dict(df_dict)\n",
        "\n",
        "dataset = AnimalsDataset(csv_file=df, root_dir=os.path.join(data_dir, 'animals'), transform=train_transforms)\n",
        "\n",
        "print(f\"Экземпляров в датасете: {len(dataset)}\")"
      ],
      "execution_count": null,
      "outputs": [
        {
          "output_type": "stream",
          "text": [
            "Экземпляров в датасете: 967\n"
          ],
          "name": "stdout"
        }
      ]
    },
    {
      "cell_type": "code",
      "metadata": {
        "id": "k5QWFGkro5hM"
      },
      "source": [
        "train_set, val_set, test_set = torch.utils.data.random_split(dataset, [580, 232, 155])\n",
        "\n",
        "batch_size = 20\n",
        "num_workers = 0\n",
        "\n",
        "train_dataloader = DataLoader(train_set, batch_size=batch_size, shuffle=True, num_workers=num_workers)\n",
        "val_dataloader = DataLoader(val_set, batch_size=batch_size, shuffle=True, num_workers=num_workers)\n",
        "test_dataloader = DataLoader(test_set, batch_size=batch_size, shuffle=True, num_workers=num_workers)"
      ],
      "execution_count": null,
      "outputs": []
    },
    {
      "cell_type": "code",
      "metadata": {
        "colab": {
          "base_uri": "https://localhost:8080/"
        },
        "id": "Hrsa36JYpJnF",
        "outputId": "e4dd19d0-626b-4ea0-aaf4-600b7686cc6e"
      },
      "source": [
        "device = torch.device(\"cuda:0\" if torch.cuda.is_available() else \"cpu\")\n",
        "print(\"Device:\", device)"
      ],
      "execution_count": null,
      "outputs": [
        {
          "output_type": "stream",
          "text": [
            "Device: cuda:0\n"
          ],
          "name": "stdout"
        }
      ]
    },
    {
      "cell_type": "code",
      "metadata": {
        "id": "c1vvS1gnpb0E"
      },
      "source": [
        "class MyNet(nn.Module):\n",
        "    def __init__(self):\n",
        "        super(MyNet, self).__init__()\n",
        "        self.conv1 = nn.Conv2d(3, 10, kernel_size=3)\n",
        "        self.conv1_1 = nn.Conv2d(10, 10, kernel_size=3)\n",
        "        self.conv2 = nn.Conv2d(10, 20, kernel_size=3)\n",
        "        self.conv3 = nn.Conv2d(20, 20, kernel_size=3)\n",
        "        self.conv4 = nn.Conv2d(20, 30, kernel_size=3)\n",
        "\n",
        "        self.fc1 = nn.Linear(1280, 640)\n",
        "        self.fc2 = nn.Linear(640, 300)\n",
        "        self.fc3 = nn.Linear(300, 100)\n",
        "        self.fc4 = nn.Linear(100, 31)\n",
        "\n",
        "        self.fc5 = nn.Linear(100, 60)\n",
        "        self.fc6 = nn.Linear(60, 30)\n",
        "        self.fc7 = nn.Linear(30, 20)\n",
        "        self.fc8 = nn.Linear(20, 9)\n",
        "\n",
        "        self.dropout = nn.Dropout2d()\n",
        "        self.bn21 = nn.BatchNorm2d(10)\n",
        "        self.bn22 = nn.BatchNorm2d(20)\n",
        "        self.bn11 = nn.BatchNorm1d(60)\n",
        "        self.bn12 = nn.BatchNorm1d(30)\n",
        "        self.bn13 = nn.BatchNorm1d(20)\n",
        "\n",
        "\n",
        "    \n",
        "    def forward(self, x, x1):\n",
        "        # input is 256x256x3\n",
        "        # conv1(kernel=3, filters=10)x2 188x188x3 -> 184x184x10\n",
        "        # max_pool(kernel=2) 184x184x10 -> 92x92x10\n",
        "        x = F.relu(self.bn21(F.max_pool2d(self.conv1_1(self.conv1(x)), 2)))\n",
        "        \n",
        "        # conv2(kernel=3, filters=20)x2 92x92x10 -> 88x88x20\n",
        "        # max_pool(kernel=2) 88x88x20 -> 44x44x20\n",
        "        x = F.relu(self.bn22(F.max_pool2d(self.dropout(self.conv3(self.conv2(x))), 2)))\n",
        "\n",
        "        # conv2(kernel=3, filters=20)x2 44x44x20 -> 40x40x20\n",
        "        # max_pool(kernel=2) 40x40x20 -> 20x20x20\n",
        "        x = F.relu(self.bn22(F.max_pool2d(self.dropout(self.conv3(self.conv3(x))), 2)))\n",
        "\n",
        "        # conv2(kernel=3, filters=20)x2 20x20x20 -> 16x16x20\n",
        "        # max_pool(kernel=2) 16x16x20 -> 8x8x20\n",
        "        x = F.relu(self.bn22(F.max_pool2d(self.dropout(self.conv3(self.conv3(x))), 2)))\n",
        "        \n",
        "        # flatten 8x8x20 = 1280\n",
        "        x = x.view(-1, 1280)\n",
        "        \n",
        "        # 1280 -> 640\n",
        "        x = F.relu(self.fc1(x))\n",
        "        x = F.dropout(x, training=self.training)\n",
        "\n",
        "        # 640 -> 300\n",
        "        x = F.relu(self.fc2(x))\n",
        "        x = F.dropout(x, training=self.training)\n",
        "\n",
        "        # 300 -> 100\n",
        "        x = F.relu(self.fc3(x))\n",
        "        x = F.dropout(x, training=self.training)\n",
        "        \n",
        "        # 100 -> 31\n",
        "        x = F.softmax(self.fc4(x))\n",
        "        \n",
        "        # 31 + 69 = 100\n",
        "        x = torch.cat((x, x1.float()), dim=1)\n",
        "\n",
        "        # 100 -> 60\n",
        "        x = F.relu(self.bn11(self.fc5(x)))\n",
        "        x = F.dropout(x, training=self.training)\n",
        "\n",
        "        # 60 -> 30\n",
        "        x = F.relu(self.bn12(self.fc6(x)))\n",
        "        x = F.dropout(x, training=self.training)\n",
        "\n",
        "        # 30 -> 20\n",
        "        x = F.relu(self.bn13(self.fc7(x)))\n",
        "        x = F.dropout(x, training=self.training)\n",
        "\n",
        "        # 20 -> 9\n",
        "        x = self.fc8(x)\n",
        "\n",
        "        return F.log_softmax(x)"
      ],
      "execution_count": null,
      "outputs": []
    },
    {
      "cell_type": "code",
      "metadata": {
        "id": "XO-GujUPy6Ri"
      },
      "source": [
        "model = MyNet()\n",
        "model.to(device)\n",
        "\n",
        "criterion = nn.NLLLoss()\n",
        "\n",
        "params = [p for p in model.parameters() if p.requires_grad]\n",
        "optimizer = torch.optim.Adam(params, amsgrad=True, lr=0.001)\n",
        "\n",
        "loss_history = {'train':[], 'val':[]}\n",
        "acc_history = []"
      ],
      "execution_count": null,
      "outputs": []
    },
    {
      "cell_type": "code",
      "metadata": {
        "id": "eJMtu_Pzy8Zi"
      },
      "source": [
        "def train():\n",
        "    model.train()\n",
        "\n",
        "    running_loss = 0.\n",
        "    for images, targets in train_dataloader:\n",
        "        images = images.to(device)\n",
        "        targets = targets.to(device)\n",
        "        x1, answers = targets[:, :-9], torch.max(targets[:, -9:], 1)[1]\n",
        "\n",
        "        images = Variable(images)\n",
        "        x1 = Variable(x1)\n",
        "        answers = Variable(answers)\n",
        "\n",
        "        optimizer.zero_grad()\n",
        "\n",
        "        with torch.set_grad_enabled(True):\n",
        "            preds = model(images, x1)\n",
        "\n",
        "            loss = criterion(preds, answers)\n",
        "            loss.backward()\n",
        "            running_loss += loss.item() / len(images)\n",
        "\n",
        "            optimizer.step()\n",
        "\n",
        "    epoch_loss = running_loss/len(train_dataloader)\n",
        "    loss_history['train'].append(epoch_loss)\n",
        "    print('TRAIN Average loss: {:.4f}'.format(epoch_loss))"
      ],
      "execution_count": null,
      "outputs": []
    },
    {
      "cell_type": "code",
      "metadata": {
        "id": "YQWNEj4wy9zL"
      },
      "source": [
        "def val():\n",
        "    model.eval()\n",
        "\n",
        "    running_loss = 0.\n",
        "    correct = 0\n",
        "    for images, targets in val_dataloader:\n",
        "        images = images.to(device)\n",
        "        targets = targets.to(device)\n",
        "        x1, answers = targets[:, :-9], torch.max(targets[:, -9:], 1)[1]\n",
        "\n",
        "        images = Variable(images)\n",
        "        x1 = Variable(x1)\n",
        "        answers = Variable(answers)\n",
        "        \n",
        "        with torch.no_grad():\n",
        "            preds = model(images, x1)\n",
        "            loss = criterion(preds, answers)\n",
        "            running_loss += loss.item() / len(images)\n",
        "\n",
        "            pred = torch.max(preds.data, 1)[1]\n",
        "            correct += pred.eq(answers.data).cpu().sum() / len(images)\n",
        "\n",
        "\n",
        "    epoch_loss = running_loss/len(val_dataloader)\n",
        "    loss_history['val'].append(epoch_loss)\n",
        "    accuracy = correct / len(val_dataloader)\n",
        "    acc_history.append(accuracy)\n",
        "    print('EVAL  Average loss: {:.4f}, Accuracy: {:.4f}\\n'.format(epoch_loss, accuracy))"
      ],
      "execution_count": null,
      "outputs": []
    },
    {
      "cell_type": "code",
      "metadata": {
        "id": "5-ki753Vy_pb",
        "colab": {
          "base_uri": "https://localhost:8080/"
        },
        "outputId": "bd3f4d9b-65d2-4299-f89a-a953d3520e8a"
      },
      "source": [
        "num_epochs = 15\n",
        "\n",
        "for epoch in range(num_epochs):\n",
        "    print(\"Epoch %d\" % epoch)\n",
        "    train()\n",
        "    val()"
      ],
      "execution_count": null,
      "outputs": [
        {
          "output_type": "stream",
          "text": [
            "Epoch 0\n"
          ],
          "name": "stdout"
        },
        {
          "output_type": "stream",
          "text": [
            "/usr/local/lib/python3.7/dist-packages/ipykernel_launcher.py:63: UserWarning: Implicit dimension choice for softmax has been deprecated. Change the call to include dim=X as an argument.\n",
            "/usr/local/lib/python3.7/dist-packages/ipykernel_launcher.py:83: UserWarning: Implicit dimension choice for log_softmax has been deprecated. Change the call to include dim=X as an argument.\n"
          ],
          "name": "stderr"
        },
        {
          "output_type": "stream",
          "text": [
            "TRAIN Average loss: 0.1136\n",
            "EVAL  Average loss: 0.1141, Accuracy: 0.0611\n",
            "\n",
            "Epoch 1\n",
            "TRAIN Average loss: 0.1048\n",
            "EVAL  Average loss: 0.1064, Accuracy: 0.2958\n",
            "\n",
            "Epoch 2\n",
            "TRAIN Average loss: 0.0971\n",
            "EVAL  Average loss: 0.1006, Accuracy: 0.4403\n",
            "\n",
            "Epoch 3\n",
            "TRAIN Average loss: 0.0922\n",
            "EVAL  Average loss: 0.0972, Accuracy: 0.4583\n",
            "\n",
            "Epoch 4\n",
            "TRAIN Average loss: 0.0888\n",
            "EVAL  Average loss: 0.0924, Accuracy: 0.5292\n",
            "\n",
            "Epoch 5\n",
            "TRAIN Average loss: 0.0846\n",
            "EVAL  Average loss: 0.0901, Accuracy: 0.5708\n",
            "\n",
            "Epoch 6\n",
            "TRAIN Average loss: 0.0832\n",
            "EVAL  Average loss: 0.0851, Accuracy: 0.5833\n",
            "\n",
            "Epoch 7\n",
            "TRAIN Average loss: 0.0814\n",
            "EVAL  Average loss: 0.0832, Accuracy: 0.5806\n",
            "\n",
            "Epoch 8\n",
            "TRAIN Average loss: 0.0812\n",
            "EVAL  Average loss: 0.0832, Accuracy: 0.5722\n",
            "\n",
            "Epoch 9\n",
            "TRAIN Average loss: 0.0769\n",
            "EVAL  Average loss: 0.0802, Accuracy: 0.5778\n",
            "\n",
            "Epoch 10\n",
            "TRAIN Average loss: 0.0779\n",
            "EVAL  Average loss: 0.0752, Accuracy: 0.5833\n",
            "\n",
            "Epoch 11\n",
            "TRAIN Average loss: 0.0787\n",
            "EVAL  Average loss: 0.0767, Accuracy: 0.5750\n",
            "\n",
            "Epoch 12\n",
            "TRAIN Average loss: 0.0762\n",
            "EVAL  Average loss: 0.0731, Accuracy: 0.5861\n",
            "\n",
            "Epoch 13\n",
            "TRAIN Average loss: 0.0753\n",
            "EVAL  Average loss: 0.0729, Accuracy: 0.5972\n",
            "\n",
            "Epoch 14\n",
            "TRAIN Average loss: 0.0745\n",
            "EVAL  Average loss: 0.0753, Accuracy: 0.5861\n",
            "\n"
          ],
          "name": "stdout"
        }
      ]
    },
    {
      "cell_type": "code",
      "metadata": {
        "colab": {
          "base_uri": "https://localhost:8080/"
        },
        "id": "JLMP1uhQueJ1",
        "outputId": "54adf1af-972a-4a89-c77b-bb571768e148"
      },
      "source": [
        "plt.rcParams['figure.figsize'] = (12, 8)\n",
        "plt.plot(loss_history['train'], label='train')\n",
        "plt.plot(loss_history['val'], label='eval')\n",
        "plt.legend()\n",
        "plt.title('Loss');\n",
        "print('Best loss train: {:.4f}'.format(min(loss_history['train'])))\n",
        "print('Best loss eval: {:.4f}'.format(min(loss_history['val'])))\n",
        "plt.show()\n",
        "\n",
        "print()\n",
        "\n",
        "plt.plot(acc_history, label='eval')\n",
        "plt.legend()\n",
        "plt.title('Accuracy');\n",
        "print('Best acc: {:.4f}'.format(max(acc_history)))\n",
        "plt.show()"
      ],
      "execution_count": null,
      "outputs": [
        {
          "output_type": "stream",
          "text": [
            "Best loss train: 0.0745\n",
            "Best loss eval: 0.0729\n"
          ],
          "name": "stdout"
        },
        {
          "output_type": "display_data",
          "data": {
            "image/png": "[encoded data removed]",
            "text/plain": [
              "<Figure size 864x576 with 1 Axes>"
            ]
          },
          "metadata": {
            "tags": [],
            "needs_background": "light"
          }
        },
        {
          "output_type": "stream",
          "text": [
            "\n",
            "Best acc: 0.5972\n"
          ],
          "name": "stdout"
        },
        {
          "output_type": "display_data",
          "data": {
            "image/png": "[encoded data removed]",
            "text/plain": [
              "<Figure size 864x576 with 1 Axes>"
            ]
          },
          "metadata": {
            "tags": [],
            "needs_background": "light"
          }
        }
      ]
    },
    {
      "cell_type": "code",
      "metadata": {
        "colab": {
          "base_uri": "https://localhost:8080/"
        },
        "id": "mo7twhZvijj3",
        "outputId": "3ef98e8f-7802-4b77-ff01-06b2ed00ad52"
      },
      "source": [
        "model.eval()\n",
        "\n",
        "classes_count = [0] * 10\n",
        "classes_correct = [0] * 10\n",
        "\n",
        "for images, targets in test_dataloader:\n",
        "    images = images.to(device)\n",
        "    targets = targets.to(device)\n",
        "    x1, answers = targets[:, :-9], torch.max(targets[:, -9:], 1)[1]\n",
        "\n",
        "    images = Variable(images)\n",
        "    x1 = Variable(x1)\n",
        "    answers = Variable(answers)\n",
        "    \n",
        "    with torch.no_grad():\n",
        "        preds = model(images, x1)\n",
        "\n",
        "        preds = preds.cpu()\n",
        "        pred_max = torch.exp(torch.max(preds.data, 1)[0]).tolist()\n",
        "        pred_class = (torch.max(preds.data, 1)[1]+1).tolist()\n",
        "        answers = answers.tolist()\n",
        "\n",
        "        for idx in range(len(pred_class)):\n",
        "            if pred_max[idx] < 0.5:\n",
        "                pred_class[idx] = 0\n",
        "\n",
        "            classes_count[answers[idx]] += 1\n",
        "            if answers[idx] == pred_class[idx]:\n",
        "                classes_correct[answers[idx]] += 1\n",
        "\n",
        "plt.rcParams['figure.figsize'] = (14, 8)\n",
        "plt.bar(range(10), classes_count, color=\"red\");\n",
        "plt.bar(range(10), classes_correct, color=\"green\");\n",
        "plt.xticks(range(10), names);\n",
        "plt.ylabel('Correct/Total number of class elements')\n",
        "plt.xlabel('Classes')\n",
        "plt.title(\"Prediction histogram\")\n",
        "plt.show()\n",
        "\n",
        "print()\n",
        "for idx in range(10):\n",
        "    if classes_count[idx] != 0:\n",
        "        print(\"{}:   {}/{}   {:.1f}%\".format(names[idx].title(), classes_correct[idx], classes_count[idx], 100*classes_correct[idx]/classes_count[idx]))\n",
        "    else:\n",
        "        print(\"{}:   {}/{}\".format(names[idx].title(), classes_correct[idx], classes_count[idx]))\n",
        "\n",
        "print(\"\\ntotal:   {}/{}   {:.1f}%\".format(sum(classes_correct), sum(classes_count), 100*sum(classes_correct)/sum(classes_count)))"
      ],
      "execution_count": null,
      "outputs": [
        {
          "output_type": "stream",
          "text": [
            "/usr/local/lib/python3.7/dist-packages/ipykernel_launcher.py:63: UserWarning: Implicit dimension choice for softmax has been deprecated. Change the call to include dim=X as an argument.\n",
            "/usr/local/lib/python3.7/dist-packages/ipykernel_launcher.py:83: UserWarning: Implicit dimension choice for log_softmax has been deprecated. Change the call to include dim=X as an argument.\n"
          ],
          "name": "stderr"
        },
        {
          "output_type": "display_data",
          "data": {
            "image/png": "[encoded data removed]",
            "text/plain": [
              "<Figure size 1008x576 with 1 Axes>"
            ]
          },
          "metadata": {
            "tags": [],
            "needs_background": "light"
          }
        },
        {
          "output_type": "stream",
          "text": [
            "\n",
            "Nothing:   55/91   60.4%\n",
            "Stand:   0/6   0.0%\n",
            "Sit:   0/9   0.0%\n",
            "Lie:   0/14   0.0%\n",
            "Go:   0/12   0.0%\n",
            "Run:   0/4   0.0%\n",
            "Jump:   0/7   0.0%\n",
            "Interact:   0/5   0.0%\n",
            "Sleep:   0/7   0.0%\n",
            "Eat:   0/0\n",
            "\n",
            "total:   55/155   35.5%\n"
          ],
          "name": "stdout"
        }
      ]
    },
    {
      "cell_type": "code",
      "metadata": {
        "id": "c3Fo7h7YjL7l"
      },
      "source": [
        ""
      ],
      "execution_count": null,
      "outputs": []
    }
  ]
}