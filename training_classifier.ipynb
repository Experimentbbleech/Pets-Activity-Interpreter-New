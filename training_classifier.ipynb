{
  "nbformat": 4,
  "nbformat_minor": 0,
  "metadata": {
    "colab": {
      "name": "training_classifier.ipynb",
      "provenance": [],
      "collapsed_sections": [
        "x4mgkPL-xpHO",
        "mB0tbYEzqeL2",
        "SodqLenCm0Zu"
      ],
      "toc_visible": true
    },
    "kernelspec": {
      "name": "python3",
      "display_name": "Python 3"
    },
    "language_info": {
      "name": "python"
    },
    "accelerator": "GPU"
  },
  "cells": [
    {
      "cell_type": "code",
      "metadata": {
        "id": "kzHDYc6wyXu_",
        "colab": {
          "base_uri": "https://localhost:8080/"
        },
        "outputId": "15c31238-434d-43ec-aa23-5312bb1fb1e7"
      },
      "source": [
        "!pip install catboost"
      ],
      "execution_count": 1,
      "outputs": [
        {
          "output_type": "stream",
          "text": [
            "Collecting catboost\n",
            "\u001b[?25l  Downloading https://files.pythonhosted.org/packages/47/80/8e9c57ec32dfed6ba2922bc5c96462cbf8596ce1a6f5de532ad1e43e53fe/catboost-0.25.1-cp37-none-manylinux1_x86_64.whl (67.3MB)\n",
            "\u001b[K     |████████████████████████████████| 67.3MB 46kB/s \n",
            "\u001b[?25hRequirement already satisfied: plotly in /usr/local/lib/python3.7/dist-packages (from catboost) (4.4.1)\n",
            "Requirement already satisfied: numpy>=1.16.0 in /usr/local/lib/python3.7/dist-packages (from catboost) (1.19.5)\n",
            "Requirement already satisfied: scipy in /usr/local/lib/python3.7/dist-packages (from catboost) (1.4.1)\n",
            "Requirement already satisfied: matplotlib in /usr/local/lib/python3.7/dist-packages (from catboost) (3.2.2)\n",
            "Requirement already satisfied: graphviz in /usr/local/lib/python3.7/dist-packages (from catboost) (0.10.1)\n",
            "Requirement already satisfied: six in /usr/local/lib/python3.7/dist-packages (from catboost) (1.15.0)\n",
            "Requirement already satisfied: pandas>=0.24.0 in /usr/local/lib/python3.7/dist-packages (from catboost) (1.1.5)\n",
            "Requirement already satisfied: retrying>=1.3.3 in /usr/local/lib/python3.7/dist-packages (from plotly->catboost) (1.3.3)\n",
            "Requirement already satisfied: python-dateutil>=2.1 in /usr/local/lib/python3.7/dist-packages (from matplotlib->catboost) (2.8.1)\n",
            "Requirement already satisfied: kiwisolver>=1.0.1 in /usr/local/lib/python3.7/dist-packages (from matplotlib->catboost) (1.3.1)\n",
            "Requirement already satisfied: pyparsing!=2.0.4,!=2.1.2,!=2.1.6,>=2.0.1 in /usr/local/lib/python3.7/dist-packages (from matplotlib->catboost) (2.4.7)\n",
            "Requirement already satisfied: cycler>=0.10 in /usr/local/lib/python3.7/dist-packages (from matplotlib->catboost) (0.10.0)\n",
            "Requirement already satisfied: pytz>=2017.2 in /usr/local/lib/python3.7/dist-packages (from pandas>=0.24.0->catboost) (2018.9)\n",
            "Installing collected packages: catboost\n",
            "Successfully installed catboost-0.25.1\n"
          ],
          "name": "stdout"
        }
      ]
    },
    {
      "cell_type": "code",
      "metadata": {
        "id": "a5JCighXeWVp"
      },
      "source": [
        "import os\n",
        "import shutil\n",
        "import random\n",
        "import numpy as np \n",
        "import pandas as pd\n",
        "import matplotlib.pyplot as plt\n",
        "from PIL import Image\n",
        "import lightgbm as lgbm\n",
        "from google.colab import files\n",
        "from sklearn.model_selection import train_test_split\n",
        "from catboost import Pool, CatBoostClassifier\n",
        "from sklearn.metrics import precision_score\n",
        "import torch\n",
        "import tqdm\n",
        "import torch.nn as nn\n",
        "import torch.nn.functional as F\n",
        "import torch.optim as optim\n",
        "from torch.utils.data import DataLoader, Dataset\n",
        "from torchvision import datasets, transforms\n",
        "from torch.autograd import Variable"
      ],
      "execution_count": 1,
      "outputs": []
    },
    {
      "cell_type": "code",
      "metadata": {
        "id": "OK4oj_7PCcpr"
      },
      "source": [
        "torch.manual_seed(22)\n",
        "random.seed(22)"
      ],
      "execution_count": 2,
      "outputs": []
    },
    {
      "cell_type": "code",
      "metadata": {
        "id": "iQXfKCbEgi6b",
        "colab": {
          "resources": {
            "http://localhost:8080/nbextensions/google.colab/files.js": {
              "data": "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",
              "ok": true,
              "headers": [
                [
                  "content-type",
                  "application/javascript"
                ]
              ],
              "status": 200,
              "status_text": ""
            }
          },
          "base_uri": "https://localhost:8080/",
          "height": 72
        },
        "outputId": "d1e82fe4-7ee1-4bae-ed21-c749074842e3"
      },
      "source": [
        "files.upload(); #animals_data.zip"
      ],
      "execution_count": 4,
      "outputs": [
        {
          "output_type": "display_data",
          "data": {
            "text/html": [
              "\n",
              "     <input type=\"file\" id=\"files-303118e4-f63d-4144-8421-2f1cd30ce287\" name=\"files[]\" multiple disabled\n",
              "        style=\"border:none\" />\n",
              "     <output id=\"result-303118e4-f63d-4144-8421-2f1cd30ce287\">\n",
              "      Upload widget is only available when the cell has been executed in the\n",
              "      current browser session. Please rerun this cell to enable.\n",
              "      </output>\n",
              "      <script src=\"/nbextensions/google.colab/files.js\"></script> "
            ],
            "text/plain": [
              "<IPython.core.display.HTML object>"
            ]
          },
          "metadata": {
            "tags": []
          }
        },
        {
          "output_type": "stream",
          "text": [
            "Saving animals_data.zip to animals_data.zip\n"
          ],
          "name": "stdout"
        }
      ]
    },
    {
      "cell_type": "code",
      "metadata": {
        "id": "c9Gcvg8yhFFV"
      },
      "source": [
        "data_dir = '/content/data'"
      ],
      "execution_count": 3,
      "outputs": []
    },
    {
      "cell_type": "code",
      "metadata": {
        "id": "vkAWKmqxhGKU"
      },
      "source": [
        "shutil.unpack_archive('/content/animals_data.zip', data_dir)"
      ],
      "execution_count": 6,
      "outputs": []
    },
    {
      "cell_type": "code",
      "metadata": {
        "id": "rHTkdg6vhaee",
        "colab": {
          "base_uri": "https://localhost:8080/"
        },
        "outputId": "ded28cd9-6ccd-4baf-c9de-e40c4b8a7c5f"
      },
      "source": [
        "df = pd.read_csv(os.path.join(data_dir, 'animals_data.csv'))\n",
        "print(\"Строк в датасете: {}\".format(len(df)))"
      ],
      "execution_count": 4,
      "outputs": [
        {
          "output_type": "stream",
          "text": [
            "Строк в датасете: 967\n"
          ],
          "name": "stdout"
        }
      ]
    },
    {
      "cell_type": "code",
      "metadata": {
        "colab": {
          "base_uri": "https://localhost:8080/",
          "height": 224
        },
        "id": "WYY_-eCJTsEU",
        "outputId": "19f91f84-ac7b-4703-8020-c946b50fd509"
      },
      "source": [
        "df.head()"
      ],
      "execution_count": 8,
      "outputs": [
        {
          "output_type": "execute_result",
          "data": {
            "text/html": [
              "<div>\n",
              "<style scoped>\n",
              "    .dataframe tbody tr th:only-of-type {\n",
              "        vertical-align: middle;\n",
              "    }\n",
              "\n",
              "    .dataframe tbody tr th {\n",
              "        vertical-align: top;\n",
              "    }\n",
              "\n",
              "    .dataframe thead th {\n",
              "        text-align: right;\n",
              "    }\n",
              "</style>\n",
              "<table border=\"1\" class=\"dataframe\">\n",
              "  <thead>\n",
              "    <tr style=\"text-align: right;\">\n",
              "      <th></th>\n",
              "      <th>id</th>\n",
              "      <th>cat</th>\n",
              "      <th>cow</th>\n",
              "      <th>dog</th>\n",
              "      <th>horse</th>\n",
              "      <th>sheep</th>\n",
              "      <th>bounds_x</th>\n",
              "      <th>bounds_y</th>\n",
              "      <th>bounds_width</th>\n",
              "      <th>bounds_height</th>\n",
              "      <th>L_eye_v</th>\n",
              "      <th>L_eye_x</th>\n",
              "      <th>L_eye_y</th>\n",
              "      <th>R_eye_v</th>\n",
              "      <th>R_eye_x</th>\n",
              "      <th>R_eye_y</th>\n",
              "      <th>L_ear_v</th>\n",
              "      <th>L_ear_x</th>\n",
              "      <th>L_ear_y</th>\n",
              "      <th>R_ear_v</th>\n",
              "      <th>R_ear_x</th>\n",
              "      <th>R_ear_y</th>\n",
              "      <th>Nose_v</th>\n",
              "      <th>Nose_x</th>\n",
              "      <th>Nose_y</th>\n",
              "      <th>Throat_v</th>\n",
              "      <th>Throat_x</th>\n",
              "      <th>Throat_y</th>\n",
              "      <th>Tail_v</th>\n",
              "      <th>Tail_x</th>\n",
              "      <th>Tail_y</th>\n",
              "      <th>withers_v</th>\n",
              "      <th>withers_x</th>\n",
              "      <th>withers_y</th>\n",
              "      <th>L_F_elbow_v</th>\n",
              "      <th>L_F_elbow_x</th>\n",
              "      <th>L_F_elbow_y</th>\n",
              "      <th>R_F_elbow_v</th>\n",
              "      <th>R_F_elbow_x</th>\n",
              "      <th>R_F_elbow_y</th>\n",
              "      <th>L_B_elbow_v</th>\n",
              "      <th>L_B_elbow_x</th>\n",
              "      <th>L_B_elbow_y</th>\n",
              "      <th>R_B_elbow_v</th>\n",
              "      <th>R_B_elbow_x</th>\n",
              "      <th>R_B_elbow_y</th>\n",
              "      <th>L_F_knee_v</th>\n",
              "      <th>L_F_knee_x</th>\n",
              "      <th>L_F_knee_y</th>\n",
              "      <th>R_F_knee_v</th>\n",
              "      <th>R_F_knee_x</th>\n",
              "      <th>R_F_knee_y</th>\n",
              "      <th>L_B_knee_v</th>\n",
              "      <th>L_B_knee_x</th>\n",
              "      <th>L_B_knee_y</th>\n",
              "      <th>R_B_knee_v</th>\n",
              "      <th>R_B_knee_x</th>\n",
              "      <th>R_B_knee_y</th>\n",
              "      <th>L_F_paw_v</th>\n",
              "      <th>L_F_paw_x</th>\n",
              "      <th>L_F_paw_y</th>\n",
              "      <th>R_F_paw_v</th>\n",
              "      <th>R_F_paw_x</th>\n",
              "      <th>R_F_paw_y</th>\n",
              "      <th>L_B_paw_v</th>\n",
              "      <th>L_B_paw_x</th>\n",
              "      <th>L_B_paw_y</th>\n",
              "      <th>R_B_paw_v</th>\n",
              "      <th>R_B_paw_x</th>\n",
              "      <th>R_B_paw_y</th>\n",
              "      <th>stand</th>\n",
              "      <th>sit</th>\n",
              "      <th>lie</th>\n",
              "      <th>go</th>\n",
              "      <th>run</th>\n",
              "    </tr>\n",
              "  </thead>\n",
              "  <tbody>\n",
              "    <tr>\n",
              "      <th>0</th>\n",
              "      <td>0</td>\n",
              "      <td>1</td>\n",
              "      <td>0</td>\n",
              "      <td>0</td>\n",
              "      <td>0</td>\n",
              "      <td>0</td>\n",
              "      <td>2</td>\n",
              "      <td>5</td>\n",
              "      <td>296</td>\n",
              "      <td>204</td>\n",
              "      <td>1</td>\n",
              "      <td>178</td>\n",
              "      <td>71</td>\n",
              "      <td>1</td>\n",
              "      <td>132</td>\n",
              "      <td>65</td>\n",
              "      <td>1</td>\n",
              "      <td>203</td>\n",
              "      <td>33</td>\n",
              "      <td>1</td>\n",
              "      <td>117</td>\n",
              "      <td>19</td>\n",
              "      <td>1</td>\n",
              "      <td>154</td>\n",
              "      <td>86</td>\n",
              "      <td>1</td>\n",
              "      <td>157</td>\n",
              "      <td>119</td>\n",
              "      <td>0</td>\n",
              "      <td>0</td>\n",
              "      <td>0</td>\n",
              "      <td>0</td>\n",
              "      <td>0</td>\n",
              "      <td>0</td>\n",
              "      <td>1</td>\n",
              "      <td>213</td>\n",
              "      <td>146</td>\n",
              "      <td>1</td>\n",
              "      <td>94</td>\n",
              "      <td>130</td>\n",
              "      <td>0</td>\n",
              "      <td>0</td>\n",
              "      <td>0</td>\n",
              "      <td>0</td>\n",
              "      <td>0</td>\n",
              "      <td>0</td>\n",
              "      <td>1</td>\n",
              "      <td>265</td>\n",
              "      <td>162</td>\n",
              "      <td>1</td>\n",
              "      <td>72</td>\n",
              "      <td>158</td>\n",
              "      <td>0</td>\n",
              "      <td>0</td>\n",
              "      <td>0</td>\n",
              "      <td>0</td>\n",
              "      <td>0</td>\n",
              "      <td>0</td>\n",
              "      <td>0</td>\n",
              "      <td>0</td>\n",
              "      <td>0</td>\n",
              "      <td>1</td>\n",
              "      <td>6</td>\n",
              "      <td>174</td>\n",
              "      <td>0</td>\n",
              "      <td>0</td>\n",
              "      <td>0</td>\n",
              "      <td>0</td>\n",
              "      <td>0</td>\n",
              "      <td>0</td>\n",
              "      <td>0</td>\n",
              "      <td>0</td>\n",
              "      <td>1</td>\n",
              "      <td>0</td>\n",
              "      <td>0</td>\n",
              "    </tr>\n",
              "    <tr>\n",
              "      <th>1</th>\n",
              "      <td>1</td>\n",
              "      <td>1</td>\n",
              "      <td>0</td>\n",
              "      <td>0</td>\n",
              "      <td>0</td>\n",
              "      <td>0</td>\n",
              "      <td>20</td>\n",
              "      <td>8</td>\n",
              "      <td>260</td>\n",
              "      <td>286</td>\n",
              "      <td>1</td>\n",
              "      <td>202</td>\n",
              "      <td>145</td>\n",
              "      <td>1</td>\n",
              "      <td>99</td>\n",
              "      <td>149</td>\n",
              "      <td>1</td>\n",
              "      <td>248</td>\n",
              "      <td>46</td>\n",
              "      <td>1</td>\n",
              "      <td>46</td>\n",
              "      <td>56</td>\n",
              "      <td>1</td>\n",
              "      <td>147</td>\n",
              "      <td>190</td>\n",
              "      <td>1</td>\n",
              "      <td>146</td>\n",
              "      <td>276</td>\n",
              "      <td>0</td>\n",
              "      <td>0</td>\n",
              "      <td>0</td>\n",
              "      <td>0</td>\n",
              "      <td>0</td>\n",
              "      <td>0</td>\n",
              "      <td>0</td>\n",
              "      <td>0</td>\n",
              "      <td>0</td>\n",
              "      <td>0</td>\n",
              "      <td>0</td>\n",
              "      <td>0</td>\n",
              "      <td>0</td>\n",
              "      <td>0</td>\n",
              "      <td>0</td>\n",
              "      <td>0</td>\n",
              "      <td>0</td>\n",
              "      <td>0</td>\n",
              "      <td>0</td>\n",
              "      <td>0</td>\n",
              "      <td>0</td>\n",
              "      <td>0</td>\n",
              "      <td>0</td>\n",
              "      <td>0</td>\n",
              "      <td>0</td>\n",
              "      <td>0</td>\n",
              "      <td>0</td>\n",
              "      <td>0</td>\n",
              "      <td>0</td>\n",
              "      <td>0</td>\n",
              "      <td>0</td>\n",
              "      <td>0</td>\n",
              "      <td>0</td>\n",
              "      <td>0</td>\n",
              "      <td>0</td>\n",
              "      <td>0</td>\n",
              "      <td>0</td>\n",
              "      <td>0</td>\n",
              "      <td>0</td>\n",
              "      <td>0</td>\n",
              "      <td>0</td>\n",
              "      <td>0</td>\n",
              "      <td>1</td>\n",
              "      <td>0</td>\n",
              "      <td>0</td>\n",
              "      <td>0</td>\n",
              "      <td>0</td>\n",
              "    </tr>\n",
              "    <tr>\n",
              "      <th>2</th>\n",
              "      <td>2</td>\n",
              "      <td>1</td>\n",
              "      <td>0</td>\n",
              "      <td>0</td>\n",
              "      <td>0</td>\n",
              "      <td>0</td>\n",
              "      <td>5</td>\n",
              "      <td>11</td>\n",
              "      <td>282</td>\n",
              "      <td>224</td>\n",
              "      <td>1</td>\n",
              "      <td>190</td>\n",
              "      <td>129</td>\n",
              "      <td>1</td>\n",
              "      <td>130</td>\n",
              "      <td>125</td>\n",
              "      <td>1</td>\n",
              "      <td>240</td>\n",
              "      <td>75</td>\n",
              "      <td>1</td>\n",
              "      <td>102</td>\n",
              "      <td>61</td>\n",
              "      <td>1</td>\n",
              "      <td>160</td>\n",
              "      <td>136</td>\n",
              "      <td>1</td>\n",
              "      <td>154</td>\n",
              "      <td>200</td>\n",
              "      <td>0</td>\n",
              "      <td>0</td>\n",
              "      <td>0</td>\n",
              "      <td>0</td>\n",
              "      <td>0</td>\n",
              "      <td>0</td>\n",
              "      <td>0</td>\n",
              "      <td>0</td>\n",
              "      <td>0</td>\n",
              "      <td>0</td>\n",
              "      <td>0</td>\n",
              "      <td>0</td>\n",
              "      <td>0</td>\n",
              "      <td>0</td>\n",
              "      <td>0</td>\n",
              "      <td>0</td>\n",
              "      <td>0</td>\n",
              "      <td>0</td>\n",
              "      <td>0</td>\n",
              "      <td>0</td>\n",
              "      <td>0</td>\n",
              "      <td>0</td>\n",
              "      <td>0</td>\n",
              "      <td>0</td>\n",
              "      <td>0</td>\n",
              "      <td>0</td>\n",
              "      <td>0</td>\n",
              "      <td>0</td>\n",
              "      <td>0</td>\n",
              "      <td>0</td>\n",
              "      <td>0</td>\n",
              "      <td>0</td>\n",
              "      <td>0</td>\n",
              "      <td>0</td>\n",
              "      <td>0</td>\n",
              "      <td>0</td>\n",
              "      <td>0</td>\n",
              "      <td>0</td>\n",
              "      <td>0</td>\n",
              "      <td>0</td>\n",
              "      <td>0</td>\n",
              "      <td>0</td>\n",
              "      <td>1</td>\n",
              "      <td>0</td>\n",
              "      <td>0</td>\n",
              "      <td>0</td>\n",
              "      <td>0</td>\n",
              "    </tr>\n",
              "    <tr>\n",
              "      <th>3</th>\n",
              "      <td>3</td>\n",
              "      <td>1</td>\n",
              "      <td>0</td>\n",
              "      <td>0</td>\n",
              "      <td>0</td>\n",
              "      <td>0</td>\n",
              "      <td>9</td>\n",
              "      <td>13</td>\n",
              "      <td>274</td>\n",
              "      <td>228</td>\n",
              "      <td>1</td>\n",
              "      <td>221</td>\n",
              "      <td>85</td>\n",
              "      <td>1</td>\n",
              "      <td>179</td>\n",
              "      <td>91</td>\n",
              "      <td>1</td>\n",
              "      <td>245</td>\n",
              "      <td>33</td>\n",
              "      <td>1</td>\n",
              "      <td>145</td>\n",
              "      <td>40</td>\n",
              "      <td>1</td>\n",
              "      <td>200</td>\n",
              "      <td>92</td>\n",
              "      <td>1</td>\n",
              "      <td>205</td>\n",
              "      <td>130</td>\n",
              "      <td>1</td>\n",
              "      <td>46</td>\n",
              "      <td>127</td>\n",
              "      <td>1</td>\n",
              "      <td>124</td>\n",
              "      <td>72</td>\n",
              "      <td>1</td>\n",
              "      <td>232</td>\n",
              "      <td>175</td>\n",
              "      <td>1</td>\n",
              "      <td>130</td>\n",
              "      <td>170</td>\n",
              "      <td>0</td>\n",
              "      <td>0</td>\n",
              "      <td>0</td>\n",
              "      <td>1</td>\n",
              "      <td>63</td>\n",
              "      <td>179</td>\n",
              "      <td>1</td>\n",
              "      <td>210</td>\n",
              "      <td>201</td>\n",
              "      <td>1</td>\n",
              "      <td>149</td>\n",
              "      <td>206</td>\n",
              "      <td>0</td>\n",
              "      <td>0</td>\n",
              "      <td>0</td>\n",
              "      <td>1</td>\n",
              "      <td>75</td>\n",
              "      <td>206</td>\n",
              "      <td>1</td>\n",
              "      <td>218</td>\n",
              "      <td>227</td>\n",
              "      <td>1</td>\n",
              "      <td>144</td>\n",
              "      <td>233</td>\n",
              "      <td>0</td>\n",
              "      <td>0</td>\n",
              "      <td>0</td>\n",
              "      <td>1</td>\n",
              "      <td>87</td>\n",
              "      <td>221</td>\n",
              "      <td>1</td>\n",
              "      <td>0</td>\n",
              "      <td>0</td>\n",
              "      <td>0</td>\n",
              "      <td>0</td>\n",
              "    </tr>\n",
              "    <tr>\n",
              "      <th>4</th>\n",
              "      <td>4</td>\n",
              "      <td>1</td>\n",
              "      <td>0</td>\n",
              "      <td>0</td>\n",
              "      <td>0</td>\n",
              "      <td>0</td>\n",
              "      <td>25</td>\n",
              "      <td>0</td>\n",
              "      <td>236</td>\n",
              "      <td>220</td>\n",
              "      <td>1</td>\n",
              "      <td>178</td>\n",
              "      <td>79</td>\n",
              "      <td>1</td>\n",
              "      <td>114</td>\n",
              "      <td>99</td>\n",
              "      <td>1</td>\n",
              "      <td>195</td>\n",
              "      <td>20</td>\n",
              "      <td>1</td>\n",
              "      <td>47</td>\n",
              "      <td>48</td>\n",
              "      <td>1</td>\n",
              "      <td>156</td>\n",
              "      <td>118</td>\n",
              "      <td>1</td>\n",
              "      <td>160</td>\n",
              "      <td>164</td>\n",
              "      <td>0</td>\n",
              "      <td>0</td>\n",
              "      <td>0</td>\n",
              "      <td>0</td>\n",
              "      <td>0</td>\n",
              "      <td>0</td>\n",
              "      <td>0</td>\n",
              "      <td>0</td>\n",
              "      <td>0</td>\n",
              "      <td>0</td>\n",
              "      <td>0</td>\n",
              "      <td>0</td>\n",
              "      <td>0</td>\n",
              "      <td>0</td>\n",
              "      <td>0</td>\n",
              "      <td>0</td>\n",
              "      <td>0</td>\n",
              "      <td>0</td>\n",
              "      <td>0</td>\n",
              "      <td>0</td>\n",
              "      <td>0</td>\n",
              "      <td>0</td>\n",
              "      <td>0</td>\n",
              "      <td>0</td>\n",
              "      <td>0</td>\n",
              "      <td>0</td>\n",
              "      <td>0</td>\n",
              "      <td>0</td>\n",
              "      <td>0</td>\n",
              "      <td>0</td>\n",
              "      <td>0</td>\n",
              "      <td>0</td>\n",
              "      <td>0</td>\n",
              "      <td>0</td>\n",
              "      <td>0</td>\n",
              "      <td>0</td>\n",
              "      <td>0</td>\n",
              "      <td>0</td>\n",
              "      <td>0</td>\n",
              "      <td>0</td>\n",
              "      <td>0</td>\n",
              "      <td>0</td>\n",
              "      <td>0</td>\n",
              "      <td>0</td>\n",
              "      <td>1</td>\n",
              "      <td>0</td>\n",
              "      <td>0</td>\n",
              "    </tr>\n",
              "  </tbody>\n",
              "</table>\n",
              "</div>"
            ],
            "text/plain": [
              "   id  cat  cow  dog  horse  sheep  ...  R_B_paw_y  stand  sit  lie  go  run\n",
              "0   0    1    0    0      0      0  ...          0      0    0    1   0    0\n",
              "1   1    1    0    0      0      0  ...          0      1    0    0   0    0\n",
              "2   2    1    0    0      0      0  ...          0      1    0    0   0    0\n",
              "3   3    1    0    0      0      0  ...        221      1    0    0   0    0\n",
              "4   4    1    0    0      0      0  ...          0      0    0    1   0    0\n",
              "\n",
              "[5 rows x 75 columns]"
            ]
          },
          "metadata": {
            "tags": []
          },
          "execution_count": 8
        }
      ]
    },
    {
      "cell_type": "code",
      "metadata": {
        "id": "LpiSl9-dkQ1n"
      },
      "source": [
        "classes = ['stand', 'sit', 'lie', 'go', 'run']\n",
        "X = df.drop(classes, axis=1)\n",
        "y = df[['id'] + classes]"
      ],
      "execution_count": 5,
      "outputs": []
    },
    {
      "cell_type": "code",
      "metadata": {
        "id": "DnaJgeWzhJk0"
      },
      "source": [
        "for column in X.columns:\n",
        "    if '_x' in column or '_width' in column or '_y' in column or '_height' in column:\n",
        "        X[column] = X[column].astype(float)\n",
        "\n",
        "df_dict = X.to_dict()\n",
        "\n",
        "for idx in df_dict['id'].values():\n",
        "    img_name = os.path.join(data_dir, 'animals', \"0\"*(3-len(str(idx))) + str(idx) + \".jpeg\")\n",
        "    image = Image.open(img_name)\n",
        "    x_size, y_size = image.size\n",
        "    for column in df_dict.keys():\n",
        "        if '_x' in column or '_width' in column:\n",
        "            df_dict[column][idx] /= x_size\n",
        "        elif '_y' in column or '_height' in column:\n",
        "            df_dict[column][idx] /= y_size\n",
        "\n",
        "X = pd.DataFrame.from_dict(df_dict)"
      ],
      "execution_count": 6,
      "outputs": []
    },
    {
      "cell_type": "code",
      "metadata": {
        "id": "EqRVRWPWbXLZ"
      },
      "source": [
        "y['label'] = 0\n",
        "\n",
        "# for idx in range(1, len(y.columns)-1):\n",
        "#     y['label'] += y[y.columns[idx]] * (idx - 1)\n",
        "\n",
        "y['label'] = 0\n",
        "for idx in range(1, len(y.columns)-1):\n",
        "    y['label'] += y[y.columns[idx]] * int(idx > 1)"
      ],
      "execution_count": null,
      "outputs": []
    },
    {
      "cell_type": "code",
      "metadata": {
        "id": "SortDs4emlbk"
      },
      "source": [
        "X.set_index('id', inplace=True)\n",
        "y.set_index('id', inplace=True)"
      ],
      "execution_count": 8,
      "outputs": []
    },
    {
      "cell_type": "code",
      "metadata": {
        "id": "qMnSkmGKwqgV"
      },
      "source": [
        "X['animal'] = 0\n",
        "for idx in range(5):\n",
        "    X['animal'] += X[X.columns[idx]] * idx\n",
        "\n",
        "X = X.drop(['cat', 'cow', 'dog', 'horse', 'sheep'], axis=1)\n",
        "\n",
        "X['bounds_width'] += X['bounds_x']\n",
        "X['bounds_height'] += X['bounds_y']"
      ],
      "execution_count": 9,
      "outputs": []
    },
    {
      "cell_type": "code",
      "metadata": {
        "colab": {
          "base_uri": "https://localhost:8080/",
          "height": 530
        },
        "id": "T7mbiqXq3X0F",
        "outputId": "ed08556f-15b8-4ea3-bdf7-e2c094d49ba8"
      },
      "source": [
        "def distrib_hist(y):\n",
        "    plt.rcParams['figure.figsize'] = (14, 8)\n",
        "    levels = list(sum(list(y[col])) for col in y.columns[:-1])\n",
        "    names = list(y.columns[:-1])\n",
        "\n",
        "    plt.bar(range(len(levels)), levels);\n",
        "    plt.xticks(range(len(levels)), names);\n",
        "    plt.ylabel('Number of class elements')\n",
        "    plt.xlabel('Classes')\n",
        "    plt.title(\"Distribution histogram\");\n",
        "\n",
        "    print(*levels)\n",
        "\n",
        "distrib_hist(y)"
      ],
      "execution_count": 10,
      "outputs": [
        {
          "output_type": "stream",
          "text": [
            "550 102 103 129 83\n"
          ],
          "name": "stdout"
        },
        {
          "output_type": "display_data",
          "data": {
            "image/png": "[encoded data removed]",
            "text/plain": [
              "<Figure size 1008x576 with 1 Axes>"
            ]
          },
          "metadata": {
            "tags": [],
            "needs_background": "light"
          }
        }
      ]
    },
    {
      "cell_type": "code",
      "metadata": {
        "id": "gdfdhcI5nQgS",
        "colab": {
          "base_uri": "https://localhost:8080/"
        },
        "outputId": "2a885410-bef9-466a-a3e2-b53d52c14eda"
      },
      "source": [
        "X_train, X_test, y_train, y_test = train_test_split(X, y, test_size=0.4, random_state=22)\n",
        "X_val, X_test, y_val, y_test = train_test_split(X_test, y_test, test_size=0.4, random_state=22)\n",
        "\n",
        "print(f\"SPLIT\\nTrain:\\t{len(X_train)}\\nVal:\\t{len(X_val)}\\nTest:\\t{len(X_test)}\")"
      ],
      "execution_count": 11,
      "outputs": [
        {
          "output_type": "stream",
          "text": [
            "SPLIT\n",
            "Train:\t580\n",
            "Val:\t232\n",
            "Test:\t155\n"
          ],
          "name": "stdout"
        }
      ]
    },
    {
      "cell_type": "code",
      "metadata": {
        "id": "LyoLBwfpHSRs"
      },
      "source": [
        "coord_columns = []\n",
        "for c in range(len(X_train.columns)):\n",
        "    column = X_train.columns[c]\n",
        "    if '_x' in column or '_width' in column or '_y' in column or '_height' in column:\n",
        "        coord_columns.append(c)\n",
        "\n",
        "delta = 0.001\n",
        "\n",
        "next_idx = float(max(list(map(int, X_train.index))) + 1)\n",
        "\n",
        "roof = max(list(sum(list(y_train[col])) for col in y_train.columns[:-1]))\n",
        "\n",
        "for idx in range(len(y_train.columns)-1):\n",
        "    list_index = 0\n",
        "    while sum(list(y_train[y_train.columns[idx]])) != roof:\n",
        "        indexes = list(map(int, X_train.index))\n",
        "        features = list(X_train.loc[indexes[list_index]])\n",
        "        answers = list(y_train.loc[indexes[list_index]])\n",
        "\n",
        "        if answers[-1] == idx:\n",
        "            for cc in coord_columns:\n",
        "                if features[cc] != 0:\n",
        "                    features[cc] += random.uniform(-delta, delta)\n",
        "            X_train = X_train.append(pd.Series(features, index=X_train.columns, name=next_idx))\n",
        "            y_train = y_train.append(pd.Series(answers, index=y_train.columns, name=next_idx))\n",
        "            next_idx += 1\n",
        "        list_index = (list_index + 1) % len(X_train)"
      ],
      "execution_count": 16,
      "outputs": []
    },
    {
      "cell_type": "code",
      "metadata": {
        "colab": {
          "base_uri": "https://localhost:8080/",
          "height": 530
        },
        "id": "XtbTiK5lJxjS",
        "outputId": "d0bfb322-e36a-4f18-cd08-f96651ff46b8"
      },
      "source": [
        "distrib_hist(y_train)"
      ],
      "execution_count": 12,
      "outputs": [
        {
          "output_type": "stream",
          "text": [
            "335 57 61 71 56\n"
          ],
          "name": "stdout"
        },
        {
          "output_type": "display_data",
          "data": {
            "image/png": "[encoded data removed]",
            "text/plain": [
              "<Figure size 1008x576 with 1 Axes>"
            ]
          },
          "metadata": {
            "tags": [],
            "needs_background": "light"
          }
        }
      ]
    },
    {
      "cell_type": "markdown",
      "metadata": {
        "id": "x4mgkPL-xpHO"
      },
      "source": [
        "# LightGBM Classifier\n",
        "0.4261"
      ]
    },
    {
      "cell_type": "code",
      "metadata": {
        "id": "JZzpqqi_n-Tz"
      },
      "source": [
        "params = {'task': 'train',\n",
        "        'boosting_type': 'gbdt',\n",
        "        'objective': 'multiclass',\n",
        "        'num_class': 10,\n",
        "        'metric': 'multi_logloss',\n",
        "        'learning_rate': 0.003,\n",
        "        'max_depth': 10,\n",
        "        'num_leaves': 20}\n",
        "\n",
        "d_train = lgbm.Dataset(X_train, label=y_train['label'])\n",
        "\n",
        "num_epochs = 1000"
      ],
      "execution_count": null,
      "outputs": []
    },
    {
      "cell_type": "code",
      "metadata": {
        "id": "KcA9RsfZpNLg"
      },
      "source": [
        "lgbm_classifier = lgbm.train(params, d_train, num_epochs)"
      ],
      "execution_count": null,
      "outputs": []
    },
    {
      "cell_type": "code",
      "metadata": {
        "id": "eD93jB8DqBmf"
      },
      "source": [
        "y_pred = lgbm_classifier.predict(X_test)"
      ],
      "execution_count": null,
      "outputs": []
    },
    {
      "cell_type": "code",
      "metadata": {
        "id": "bFUOOoj6uNIJ"
      },
      "source": [
        "y_pred = [np.argmax(line) for line in y_pred]"
      ],
      "execution_count": null,
      "outputs": []
    },
    {
      "cell_type": "code",
      "metadata": {
        "colab": {
          "base_uri": "https://localhost:8080/"
        },
        "id": "l4ikDttSudRy",
        "outputId": "82c0c44a-bdc0-457d-94cd-fa03c0320822"
      },
      "source": [
        "precision_score(y_pred, y_test['label'], average=None).mean()"
      ],
      "execution_count": null,
      "outputs": [
        {
          "output_type": "execute_result",
          "data": {
            "text/plain": [
              "0.42230411495378234"
            ]
          },
          "metadata": {
            "tags": []
          },
          "execution_count": 37
        }
      ]
    },
    {
      "cell_type": "markdown",
      "metadata": {
        "id": "h2huov0dyFcu"
      },
      "source": [
        "# Catboost Classifier\n",
        "pure 0.6551 eval 0.9002 multiclass 69.7% test\n",
        "\n",
        "augm 0.6724 eval 0.8873 multiclass 69.7% test\n",
        "\n",
        "stand/not_stand 0.75 eval 0.5330 logloss 75.5% test\n",
        "\n",
        "sit/lie/go/run 0.67 eval 0.8882 multiclass 68.7% test"
      ]
    },
    {
      "cell_type": "markdown",
      "metadata": {
        "id": "mB0tbYEzqeL2"
      },
      "source": [
        "##### Классификация по всем классам"
      ]
    },
    {
      "cell_type": "code",
      "metadata": {
        "id": "qW5kZtmaqm4N"
      },
      "source": [
        "train_pool = Pool(data=X_train, label=y_train['label'])\n",
        "eval_pool = Pool(data=X_val, label=y_val['label'])"
      ],
      "execution_count": 13,
      "outputs": []
    },
    {
      "cell_type": "code",
      "metadata": {
        "id": "4PAh_T4Bskl3"
      },
      "source": [
        "cat_classifier = CatBoostClassifier(\n",
        "    loss_function='MultiClass',\n",
        "    eval_metric='Accuracy',\n",
        "    use_best_model=True,\n",
        "    random_state = 22\n",
        ")"
      ],
      "execution_count": 14,
      "outputs": []
    },
    {
      "cell_type": "code",
      "metadata": {
        "colab": {
          "base_uri": "https://localhost:8080/"
        },
        "id": "gOUvtdK3yZYM",
        "outputId": "f92889a1-a84b-4d59-b312-a2fb234dac50"
      },
      "source": [
        "cat_classifier.fit(train_pool, eval_set=eval_pool, verbose=False, plot=False)"
      ],
      "execution_count": 15,
      "outputs": [
        {
          "output_type": "execute_result",
          "data": {
            "text/plain": [
              "<catboost.core.CatBoostClassifier at 0x7f099c6c9990>"
            ]
          },
          "metadata": {
            "tags": []
          },
          "execution_count": 15
        }
      ]
    },
    {
      "cell_type": "code",
      "metadata": {
        "colab": {
          "base_uri": "https://localhost:8080/"
        },
        "id": "BSEH4xTEykAu",
        "outputId": "a30972d4-725c-4bb4-e548-481cde34a0d3"
      },
      "source": [
        "cat_classifier.get_best_score()"
      ],
      "execution_count": 16,
      "outputs": [
        {
          "output_type": "execute_result",
          "data": {
            "text/plain": [
              "{'learn': {'Accuracy': 1.0, 'MultiClass': 0.027666257388178496},\n",
              " 'validation': {'Accuracy': 0.6681034482758621,\n",
              "  'MultiClass': 0.9191877261686288}}"
            ]
          },
          "metadata": {
            "tags": []
          },
          "execution_count": 16
        }
      ]
    },
    {
      "cell_type": "code",
      "metadata": {
        "colab": {
          "base_uri": "https://localhost:8080/",
          "height": 0
        },
        "id": "BWGxlW0GynjZ",
        "outputId": "cc06e9f3-3dc4-49eb-bc8d-c55859f8b336"
      },
      "source": [
        "preds = cat_classifier.predict(X_test)\n",
        "targets = list(y_test[\"label\"])\n",
        "\n",
        "names = list(y_train.columns)[:-1]\n",
        "\n",
        "preds = cat_classifier.predict(X_test)\n",
        "targets = list(y_test[\"label\"])\n",
        "\n",
        "n = len(names)\n",
        "\n",
        "classes_count = [0] * n\n",
        "classes_correct = [0] * n\n",
        "\n",
        "for idx in range(len(targets)):\n",
        "    classes_count[targets[idx]] += 1\n",
        "    if targets[idx] == preds[idx]:\n",
        "        classes_correct[targets[idx]] += 1\n",
        "\n",
        "plt.rcParams['figure.figsize'] = (12, 7)\n",
        "plt.bar(range(n), classes_count, color=\"red\");\n",
        "plt.bar(range(n), classes_correct, color=\"green\");\n",
        "plt.xticks(range(n), names);\n",
        "plt.ylabel('Correct/Total number of class elements')\n",
        "plt.xlabel('Classes')\n",
        "plt.title(\"Prediction histogram\")\n",
        "plt.show()\n",
        "\n",
        "print()\n",
        "for idx in range(n):\n",
        "    print(\"{}:   {}/{}   {:.1f}%\".format(names[idx].title(), classes_correct[idx], classes_count[idx], 100*classes_correct[idx]/classes_count[idx]))\n",
        "\n",
        "print(\"\\ntotal:   {}/{}   {:.1f}%\".format(sum(classes_correct), sum(classes_count), 100*sum(classes_correct)/sum(classes_count)))"
      ],
      "execution_count": 17,
      "outputs": [
        {
          "output_type": "display_data",
          "data": {
            "image/png": "[encoded data removed]",
            "text/plain": [
              "<Figure size 864x504 with 1 Axes>"
            ]
          },
          "metadata": {
            "tags": [],
            "needs_background": "light"
          }
        },
        {
          "output_type": "stream",
          "text": [
            "\n",
            "Stand:   81/86   94.2%\n",
            "Sit:   7/18   38.9%\n",
            "Lie:   6/13   46.2%\n",
            "Go:   9/31   29.0%\n",
            "Run:   3/7   42.9%\n",
            "\n",
            "total:   106/155   68.4%\n"
          ],
          "name": "stdout"
        }
      ]
    },
    {
      "cell_type": "code",
      "metadata": {
        "id": "fUZw68CE_hsU"
      },
      "source": [
        "cat_classifier.save_model('cat_classifier_pure5')"
      ],
      "execution_count": 18,
      "outputs": []
    },
    {
      "cell_type": "code",
      "metadata": {
        "id": "XrqOY02EA2Qa"
      },
      "source": [
        "cat_classifier.save_model('cat_classifier_augm5')"
      ],
      "execution_count": 23,
      "outputs": []
    },
    {
      "cell_type": "markdown",
      "metadata": {
        "id": "2929c_oGiMPe"
      },
      "source": [
        "##### Разбиение на 2 класса"
      ]
    },
    {
      "cell_type": "code",
      "metadata": {
        "id": "NgfFydp1u5O2"
      },
      "source": [
        "train_pool = Pool(data=X_train, label=y_train['label'])\n",
        "eval_pool = Pool(data=X_val, label=y_val['label']) "
      ],
      "execution_count": 12,
      "outputs": []
    },
    {
      "cell_type": "code",
      "metadata": {
        "id": "ekkTMfgwhjWa"
      },
      "source": [
        "cat_classifier1 = CatBoostClassifier(\n",
        "    loss_function='Logloss',\n",
        "    eval_metric='Accuracy',\n",
        "    use_best_model=True,\n",
        "    random_state = 22\n",
        ")"
      ],
      "execution_count": 13,
      "outputs": []
    },
    {
      "cell_type": "code",
      "metadata": {
        "colab": {
          "base_uri": "https://localhost:8080/"
        },
        "id": "PetgUkTZhnao",
        "outputId": "5d6548e8-4d92-4fce-ad55-074411123110"
      },
      "source": [
        "cat_classifier1.fit(train_pool, eval_set=eval_pool, verbose=False, plot=False)"
      ],
      "execution_count": 14,
      "outputs": [
        {
          "output_type": "execute_result",
          "data": {
            "text/plain": [
              "<catboost.core.CatBoostClassifier at 0x7f3ede4f7090>"
            ]
          },
          "metadata": {
            "tags": []
          },
          "execution_count": 14
        }
      ]
    },
    {
      "cell_type": "code",
      "metadata": {
        "colab": {
          "base_uri": "https://localhost:8080/"
        },
        "id": "lmgvvshzh0yM",
        "outputId": "f59f7855-9a00-43f4-8aea-408560cb6628"
      },
      "source": [
        "cat_classifier1.get_best_score()"
      ],
      "execution_count": 15,
      "outputs": [
        {
          "output_type": "execute_result",
          "data": {
            "text/plain": [
              "{'learn': {'Accuracy': 1.0, 'Logloss': 0.020742122385392414},\n",
              " 'validation': {'Accuracy': 0.7543103448275862, 'Logloss': 0.5213092190036279}}"
            ]
          },
          "metadata": {
            "tags": []
          },
          "execution_count": 15
        }
      ]
    },
    {
      "cell_type": "code",
      "metadata": {
        "colab": {
          "base_uri": "https://localhost:8080/",
          "height": 543
        },
        "id": "Ezckp1idiLGh",
        "outputId": "eeabdca6-83c8-4410-cf45-72e991624c9a"
      },
      "source": [
        "preds = cat_classifier1.predict(X_test)\n",
        "targets = list(y_test[\"label\"])\n",
        "\n",
        "names = ['stand', 'not stand']\n",
        "\n",
        "preds = cat_classifier1.predict(X_test)\n",
        "targets = list(y_test[\"label\"])\n",
        "\n",
        "n = len(names)\n",
        "\n",
        "classes_count = [0] * n\n",
        "classes_correct = [0] * n\n",
        "\n",
        "for idx in range(len(targets)):\n",
        "    classes_count[targets[idx]] += 1\n",
        "    if targets[idx] == preds[idx]:\n",
        "        classes_correct[targets[idx]] += 1\n",
        "\n",
        "plt.rcParams['figure.figsize'] = (6, 7)\n",
        "plt.bar(range(n), classes_count, color=\"red\");\n",
        "plt.bar(range(n), classes_correct, color=\"green\");\n",
        "plt.xticks(range(n), names);\n",
        "plt.ylabel('Correct/Total number of class elements')\n",
        "plt.xlabel('Classes')\n",
        "plt.title(\"Prediction histogram\")\n",
        "plt.show()\n",
        "\n",
        "print()\n",
        "for idx in range(n):\n",
        "    print(\"{}:   {}/{}   {:.1f}%\".format(names[idx].title(), classes_correct[idx], classes_count[idx], 100*classes_correct[idx]/classes_count[idx]))\n",
        "\n",
        "print(\"\\ntotal:   {}/{}   {:.1f}%\".format(sum(classes_correct), sum(classes_count), 100*sum(classes_correct)/sum(classes_count)))"
      ],
      "execution_count": 16,
      "outputs": [
        {
          "output_type": "display_data",
          "data": {
            "image/png": "[encoded data removed]",
            "text/plain": [
              "<Figure size 432x504 with 1 Axes>"
            ]
          },
          "metadata": {
            "tags": [],
            "needs_background": "light"
          }
        },
        {
          "output_type": "stream",
          "text": [
            "\n",
            "Stand:   75/86   87.2%\n",
            "Not Stand:   43/69   62.3%\n",
            "\n",
            "total:   118/155   76.1%\n"
          ],
          "name": "stdout"
        }
      ]
    },
    {
      "cell_type": "code",
      "metadata": {
        "id": "Of4wUPKiDGWY"
      },
      "source": [
        "cat_classifier1.save_model('cat_classifier_stand2')"
      ],
      "execution_count": 17,
      "outputs": []
    },
    {
      "cell_type": "markdown",
      "metadata": {
        "id": "7xvhcZHcqVx_"
      },
      "source": [
        "##### Разбиение оставшихся 4 классов"
      ]
    },
    {
      "cell_type": "code",
      "metadata": {
        "colab": {
          "base_uri": "https://localhost:8080/"
        },
        "id": "a42q6LsFjcdg",
        "outputId": "bb341c7f-5fba-4eca-e8a5-e3c17f8d2599"
      },
      "source": [
        "next_idx = 0\n",
        "\n",
        "X_new = pd.DataFrame()\n",
        "y_new = pd.DataFrame()\n",
        "\n",
        "for idx in list(map(int, X.index)):\n",
        "    features = list(X.loc[idx])\n",
        "    answers = list(y.loc[idx])\n",
        "\n",
        "    if answers[-1] == 1:\n",
        "        X_new = X_new.append(pd.Series(features, index=X.columns, name=next_idx))\n",
        "        y_new = y_new.append(pd.Series(answers, index=y.columns, name=next_idx))\n",
        "        next_idx += 1\n",
        "\n",
        "y_new.pop('stand')\n",
        "X_new = X_new[X.columns]"
      ],
      "execution_count": 18,
      "outputs": [
        {
          "output_type": "execute_result",
          "data": {
            "text/plain": [
              "0      0.0\n",
              "1      0.0\n",
              "2      0.0\n",
              "3      0.0\n",
              "4      0.0\n",
              "      ... \n",
              "412    0.0\n",
              "413    0.0\n",
              "414    0.0\n",
              "415    0.0\n",
              "416    0.0\n",
              "Name: stand, Length: 417, dtype: float64"
            ]
          },
          "metadata": {
            "tags": []
          },
          "execution_count": 18
        }
      ]
    },
    {
      "cell_type": "code",
      "metadata": {
        "id": "Dll9uWX9kxzy"
      },
      "source": [
        "y_new['label'] = 0\n",
        "\n",
        "y_columns = list(y.columns)\n",
        "y_columns.remove('label')\n",
        "y_columns.remove('stand')\n",
        "\n",
        "for idx in range(len(y_columns)):\n",
        "    y_new['label'] += y_new[y_columns[idx]] * idx\n",
        "    \n",
        "y_new = y_new.astype(int)"
      ],
      "execution_count": 19,
      "outputs": []
    },
    {
      "cell_type": "code",
      "metadata": {
        "colab": {
          "base_uri": "https://localhost:8080/",
          "height": 439
        },
        "id": "mmt3wnRtmIE5",
        "outputId": "34c49f0a-68e5-4971-93f0-0f0abe16ce92"
      },
      "source": [
        "X_new"
      ],
      "execution_count": 23,
      "outputs": [
        {
          "output_type": "execute_result",
          "data": {
            "text/html": [
              "<div>\n",
              "<style scoped>\n",
              "    .dataframe tbody tr th:only-of-type {\n",
              "        vertical-align: middle;\n",
              "    }\n",
              "\n",
              "    .dataframe tbody tr th {\n",
              "        vertical-align: top;\n",
              "    }\n",
              "\n",
              "    .dataframe thead th {\n",
              "        text-align: right;\n",
              "    }\n",
              "</style>\n",
              "<table border=\"1\" class=\"dataframe\">\n",
              "  <thead>\n",
              "    <tr style=\"text-align: right;\">\n",
              "      <th></th>\n",
              "      <th>bounds_x</th>\n",
              "      <th>bounds_y</th>\n",
              "      <th>bounds_width</th>\n",
              "      <th>bounds_height</th>\n",
              "      <th>L_eye_v</th>\n",
              "      <th>L_eye_x</th>\n",
              "      <th>L_eye_y</th>\n",
              "      <th>R_eye_v</th>\n",
              "      <th>R_eye_x</th>\n",
              "      <th>R_eye_y</th>\n",
              "      <th>L_ear_v</th>\n",
              "      <th>L_ear_x</th>\n",
              "      <th>L_ear_y</th>\n",
              "      <th>R_ear_v</th>\n",
              "      <th>R_ear_x</th>\n",
              "      <th>R_ear_y</th>\n",
              "      <th>Nose_v</th>\n",
              "      <th>Nose_x</th>\n",
              "      <th>Nose_y</th>\n",
              "      <th>Throat_v</th>\n",
              "      <th>Throat_x</th>\n",
              "      <th>Throat_y</th>\n",
              "      <th>Tail_v</th>\n",
              "      <th>Tail_x</th>\n",
              "      <th>Tail_y</th>\n",
              "      <th>withers_v</th>\n",
              "      <th>withers_x</th>\n",
              "      <th>withers_y</th>\n",
              "      <th>L_F_elbow_v</th>\n",
              "      <th>L_F_elbow_x</th>\n",
              "      <th>L_F_elbow_y</th>\n",
              "      <th>R_F_elbow_v</th>\n",
              "      <th>R_F_elbow_x</th>\n",
              "      <th>R_F_elbow_y</th>\n",
              "      <th>L_B_elbow_v</th>\n",
              "      <th>L_B_elbow_x</th>\n",
              "      <th>L_B_elbow_y</th>\n",
              "      <th>R_B_elbow_v</th>\n",
              "      <th>R_B_elbow_x</th>\n",
              "      <th>R_B_elbow_y</th>\n",
              "      <th>L_F_knee_v</th>\n",
              "      <th>L_F_knee_x</th>\n",
              "      <th>L_F_knee_y</th>\n",
              "      <th>R_F_knee_v</th>\n",
              "      <th>R_F_knee_x</th>\n",
              "      <th>R_F_knee_y</th>\n",
              "      <th>L_B_knee_v</th>\n",
              "      <th>L_B_knee_x</th>\n",
              "      <th>L_B_knee_y</th>\n",
              "      <th>R_B_knee_v</th>\n",
              "      <th>R_B_knee_x</th>\n",
              "      <th>R_B_knee_y</th>\n",
              "      <th>L_F_paw_v</th>\n",
              "      <th>L_F_paw_x</th>\n",
              "      <th>L_F_paw_y</th>\n",
              "      <th>R_F_paw_v</th>\n",
              "      <th>R_F_paw_x</th>\n",
              "      <th>R_F_paw_y</th>\n",
              "      <th>L_B_paw_v</th>\n",
              "      <th>L_B_paw_x</th>\n",
              "      <th>L_B_paw_y</th>\n",
              "      <th>R_B_paw_v</th>\n",
              "      <th>R_B_paw_x</th>\n",
              "      <th>R_B_paw_y</th>\n",
              "      <th>animal</th>\n",
              "    </tr>\n",
              "  </thead>\n",
              "  <tbody>\n",
              "    <tr>\n",
              "      <th>0</th>\n",
              "      <td>0.006667</td>\n",
              "      <td>0.023810</td>\n",
              "      <td>0.993333</td>\n",
              "      <td>0.995238</td>\n",
              "      <td>1.0</td>\n",
              "      <td>0.593333</td>\n",
              "      <td>0.338095</td>\n",
              "      <td>1.0</td>\n",
              "      <td>0.440000</td>\n",
              "      <td>0.309524</td>\n",
              "      <td>1.0</td>\n",
              "      <td>0.676667</td>\n",
              "      <td>0.157143</td>\n",
              "      <td>1.0</td>\n",
              "      <td>0.390000</td>\n",
              "      <td>0.090476</td>\n",
              "      <td>1.0</td>\n",
              "      <td>0.513333</td>\n",
              "      <td>0.409524</td>\n",
              "      <td>1.0</td>\n",
              "      <td>0.523333</td>\n",
              "      <td>0.566667</td>\n",
              "      <td>0.0</td>\n",
              "      <td>0.000000</td>\n",
              "      <td>0.000000</td>\n",
              "      <td>0.0</td>\n",
              "      <td>0.000000</td>\n",
              "      <td>0.000000</td>\n",
              "      <td>1.0</td>\n",
              "      <td>0.710000</td>\n",
              "      <td>0.695238</td>\n",
              "      <td>1.0</td>\n",
              "      <td>0.313333</td>\n",
              "      <td>0.619048</td>\n",
              "      <td>0.0</td>\n",
              "      <td>0.000000</td>\n",
              "      <td>0.000000</td>\n",
              "      <td>0.0</td>\n",
              "      <td>0.000000</td>\n",
              "      <td>0.000000</td>\n",
              "      <td>1.0</td>\n",
              "      <td>0.883333</td>\n",
              "      <td>0.771429</td>\n",
              "      <td>1.0</td>\n",
              "      <td>0.240000</td>\n",
              "      <td>0.752381</td>\n",
              "      <td>0.0</td>\n",
              "      <td>0.000000</td>\n",
              "      <td>0.000000</td>\n",
              "      <td>0.0</td>\n",
              "      <td>0.000000</td>\n",
              "      <td>0.000000</td>\n",
              "      <td>0.0</td>\n",
              "      <td>0.000000</td>\n",
              "      <td>0.000000</td>\n",
              "      <td>1.0</td>\n",
              "      <td>0.020000</td>\n",
              "      <td>0.828571</td>\n",
              "      <td>0.0</td>\n",
              "      <td>0.000000</td>\n",
              "      <td>0.000000</td>\n",
              "      <td>0.0</td>\n",
              "      <td>0.000000</td>\n",
              "      <td>0.000000</td>\n",
              "      <td>0.0</td>\n",
              "    </tr>\n",
              "    <tr>\n",
              "      <th>1</th>\n",
              "      <td>0.083333</td>\n",
              "      <td>0.000000</td>\n",
              "      <td>0.870000</td>\n",
              "      <td>0.977778</td>\n",
              "      <td>1.0</td>\n",
              "      <td>0.593333</td>\n",
              "      <td>0.351111</td>\n",
              "      <td>1.0</td>\n",
              "      <td>0.380000</td>\n",
              "      <td>0.440000</td>\n",
              "      <td>1.0</td>\n",
              "      <td>0.650000</td>\n",
              "      <td>0.088889</td>\n",
              "      <td>1.0</td>\n",
              "      <td>0.156667</td>\n",
              "      <td>0.213333</td>\n",
              "      <td>1.0</td>\n",
              "      <td>0.520000</td>\n",
              "      <td>0.524444</td>\n",
              "      <td>1.0</td>\n",
              "      <td>0.533333</td>\n",
              "      <td>0.728889</td>\n",
              "      <td>0.0</td>\n",
              "      <td>0.000000</td>\n",
              "      <td>0.000000</td>\n",
              "      <td>0.0</td>\n",
              "      <td>0.000000</td>\n",
              "      <td>0.000000</td>\n",
              "      <td>0.0</td>\n",
              "      <td>0.000000</td>\n",
              "      <td>0.000000</td>\n",
              "      <td>0.0</td>\n",
              "      <td>0.000000</td>\n",
              "      <td>0.000000</td>\n",
              "      <td>0.0</td>\n",
              "      <td>0.000000</td>\n",
              "      <td>0.000000</td>\n",
              "      <td>0.0</td>\n",
              "      <td>0.000000</td>\n",
              "      <td>0.000000</td>\n",
              "      <td>0.0</td>\n",
              "      <td>0.000000</td>\n",
              "      <td>0.000000</td>\n",
              "      <td>0.0</td>\n",
              "      <td>0.000000</td>\n",
              "      <td>0.000000</td>\n",
              "      <td>0.0</td>\n",
              "      <td>0.000000</td>\n",
              "      <td>0.000000</td>\n",
              "      <td>0.0</td>\n",
              "      <td>0.000000</td>\n",
              "      <td>0.000000</td>\n",
              "      <td>0.0</td>\n",
              "      <td>0.000000</td>\n",
              "      <td>0.000000</td>\n",
              "      <td>0.0</td>\n",
              "      <td>0.000000</td>\n",
              "      <td>0.000000</td>\n",
              "      <td>0.0</td>\n",
              "      <td>0.000000</td>\n",
              "      <td>0.000000</td>\n",
              "      <td>0.0</td>\n",
              "      <td>0.000000</td>\n",
              "      <td>0.000000</td>\n",
              "      <td>0.0</td>\n",
              "    </tr>\n",
              "    <tr>\n",
              "      <th>2</th>\n",
              "      <td>0.203333</td>\n",
              "      <td>0.115556</td>\n",
              "      <td>0.756667</td>\n",
              "      <td>0.862222</td>\n",
              "      <td>1.0</td>\n",
              "      <td>0.346667</td>\n",
              "      <td>0.355556</td>\n",
              "      <td>1.0</td>\n",
              "      <td>0.280000</td>\n",
              "      <td>0.355556</td>\n",
              "      <td>1.0</td>\n",
              "      <td>0.403333</td>\n",
              "      <td>0.182222</td>\n",
              "      <td>1.0</td>\n",
              "      <td>0.250000</td>\n",
              "      <td>0.191111</td>\n",
              "      <td>1.0</td>\n",
              "      <td>0.316667</td>\n",
              "      <td>0.422222</td>\n",
              "      <td>1.0</td>\n",
              "      <td>0.393333</td>\n",
              "      <td>0.408889</td>\n",
              "      <td>1.0</td>\n",
              "      <td>0.726667</td>\n",
              "      <td>0.737778</td>\n",
              "      <td>1.0</td>\n",
              "      <td>0.533333</td>\n",
              "      <td>0.257778</td>\n",
              "      <td>1.0</td>\n",
              "      <td>0.510000</td>\n",
              "      <td>0.533333</td>\n",
              "      <td>1.0</td>\n",
              "      <td>0.426667</td>\n",
              "      <td>0.537778</td>\n",
              "      <td>1.0</td>\n",
              "      <td>0.640000</td>\n",
              "      <td>0.715556</td>\n",
              "      <td>0.0</td>\n",
              "      <td>0.000000</td>\n",
              "      <td>0.000000</td>\n",
              "      <td>1.0</td>\n",
              "      <td>0.496667</td>\n",
              "      <td>0.684444</td>\n",
              "      <td>1.0</td>\n",
              "      <td>0.450000</td>\n",
              "      <td>0.680000</td>\n",
              "      <td>1.0</td>\n",
              "      <td>0.566667</td>\n",
              "      <td>0.782222</td>\n",
              "      <td>0.0</td>\n",
              "      <td>0.000000</td>\n",
              "      <td>0.000000</td>\n",
              "      <td>1.0</td>\n",
              "      <td>0.466667</td>\n",
              "      <td>0.791111</td>\n",
              "      <td>1.0</td>\n",
              "      <td>0.433333</td>\n",
              "      <td>0.773333</td>\n",
              "      <td>0.0</td>\n",
              "      <td>0.000000</td>\n",
              "      <td>0.000000</td>\n",
              "      <td>0.0</td>\n",
              "      <td>0.000000</td>\n",
              "      <td>0.000000</td>\n",
              "      <td>0.0</td>\n",
              "    </tr>\n",
              "    <tr>\n",
              "      <th>3</th>\n",
              "      <td>0.129825</td>\n",
              "      <td>0.000000</td>\n",
              "      <td>0.929825</td>\n",
              "      <td>0.993333</td>\n",
              "      <td>1.0</td>\n",
              "      <td>0.775439</td>\n",
              "      <td>0.263333</td>\n",
              "      <td>1.0</td>\n",
              "      <td>0.554386</td>\n",
              "      <td>0.310000</td>\n",
              "      <td>1.0</td>\n",
              "      <td>0.789474</td>\n",
              "      <td>0.033333</td>\n",
              "      <td>1.0</td>\n",
              "      <td>0.385965</td>\n",
              "      <td>0.116667</td>\n",
              "      <td>1.0</td>\n",
              "      <td>0.666667</td>\n",
              "      <td>0.326667</td>\n",
              "      <td>1.0</td>\n",
              "      <td>0.698246</td>\n",
              "      <td>0.496667</td>\n",
              "      <td>0.0</td>\n",
              "      <td>0.000000</td>\n",
              "      <td>0.000000</td>\n",
              "      <td>1.0</td>\n",
              "      <td>0.301754</td>\n",
              "      <td>0.333333</td>\n",
              "      <td>1.0</td>\n",
              "      <td>0.747368</td>\n",
              "      <td>0.723333</td>\n",
              "      <td>1.0</td>\n",
              "      <td>0.389474</td>\n",
              "      <td>0.690000</td>\n",
              "      <td>0.0</td>\n",
              "      <td>0.000000</td>\n",
              "      <td>0.000000</td>\n",
              "      <td>1.0</td>\n",
              "      <td>0.203509</td>\n",
              "      <td>0.630000</td>\n",
              "      <td>1.0</td>\n",
              "      <td>0.663158</td>\n",
              "      <td>0.850000</td>\n",
              "      <td>1.0</td>\n",
              "      <td>0.428070</td>\n",
              "      <td>0.820000</td>\n",
              "      <td>0.0</td>\n",
              "      <td>0.000000</td>\n",
              "      <td>0.000000</td>\n",
              "      <td>1.0</td>\n",
              "      <td>0.238596</td>\n",
              "      <td>0.756667</td>\n",
              "      <td>1.0</td>\n",
              "      <td>0.649123</td>\n",
              "      <td>0.953333</td>\n",
              "      <td>1.0</td>\n",
              "      <td>0.435088</td>\n",
              "      <td>0.903333</td>\n",
              "      <td>0.0</td>\n",
              "      <td>0.000000</td>\n",
              "      <td>0.000000</td>\n",
              "      <td>1.0</td>\n",
              "      <td>0.280702</td>\n",
              "      <td>0.846667</td>\n",
              "      <td>0.0</td>\n",
              "    </tr>\n",
              "    <tr>\n",
              "      <th>4</th>\n",
              "      <td>0.014423</td>\n",
              "      <td>0.013333</td>\n",
              "      <td>0.956731</td>\n",
              "      <td>0.960000</td>\n",
              "      <td>1.0</td>\n",
              "      <td>0.649038</td>\n",
              "      <td>0.230000</td>\n",
              "      <td>1.0</td>\n",
              "      <td>0.485577</td>\n",
              "      <td>0.230000</td>\n",
              "      <td>1.0</td>\n",
              "      <td>0.774038</td>\n",
              "      <td>0.070000</td>\n",
              "      <td>1.0</td>\n",
              "      <td>0.389423</td>\n",
              "      <td>0.083333</td>\n",
              "      <td>1.0</td>\n",
              "      <td>0.567308</td>\n",
              "      <td>0.293333</td>\n",
              "      <td>1.0</td>\n",
              "      <td>0.649038</td>\n",
              "      <td>0.380000</td>\n",
              "      <td>1.0</td>\n",
              "      <td>0.062500</td>\n",
              "      <td>0.830000</td>\n",
              "      <td>1.0</td>\n",
              "      <td>0.322115</td>\n",
              "      <td>0.423333</td>\n",
              "      <td>1.0</td>\n",
              "      <td>0.850962</td>\n",
              "      <td>0.613333</td>\n",
              "      <td>1.0</td>\n",
              "      <td>0.600962</td>\n",
              "      <td>0.653333</td>\n",
              "      <td>0.0</td>\n",
              "      <td>0.000000</td>\n",
              "      <td>0.000000</td>\n",
              "      <td>1.0</td>\n",
              "      <td>0.384615</td>\n",
              "      <td>0.766667</td>\n",
              "      <td>1.0</td>\n",
              "      <td>0.846154</td>\n",
              "      <td>0.780000</td>\n",
              "      <td>1.0</td>\n",
              "      <td>0.677885</td>\n",
              "      <td>0.796667</td>\n",
              "      <td>0.0</td>\n",
              "      <td>0.000000</td>\n",
              "      <td>0.000000</td>\n",
              "      <td>0.0</td>\n",
              "      <td>0.000000</td>\n",
              "      <td>0.000000</td>\n",
              "      <td>1.0</td>\n",
              "      <td>0.875000</td>\n",
              "      <td>0.856667</td>\n",
              "      <td>0.0</td>\n",
              "      <td>0.000000</td>\n",
              "      <td>0.000000</td>\n",
              "      <td>0.0</td>\n",
              "      <td>0.000000</td>\n",
              "      <td>0.000000</td>\n",
              "      <td>0.0</td>\n",
              "      <td>0.000000</td>\n",
              "      <td>0.000000</td>\n",
              "      <td>0.0</td>\n",
              "    </tr>\n",
              "    <tr>\n",
              "      <th>...</th>\n",
              "      <td>...</td>\n",
              "      <td>...</td>\n",
              "      <td>...</td>\n",
              "      <td>...</td>\n",
              "      <td>...</td>\n",
              "      <td>...</td>\n",
              "      <td>...</td>\n",
              "      <td>...</td>\n",
              "      <td>...</td>\n",
              "      <td>...</td>\n",
              "      <td>...</td>\n",
              "      <td>...</td>\n",
              "      <td>...</td>\n",
              "      <td>...</td>\n",
              "      <td>...</td>\n",
              "      <td>...</td>\n",
              "      <td>...</td>\n",
              "      <td>...</td>\n",
              "      <td>...</td>\n",
              "      <td>...</td>\n",
              "      <td>...</td>\n",
              "      <td>...</td>\n",
              "      <td>...</td>\n",
              "      <td>...</td>\n",
              "      <td>...</td>\n",
              "      <td>...</td>\n",
              "      <td>...</td>\n",
              "      <td>...</td>\n",
              "      <td>...</td>\n",
              "      <td>...</td>\n",
              "      <td>...</td>\n",
              "      <td>...</td>\n",
              "      <td>...</td>\n",
              "      <td>...</td>\n",
              "      <td>...</td>\n",
              "      <td>...</td>\n",
              "      <td>...</td>\n",
              "      <td>...</td>\n",
              "      <td>...</td>\n",
              "      <td>...</td>\n",
              "      <td>...</td>\n",
              "      <td>...</td>\n",
              "      <td>...</td>\n",
              "      <td>...</td>\n",
              "      <td>...</td>\n",
              "      <td>...</td>\n",
              "      <td>...</td>\n",
              "      <td>...</td>\n",
              "      <td>...</td>\n",
              "      <td>...</td>\n",
              "      <td>...</td>\n",
              "      <td>...</td>\n",
              "      <td>...</td>\n",
              "      <td>...</td>\n",
              "      <td>...</td>\n",
              "      <td>...</td>\n",
              "      <td>...</td>\n",
              "      <td>...</td>\n",
              "      <td>...</td>\n",
              "      <td>...</td>\n",
              "      <td>...</td>\n",
              "      <td>...</td>\n",
              "      <td>...</td>\n",
              "      <td>...</td>\n",
              "      <td>...</td>\n",
              "    </tr>\n",
              "    <tr>\n",
              "      <th>412</th>\n",
              "      <td>0.204687</td>\n",
              "      <td>0.000000</td>\n",
              "      <td>0.998437</td>\n",
              "      <td>0.828413</td>\n",
              "      <td>1.0</td>\n",
              "      <td>0.337500</td>\n",
              "      <td>0.584871</td>\n",
              "      <td>0.0</td>\n",
              "      <td>0.000000</td>\n",
              "      <td>0.000000</td>\n",
              "      <td>1.0</td>\n",
              "      <td>0.384375</td>\n",
              "      <td>0.507380</td>\n",
              "      <td>0.0</td>\n",
              "      <td>0.000000</td>\n",
              "      <td>0.000000</td>\n",
              "      <td>1.0</td>\n",
              "      <td>0.250000</td>\n",
              "      <td>0.798893</td>\n",
              "      <td>1.0</td>\n",
              "      <td>0.578125</td>\n",
              "      <td>0.431734</td>\n",
              "      <td>0.0</td>\n",
              "      <td>0.000000</td>\n",
              "      <td>0.000000</td>\n",
              "      <td>0.0</td>\n",
              "      <td>0.000000</td>\n",
              "      <td>0.000000</td>\n",
              "      <td>1.0</td>\n",
              "      <td>0.812500</td>\n",
              "      <td>0.306273</td>\n",
              "      <td>0.0</td>\n",
              "      <td>0.000000</td>\n",
              "      <td>0.000000</td>\n",
              "      <td>0.0</td>\n",
              "      <td>0.000000</td>\n",
              "      <td>0.000000</td>\n",
              "      <td>0.0</td>\n",
              "      <td>0.000000</td>\n",
              "      <td>0.000000</td>\n",
              "      <td>1.0</td>\n",
              "      <td>0.798438</td>\n",
              "      <td>0.533210</td>\n",
              "      <td>1.0</td>\n",
              "      <td>0.520312</td>\n",
              "      <td>0.562731</td>\n",
              "      <td>0.0</td>\n",
              "      <td>0.000000</td>\n",
              "      <td>0.000000</td>\n",
              "      <td>0.0</td>\n",
              "      <td>0.000000</td>\n",
              "      <td>0.000000</td>\n",
              "      <td>1.0</td>\n",
              "      <td>0.818750</td>\n",
              "      <td>0.706642</td>\n",
              "      <td>1.0</td>\n",
              "      <td>0.462500</td>\n",
              "      <td>0.728782</td>\n",
              "      <td>0.0</td>\n",
              "      <td>0.000000</td>\n",
              "      <td>0.000000</td>\n",
              "      <td>0.0</td>\n",
              "      <td>0.000000</td>\n",
              "      <td>0.000000</td>\n",
              "      <td>4.0</td>\n",
              "    </tr>\n",
              "    <tr>\n",
              "      <th>413</th>\n",
              "      <td>0.332813</td>\n",
              "      <td>0.227700</td>\n",
              "      <td>0.817187</td>\n",
              "      <td>0.936620</td>\n",
              "      <td>1.0</td>\n",
              "      <td>0.456250</td>\n",
              "      <td>0.321596</td>\n",
              "      <td>1.0</td>\n",
              "      <td>0.385937</td>\n",
              "      <td>0.319249</td>\n",
              "      <td>1.0</td>\n",
              "      <td>0.475000</td>\n",
              "      <td>0.291080</td>\n",
              "      <td>1.0</td>\n",
              "      <td>0.371875</td>\n",
              "      <td>0.272300</td>\n",
              "      <td>1.0</td>\n",
              "      <td>0.414062</td>\n",
              "      <td>0.380282</td>\n",
              "      <td>1.0</td>\n",
              "      <td>0.412500</td>\n",
              "      <td>0.535211</td>\n",
              "      <td>1.0</td>\n",
              "      <td>0.775000</td>\n",
              "      <td>0.399061</td>\n",
              "      <td>1.0</td>\n",
              "      <td>0.525000</td>\n",
              "      <td>0.352113</td>\n",
              "      <td>1.0</td>\n",
              "      <td>0.553125</td>\n",
              "      <td>0.645540</td>\n",
              "      <td>0.0</td>\n",
              "      <td>0.000000</td>\n",
              "      <td>0.000000</td>\n",
              "      <td>1.0</td>\n",
              "      <td>0.659375</td>\n",
              "      <td>0.626761</td>\n",
              "      <td>0.0</td>\n",
              "      <td>0.000000</td>\n",
              "      <td>0.000000</td>\n",
              "      <td>1.0</td>\n",
              "      <td>0.528125</td>\n",
              "      <td>0.751174</td>\n",
              "      <td>1.0</td>\n",
              "      <td>0.453125</td>\n",
              "      <td>0.741784</td>\n",
              "      <td>1.0</td>\n",
              "      <td>0.700000</td>\n",
              "      <td>0.730047</td>\n",
              "      <td>1.0</td>\n",
              "      <td>0.781250</td>\n",
              "      <td>0.701878</td>\n",
              "      <td>1.0</td>\n",
              "      <td>0.543750</td>\n",
              "      <td>0.882629</td>\n",
              "      <td>1.0</td>\n",
              "      <td>0.440625</td>\n",
              "      <td>0.875587</td>\n",
              "      <td>1.0</td>\n",
              "      <td>0.657813</td>\n",
              "      <td>0.856808</td>\n",
              "      <td>1.0</td>\n",
              "      <td>0.804688</td>\n",
              "      <td>0.866197</td>\n",
              "      <td>4.0</td>\n",
              "    </tr>\n",
              "    <tr>\n",
              "      <th>414</th>\n",
              "      <td>0.148438</td>\n",
              "      <td>0.575000</td>\n",
              "      <td>0.607812</td>\n",
              "      <td>0.870833</td>\n",
              "      <td>0.0</td>\n",
              "      <td>0.000000</td>\n",
              "      <td>0.000000</td>\n",
              "      <td>1.0</td>\n",
              "      <td>0.567187</td>\n",
              "      <td>0.635417</td>\n",
              "      <td>0.0</td>\n",
              "      <td>0.000000</td>\n",
              "      <td>0.000000</td>\n",
              "      <td>1.0</td>\n",
              "      <td>0.535937</td>\n",
              "      <td>0.612500</td>\n",
              "      <td>1.0</td>\n",
              "      <td>0.604688</td>\n",
              "      <td>0.691667</td>\n",
              "      <td>1.0</td>\n",
              "      <td>0.510938</td>\n",
              "      <td>0.718750</td>\n",
              "      <td>1.0</td>\n",
              "      <td>0.193750</td>\n",
              "      <td>0.652083</td>\n",
              "      <td>1.0</td>\n",
              "      <td>0.431250</td>\n",
              "      <td>0.612500</td>\n",
              "      <td>0.0</td>\n",
              "      <td>0.000000</td>\n",
              "      <td>0.000000</td>\n",
              "      <td>1.0</td>\n",
              "      <td>0.393750</td>\n",
              "      <td>0.739583</td>\n",
              "      <td>0.0</td>\n",
              "      <td>0.000000</td>\n",
              "      <td>0.000000</td>\n",
              "      <td>1.0</td>\n",
              "      <td>0.242188</td>\n",
              "      <td>0.731250</td>\n",
              "      <td>0.0</td>\n",
              "      <td>0.000000</td>\n",
              "      <td>0.000000</td>\n",
              "      <td>1.0</td>\n",
              "      <td>0.407813</td>\n",
              "      <td>0.802083</td>\n",
              "      <td>1.0</td>\n",
              "      <td>0.217188</td>\n",
              "      <td>0.827083</td>\n",
              "      <td>1.0</td>\n",
              "      <td>0.257812</td>\n",
              "      <td>0.804167</td>\n",
              "      <td>0.0</td>\n",
              "      <td>0.000000</td>\n",
              "      <td>0.000000</td>\n",
              "      <td>0.0</td>\n",
              "      <td>0.000000</td>\n",
              "      <td>0.000000</td>\n",
              "      <td>0.0</td>\n",
              "      <td>0.000000</td>\n",
              "      <td>0.000000</td>\n",
              "      <td>0.0</td>\n",
              "      <td>0.000000</td>\n",
              "      <td>0.000000</td>\n",
              "      <td>4.0</td>\n",
              "    </tr>\n",
              "    <tr>\n",
              "      <th>415</th>\n",
              "      <td>0.198437</td>\n",
              "      <td>0.228723</td>\n",
              "      <td>0.767187</td>\n",
              "      <td>0.744681</td>\n",
              "      <td>0.0</td>\n",
              "      <td>0.000000</td>\n",
              "      <td>0.000000</td>\n",
              "      <td>1.0</td>\n",
              "      <td>0.718750</td>\n",
              "      <td>0.279255</td>\n",
              "      <td>1.0</td>\n",
              "      <td>0.660937</td>\n",
              "      <td>0.250000</td>\n",
              "      <td>1.0</td>\n",
              "      <td>0.687500</td>\n",
              "      <td>0.273936</td>\n",
              "      <td>1.0</td>\n",
              "      <td>0.762500</td>\n",
              "      <td>0.348404</td>\n",
              "      <td>1.0</td>\n",
              "      <td>0.646875</td>\n",
              "      <td>0.412234</td>\n",
              "      <td>1.0</td>\n",
              "      <td>0.306250</td>\n",
              "      <td>0.303191</td>\n",
              "      <td>1.0</td>\n",
              "      <td>0.575000</td>\n",
              "      <td>0.297872</td>\n",
              "      <td>0.0</td>\n",
              "      <td>0.000000</td>\n",
              "      <td>0.000000</td>\n",
              "      <td>1.0</td>\n",
              "      <td>0.571875</td>\n",
              "      <td>0.502660</td>\n",
              "      <td>1.0</td>\n",
              "      <td>0.287500</td>\n",
              "      <td>0.497340</td>\n",
              "      <td>1.0</td>\n",
              "      <td>0.348438</td>\n",
              "      <td>0.497340</td>\n",
              "      <td>1.0</td>\n",
              "      <td>0.515625</td>\n",
              "      <td>0.609043</td>\n",
              "      <td>1.0</td>\n",
              "      <td>0.625000</td>\n",
              "      <td>0.593085</td>\n",
              "      <td>1.0</td>\n",
              "      <td>0.243750</td>\n",
              "      <td>0.587766</td>\n",
              "      <td>1.0</td>\n",
              "      <td>0.314063</td>\n",
              "      <td>0.603723</td>\n",
              "      <td>1.0</td>\n",
              "      <td>0.495312</td>\n",
              "      <td>0.699468</td>\n",
              "      <td>1.0</td>\n",
              "      <td>0.632812</td>\n",
              "      <td>0.704787</td>\n",
              "      <td>1.0</td>\n",
              "      <td>0.214062</td>\n",
              "      <td>0.704787</td>\n",
              "      <td>1.0</td>\n",
              "      <td>0.342187</td>\n",
              "      <td>0.715426</td>\n",
              "      <td>4.0</td>\n",
              "    </tr>\n",
              "    <tr>\n",
              "      <th>416</th>\n",
              "      <td>0.216667</td>\n",
              "      <td>0.240000</td>\n",
              "      <td>0.876667</td>\n",
              "      <td>0.897778</td>\n",
              "      <td>1.0</td>\n",
              "      <td>0.816667</td>\n",
              "      <td>0.413333</td>\n",
              "      <td>1.0</td>\n",
              "      <td>0.700000</td>\n",
              "      <td>0.417778</td>\n",
              "      <td>1.0</td>\n",
              "      <td>0.826667</td>\n",
              "      <td>0.377778</td>\n",
              "      <td>1.0</td>\n",
              "      <td>0.673333</td>\n",
              "      <td>0.386667</td>\n",
              "      <td>1.0</td>\n",
              "      <td>0.773333</td>\n",
              "      <td>0.511111</td>\n",
              "      <td>1.0</td>\n",
              "      <td>0.680000</td>\n",
              "      <td>0.644444</td>\n",
              "      <td>0.0</td>\n",
              "      <td>0.000000</td>\n",
              "      <td>0.000000</td>\n",
              "      <td>0.0</td>\n",
              "      <td>0.000000</td>\n",
              "      <td>0.000000</td>\n",
              "      <td>0.0</td>\n",
              "      <td>0.000000</td>\n",
              "      <td>0.000000</td>\n",
              "      <td>1.0</td>\n",
              "      <td>0.530000</td>\n",
              "      <td>0.622222</td>\n",
              "      <td>0.0</td>\n",
              "      <td>0.000000</td>\n",
              "      <td>0.000000</td>\n",
              "      <td>1.0</td>\n",
              "      <td>0.286667</td>\n",
              "      <td>0.555556</td>\n",
              "      <td>1.0</td>\n",
              "      <td>0.670000</td>\n",
              "      <td>0.777778</td>\n",
              "      <td>1.0</td>\n",
              "      <td>0.553333</td>\n",
              "      <td>0.791111</td>\n",
              "      <td>1.0</td>\n",
              "      <td>0.353333</td>\n",
              "      <td>0.671111</td>\n",
              "      <td>1.0</td>\n",
              "      <td>0.270000</td>\n",
              "      <td>0.688889</td>\n",
              "      <td>1.0</td>\n",
              "      <td>0.660000</td>\n",
              "      <td>0.862222</td>\n",
              "      <td>0.0</td>\n",
              "      <td>0.000000</td>\n",
              "      <td>0.000000</td>\n",
              "      <td>1.0</td>\n",
              "      <td>0.370000</td>\n",
              "      <td>0.768889</td>\n",
              "      <td>1.0</td>\n",
              "      <td>0.273333</td>\n",
              "      <td>0.791111</td>\n",
              "      <td>4.0</td>\n",
              "    </tr>\n",
              "  </tbody>\n",
              "</table>\n",
              "<p>417 rows × 65 columns</p>\n",
              "</div>"
            ],
            "text/plain": [
              "     bounds_x  bounds_y  bounds_width  ...  R_B_paw_x  R_B_paw_y  animal\n",
              "0    0.006667  0.023810      0.993333  ...   0.000000   0.000000     0.0\n",
              "1    0.083333  0.000000      0.870000  ...   0.000000   0.000000     0.0\n",
              "2    0.203333  0.115556      0.756667  ...   0.000000   0.000000     0.0\n",
              "3    0.129825  0.000000      0.929825  ...   0.280702   0.846667     0.0\n",
              "4    0.014423  0.013333      0.956731  ...   0.000000   0.000000     0.0\n",
              "..        ...       ...           ...  ...        ...        ...     ...\n",
              "412  0.204687  0.000000      0.998437  ...   0.000000   0.000000     4.0\n",
              "413  0.332813  0.227700      0.817187  ...   0.804688   0.866197     4.0\n",
              "414  0.148438  0.575000      0.607812  ...   0.000000   0.000000     4.0\n",
              "415  0.198437  0.228723      0.767187  ...   0.342187   0.715426     4.0\n",
              "416  0.216667  0.240000      0.876667  ...   0.273333   0.791111     4.0\n",
              "\n",
              "[417 rows x 65 columns]"
            ]
          },
          "metadata": {
            "tags": []
          },
          "execution_count": 23
        }
      ]
    },
    {
      "cell_type": "code",
      "metadata": {
        "colab": {
          "base_uri": "https://localhost:8080/"
        },
        "id": "HI_zSw_Iomb8",
        "outputId": "11f461be-8383-450b-990a-fdcc0848fb42"
      },
      "source": [
        "X_new_train, X_new_test, y_new_train, y_new_test = train_test_split(X_new, y_new, test_size=0.4, random_state=22)\n",
        "X_new_val, X_new_test, y_new_val, y_new_test = train_test_split(X_new_test, y_new_test, test_size=0.4, random_state=22)\n",
        "\n",
        "print(f\"SPLIT\\nTrain:\\t{len(X_new_train)}\\nVal:\\t{len(X_new_val)}\\nTest:\\t{len(X_new_test)}\")"
      ],
      "execution_count": 24,
      "outputs": [
        {
          "output_type": "stream",
          "text": [
            "SPLIT\n",
            "Train:\t250\n",
            "Val:\t100\n",
            "Test:\t67\n"
          ],
          "name": "stdout"
        }
      ]
    },
    {
      "cell_type": "code",
      "metadata": {
        "id": "sNP-k7Ibo4LW"
      },
      "source": [
        "train_pool = Pool(data=X_new_train, label=y_new_train['label'])\n",
        "eval_pool = Pool(data=X_new_val, label=y_new_val['label']) "
      ],
      "execution_count": 25,
      "outputs": []
    },
    {
      "cell_type": "code",
      "metadata": {
        "id": "6slQ5lIMyqDs"
      },
      "source": [
        "cat_classifier2 = CatBoostClassifier(\n",
        "    loss_function='MultiClass',\n",
        "    eval_metric='Accuracy',\n",
        "    use_best_model=True,\n",
        "    random_state = 22\n",
        ")"
      ],
      "execution_count": 26,
      "outputs": []
    },
    {
      "cell_type": "code",
      "metadata": {
        "id": "0k6IwSaUy1yn",
        "colab": {
          "base_uri": "https://localhost:8080/"
        },
        "outputId": "c41af121-37cf-4b30-f398-ba5b0dd21ee6"
      },
      "source": [
        "cat_classifier2.fit(train_pool, eval_set=eval_pool, verbose=False, plot=False)"
      ],
      "execution_count": 27,
      "outputs": [
        {
          "output_type": "execute_result",
          "data": {
            "text/plain": [
              "<catboost.core.CatBoostClassifier at 0x7f3ed9975d50>"
            ]
          },
          "metadata": {
            "tags": []
          },
          "execution_count": 27
        }
      ]
    },
    {
      "cell_type": "code",
      "metadata": {
        "colab": {
          "base_uri": "https://localhost:8080/"
        },
        "id": "Uvtr_5d3Uzcz",
        "outputId": "981c697f-25bc-4702-c8f5-fca7ccd948e7"
      },
      "source": [
        "cat_classifier2.get_best_score()"
      ],
      "execution_count": 28,
      "outputs": [
        {
          "output_type": "execute_result",
          "data": {
            "text/plain": [
              "{'learn': {'Accuracy': 1.0, 'MultiClass': 0.014061682248007985},\n",
              " 'validation': {'Accuracy': 0.65, 'MultiClass': 0.9008209458820332}}"
            ]
          },
          "metadata": {
            "tags": []
          },
          "execution_count": 28
        }
      ]
    },
    {
      "cell_type": "code",
      "metadata": {
        "colab": {
          "base_uri": "https://localhost:8080/",
          "height": 632
        },
        "id": "n0yaN2dRbSo6",
        "outputId": "4ab007f0-8c0e-4e51-cec5-ad59b8f92141"
      },
      "source": [
        "preds = cat_classifier2.predict(X_new_test)\n",
        "targets = list(y_new_test[\"label\"])\n",
        "\n",
        "names = y_columns\n",
        "\n",
        "preds = cat_classifier2.predict(X_new_test)\n",
        "targets = list(y_new_test[\"label\"])\n",
        "\n",
        "n = len(names)\n",
        "\n",
        "classes_count = [0] * n\n",
        "classes_correct = [0] * n\n",
        "\n",
        "for idx in range(len(targets)):\n",
        "    classes_count[targets[idx]] += 1\n",
        "    if targets[idx] == preds[idx]:\n",
        "        classes_correct[targets[idx]] += 1\n",
        "\n",
        "plt.rcParams['figure.figsize'] = (14, 8)\n",
        "plt.bar(range(n), classes_count, color=\"red\");\n",
        "plt.bar(range(n), classes_correct, color=\"green\");\n",
        "plt.xticks(range(n), names);\n",
        "plt.ylabel('Correct/Total number of class elements')\n",
        "plt.xlabel('Classes')\n",
        "plt.title(\"Prediction histogram\")\n",
        "plt.show()\n",
        "\n",
        "print()\n",
        "for idx in range(n):\n",
        "    print(\"{}:   {}/{}   {:.1f}%\".format(names[idx].title(), classes_correct[idx], classes_count[idx], 100*classes_correct[idx]/classes_count[idx]))\n",
        "\n",
        "print(\"\\ntotal:   {}/{}   {:.1f}%\".format(sum(classes_correct), sum(classes_count), 100*sum(classes_correct)/sum(classes_count)))"
      ],
      "execution_count": 29,
      "outputs": [
        {
          "output_type": "display_data",
          "data": {
            "image/png": "[encoded data removed]",
            "text/plain": [
              "<Figure size 1008x576 with 1 Axes>"
            ]
          },
          "metadata": {
            "tags": [],
            "needs_background": "light"
          }
        },
        {
          "output_type": "stream",
          "text": [
            "\n",
            "Sit:   9/16   56.2%\n",
            "Lie:   12/18   66.7%\n",
            "Go:   20/22   90.9%\n",
            "Run:   5/11   45.5%\n",
            "\n",
            "total:   46/67   68.7%\n"
          ],
          "name": "stdout"
        }
      ]
    },
    {
      "cell_type": "code",
      "metadata": {
        "id": "6lTMAOlJ0XvI"
      },
      "source": [
        "cat_classifier2.save_model('cat_classifier_last4')"
      ],
      "execution_count": 30,
      "outputs": []
    },
    {
      "cell_type": "markdown",
      "metadata": {
        "id": "SodqLenCm0Zu"
      },
      "source": [
        "# MyNet\n",
        "0.6341"
      ]
    },
    {
      "cell_type": "code",
      "metadata": {
        "id": "9brCCXjrU1VT"
      },
      "source": [
        "class AnimalsDataset(Dataset):\n",
        "    def __init__(self, csv_file, root_dir, transform=None):\n",
        "        self.data = csv_file\n",
        "        self.root_dir = root_dir\n",
        "        self.transform = transform\n",
        "\n",
        "    def __len__(self):\n",
        "        return len(self.data)\n",
        "\n",
        "    def __getitem__(self, idx):\n",
        "        img_idx = self.data.iloc[idx, 0]\n",
        "        img_name = os.path.join(self.root_dir, \"0\"*(3-len(str(img_idx))) + str(img_idx) + \".jpeg\")\n",
        "        image = Image.open(img_name)\n",
        "        features = self.data.iloc[idx, 1:].to_numpy()\n",
        "\n",
        "        if self.transform:\n",
        "            image = self.transform(image)\n",
        "\n",
        "        sample = (image, features)\n",
        "\n",
        "        return sample"
      ],
      "execution_count": null,
      "outputs": []
    },
    {
      "cell_type": "code",
      "metadata": {
        "id": "mIA38WnanNoS"
      },
      "source": [
        "target_size = (188, 188)"
      ],
      "execution_count": null,
      "outputs": []
    },
    {
      "cell_type": "code",
      "metadata": {
        "colab": {
          "base_uri": "https://localhost:8080/"
        },
        "id": "7QE5flz9nQF5",
        "outputId": "c1e4805e-54ba-49da-aeec-6ac98d9ac1d1"
      },
      "source": [
        "train_transforms = transforms.Compose([\n",
        "        transforms.Resize(target_size),\n",
        "        transforms.ToTensor()\n",
        "])\n",
        "\n",
        "\n",
        "for column in df.columns:\n",
        "    if '_x' in column or '_width' in column or '_y' in column or '_height' in column:\n",
        "        df[column] = df[column].astype(float)\n",
        "\n",
        "df_dict = df.to_dict()\n",
        "\n",
        "for idx in df_dict['id'].values():\n",
        "    img_name = os.path.join(data_dir, 'animals', \"0\"*(3-len(str(idx))) + str(idx) + \".jpeg\")\n",
        "    image = Image.open(img_name)\n",
        "    x_size, y_size = image.size\n",
        "    for column in df_dict.keys():\n",
        "        if '_x' in column or '_width' in column:\n",
        "            df_dict[column][idx] /= x_size\n",
        "        elif '_y' in column or '_height' in column:\n",
        "            df_dict[column][idx] /= y_size\n",
        "\n",
        "df = pd.DataFrame.from_dict(df_dict)\n",
        "\n",
        "dataset = AnimalsDataset(csv_file=df, root_dir=os.path.join(data_dir, 'animals'), transform=train_transforms)\n",
        "\n",
        "print(f\"Экземпляров в датасете: {len(dataset)}\")"
      ],
      "execution_count": null,
      "outputs": [
        {
          "output_type": "stream",
          "text": [
            "Экземпляров в датасете: 967\n"
          ],
          "name": "stdout"
        }
      ]
    },
    {
      "cell_type": "code",
      "metadata": {
        "id": "k5QWFGkro5hM"
      },
      "source": [
        "train_set, val_set, test_set = torch.utils.data.random_split(dataset, [580, 232, 155])\n",
        "\n",
        "batch_size = 20\n",
        "num_workers = 0\n",
        "\n",
        "train_dataloader = DataLoader(train_set, batch_size=batch_size, shuffle=True, num_workers=num_workers)\n",
        "val_dataloader = DataLoader(val_set, batch_size=batch_size, shuffle=True, num_workers=num_workers)\n",
        "test_dataloader = DataLoader(test_set, batch_size=batch_size, shuffle=True, num_workers=num_workers)"
      ],
      "execution_count": null,
      "outputs": []
    },
    {
      "cell_type": "code",
      "metadata": {
        "colab": {
          "base_uri": "https://localhost:8080/"
        },
        "id": "Hrsa36JYpJnF",
        "outputId": "e4dd19d0-626b-4ea0-aaf4-600b7686cc6e"
      },
      "source": [
        "device = torch.device(\"cuda:0\" if torch.cuda.is_available() else \"cpu\")\n",
        "print(\"Device:\", device)"
      ],
      "execution_count": null,
      "outputs": [
        {
          "output_type": "stream",
          "text": [
            "Device: cuda:0\n"
          ],
          "name": "stdout"
        }
      ]
    },
    {
      "cell_type": "code",
      "metadata": {
        "id": "c1vvS1gnpb0E"
      },
      "source": [
        "class MyNet(nn.Module):\n",
        "    def __init__(self):\n",
        "        super(MyNet, self).__init__()\n",
        "        self.conv1 = nn.Conv2d(3, 10, kernel_size=3)\n",
        "        self.conv1_1 = nn.Conv2d(10, 10, kernel_size=3)\n",
        "        self.conv2 = nn.Conv2d(10, 20, kernel_size=3)\n",
        "        self.conv3 = nn.Conv2d(20, 20, kernel_size=3)\n",
        "        self.conv4 = nn.Conv2d(20, 30, kernel_size=3)\n",
        "\n",
        "        self.fc1 = nn.Linear(1280, 640)\n",
        "        self.fc2 = nn.Linear(640, 300)\n",
        "        self.fc3 = nn.Linear(300, 100)\n",
        "        self.fc4 = nn.Linear(100, 31)\n",
        "\n",
        "        self.fc5 = nn.Linear(100, 60)\n",
        "        self.fc6 = nn.Linear(60, 30)\n",
        "        self.fc7 = nn.Linear(30, 20)\n",
        "        self.fc8 = nn.Linear(20, 9)\n",
        "\n",
        "        self.dropout = nn.Dropout2d()\n",
        "        self.bn21 = nn.BatchNorm2d(10)\n",
        "        self.bn22 = nn.BatchNorm2d(20)\n",
        "        self.bn11 = nn.BatchNorm1d(60)\n",
        "        self.bn12 = nn.BatchNorm1d(30)\n",
        "        self.bn13 = nn.BatchNorm1d(20)\n",
        "\n",
        "\n",
        "    \n",
        "    def forward(self, x, x1):\n",
        "        # input is 256x256x3\n",
        "        # conv1(kernel=3, filters=10)x2 188x188x3 -> 184x184x10\n",
        "        # max_pool(kernel=2) 184x184x10 -> 92x92x10\n",
        "        x = F.relu(self.bn21(F.max_pool2d(self.conv1_1(self.conv1(x)), 2)))\n",
        "        \n",
        "        # conv2(kernel=3, filters=20)x2 92x92x10 -> 88x88x20\n",
        "        # max_pool(kernel=2) 88x88x20 -> 44x44x20\n",
        "        x = F.relu(self.bn22(F.max_pool2d(self.dropout(self.conv3(self.conv2(x))), 2)))\n",
        "\n",
        "        # conv2(kernel=3, filters=20)x2 44x44x20 -> 40x40x20\n",
        "        # max_pool(kernel=2) 40x40x20 -> 20x20x20\n",
        "        x = F.relu(self.bn22(F.max_pool2d(self.dropout(self.conv3(self.conv3(x))), 2)))\n",
        "\n",
        "        # conv2(kernel=3, filters=20)x2 20x20x20 -> 16x16x20\n",
        "        # max_pool(kernel=2) 16x16x20 -> 8x8x20\n",
        "        x = F.relu(self.bn22(F.max_pool2d(self.dropout(self.conv3(self.conv3(x))), 2)))\n",
        "        \n",
        "        # flatten 8x8x20 = 1280\n",
        "        x = x.view(-1, 1280)\n",
        "        \n",
        "        # 1280 -> 640\n",
        "        x = F.relu(self.fc1(x))\n",
        "        x = F.dropout(x, training=self.training)\n",
        "\n",
        "        # 640 -> 300\n",
        "        x = F.relu(self.fc2(x))\n",
        "        x = F.dropout(x, training=self.training)\n",
        "\n",
        "        # 300 -> 100\n",
        "        x = F.relu(self.fc3(x))\n",
        "        x = F.dropout(x, training=self.training)\n",
        "        \n",
        "        # 100 -> 31\n",
        "        x = F.softmax(self.fc4(x))\n",
        "        \n",
        "        # 31 + 69 = 100\n",
        "        x = torch.cat((x, x1.float()), dim=1)\n",
        "\n",
        "        # 100 -> 60\n",
        "        x = F.relu(self.bn11(self.fc5(x)))\n",
        "        x = F.dropout(x, training=self.training)\n",
        "\n",
        "        # 60 -> 30\n",
        "        x = F.relu(self.bn12(self.fc6(x)))\n",
        "        x = F.dropout(x, training=self.training)\n",
        "\n",
        "        # 30 -> 20\n",
        "        x = F.relu(self.bn13(self.fc7(x)))\n",
        "        x = F.dropout(x, training=self.training)\n",
        "\n",
        "        # 20 -> 9\n",
        "        x = self.fc8(x)\n",
        "\n",
        "        return F.log_softmax(x)"
      ],
      "execution_count": null,
      "outputs": []
    },
    {
      "cell_type": "code",
      "metadata": {
        "id": "XO-GujUPy6Ri"
      },
      "source": [
        "model = MyNet()\n",
        "model.to(device)\n",
        "\n",
        "criterion = nn.NLLLoss()\n",
        "\n",
        "params = [p for p in model.parameters() if p.requires_grad]\n",
        "optimizer = torch.optim.Adam(params, amsgrad=True, lr=0.001)\n",
        "\n",
        "loss_history = {'train':[], 'val':[]}\n",
        "acc_history = []"
      ],
      "execution_count": null,
      "outputs": []
    },
    {
      "cell_type": "code",
      "metadata": {
        "id": "eJMtu_Pzy8Zi"
      },
      "source": [
        "def train():\n",
        "    model.train()\n",
        "\n",
        "    running_loss = 0.\n",
        "    for images, targets in train_dataloader:\n",
        "        images = images.to(device)\n",
        "        targets = targets.to(device)\n",
        "        x1, answers = targets[:, :-9], torch.max(targets[:, -9:], 1)[1]\n",
        "\n",
        "        images = Variable(images)\n",
        "        x1 = Variable(x1)\n",
        "        answers = Variable(answers)\n",
        "\n",
        "        optimizer.zero_grad()\n",
        "\n",
        "        with torch.set_grad_enabled(True):\n",
        "            preds = model(images, x1)\n",
        "\n",
        "            loss = criterion(preds, answers)\n",
        "            loss.backward()\n",
        "            running_loss += loss.item() / len(images)\n",
        "\n",
        "            optimizer.step()\n",
        "\n",
        "    epoch_loss = running_loss/len(train_dataloader)\n",
        "    loss_history['train'].append(epoch_loss)\n",
        "    print('TRAIN Average loss: {:.4f}'.format(epoch_loss))"
      ],
      "execution_count": null,
      "outputs": []
    },
    {
      "cell_type": "code",
      "metadata": {
        "id": "YQWNEj4wy9zL"
      },
      "source": [
        "def val():\n",
        "    model.eval()\n",
        "\n",
        "    running_loss = 0.\n",
        "    correct = 0\n",
        "    for images, targets in val_dataloader:\n",
        "        images = images.to(device)\n",
        "        targets = targets.to(device)\n",
        "        x1, answers = targets[:, :-9], torch.max(targets[:, -9:], 1)[1]\n",
        "\n",
        "        images = Variable(images)\n",
        "        x1 = Variable(x1)\n",
        "        answers = Variable(answers)\n",
        "        \n",
        "        with torch.no_grad():\n",
        "            preds = model(images, x1)\n",
        "            loss = criterion(preds, answers)\n",
        "            running_loss += loss.item() / len(images)\n",
        "\n",
        "            pred = torch.max(preds.data, 1)[1]\n",
        "            correct += pred.eq(answers.data).cpu().sum() / len(images)\n",
        "\n",
        "\n",
        "    epoch_loss = running_loss/len(val_dataloader)\n",
        "    loss_history['val'].append(epoch_loss)\n",
        "    accuracy = correct / len(val_dataloader)\n",
        "    acc_history.append(accuracy)\n",
        "    print('EVAL  Average loss: {:.4f}, Accuracy: {:.4f}\\n'.format(epoch_loss, accuracy))"
      ],
      "execution_count": null,
      "outputs": []
    },
    {
      "cell_type": "code",
      "metadata": {
        "id": "5-ki753Vy_pb",
        "colab": {
          "base_uri": "https://localhost:8080/"
        },
        "outputId": "bd3f4d9b-65d2-4299-f89a-a953d3520e8a"
      },
      "source": [
        "num_epochs = 15\n",
        "\n",
        "for epoch in range(num_epochs):\n",
        "    print(\"Epoch %d\" % epoch)\n",
        "    train()\n",
        "    val()"
      ],
      "execution_count": null,
      "outputs": [
        {
          "output_type": "stream",
          "text": [
            "Epoch 0\n"
          ],
          "name": "stdout"
        },
        {
          "output_type": "stream",
          "text": [
            "/usr/local/lib/python3.7/dist-packages/ipykernel_launcher.py:63: UserWarning: Implicit dimension choice for softmax has been deprecated. Change the call to include dim=X as an argument.\n",
            "/usr/local/lib/python3.7/dist-packages/ipykernel_launcher.py:83: UserWarning: Implicit dimension choice for log_softmax has been deprecated. Change the call to include dim=X as an argument.\n"
          ],
          "name": "stderr"
        },
        {
          "output_type": "stream",
          "text": [
            "TRAIN Average loss: 0.1136\n",
            "EVAL  Average loss: 0.1141, Accuracy: 0.0611\n",
            "\n",
            "Epoch 1\n",
            "TRAIN Average loss: 0.1048\n",
            "EVAL  Average loss: 0.1064, Accuracy: 0.2958\n",
            "\n",
            "Epoch 2\n",
            "TRAIN Average loss: 0.0971\n",
            "EVAL  Average loss: 0.1006, Accuracy: 0.4403\n",
            "\n",
            "Epoch 3\n",
            "TRAIN Average loss: 0.0922\n",
            "EVAL  Average loss: 0.0972, Accuracy: 0.4583\n",
            "\n",
            "Epoch 4\n",
            "TRAIN Average loss: 0.0888\n",
            "EVAL  Average loss: 0.0924, Accuracy: 0.5292\n",
            "\n",
            "Epoch 5\n",
            "TRAIN Average loss: 0.0846\n",
            "EVAL  Average loss: 0.0901, Accuracy: 0.5708\n",
            "\n",
            "Epoch 6\n",
            "TRAIN Average loss: 0.0832\n",
            "EVAL  Average loss: 0.0851, Accuracy: 0.5833\n",
            "\n",
            "Epoch 7\n",
            "TRAIN Average loss: 0.0814\n",
            "EVAL  Average loss: 0.0832, Accuracy: 0.5806\n",
            "\n",
            "Epoch 8\n",
            "TRAIN Average loss: 0.0812\n",
            "EVAL  Average loss: 0.0832, Accuracy: 0.5722\n",
            "\n",
            "Epoch 9\n",
            "TRAIN Average loss: 0.0769\n",
            "EVAL  Average loss: 0.0802, Accuracy: 0.5778\n",
            "\n",
            "Epoch 10\n",
            "TRAIN Average loss: 0.0779\n",
            "EVAL  Average loss: 0.0752, Accuracy: 0.5833\n",
            "\n",
            "Epoch 11\n",
            "TRAIN Average loss: 0.0787\n",
            "EVAL  Average loss: 0.0767, Accuracy: 0.5750\n",
            "\n",
            "Epoch 12\n",
            "TRAIN Average loss: 0.0762\n",
            "EVAL  Average loss: 0.0731, Accuracy: 0.5861\n",
            "\n",
            "Epoch 13\n",
            "TRAIN Average loss: 0.0753\n",
            "EVAL  Average loss: 0.0729, Accuracy: 0.5972\n",
            "\n",
            "Epoch 14\n",
            "TRAIN Average loss: 0.0745\n",
            "EVAL  Average loss: 0.0753, Accuracy: 0.5861\n",
            "\n"
          ],
          "name": "stdout"
        }
      ]
    },
    {
      "cell_type": "code",
      "metadata": {
        "colab": {
          "base_uri": "https://localhost:8080/"
        },
        "id": "JLMP1uhQueJ1",
        "outputId": "54adf1af-972a-4a89-c77b-bb571768e148"
      },
      "source": [
        "plt.rcParams['figure.figsize'] = (12, 8)\n",
        "plt.plot(loss_history['train'], label='train')\n",
        "plt.plot(loss_history['val'], label='eval')\n",
        "plt.legend()\n",
        "plt.title('Loss');\n",
        "print('Best loss train: {:.4f}'.format(min(loss_history['train'])))\n",
        "print('Best loss eval: {:.4f}'.format(min(loss_history['val'])))\n",
        "plt.show()\n",
        "\n",
        "print()\n",
        "\n",
        "plt.plot(acc_history, label='eval')\n",
        "plt.legend()\n",
        "plt.title('Accuracy');\n",
        "print('Best acc: {:.4f}'.format(max(acc_history)))\n",
        "plt.show()"
      ],
      "execution_count": null,
      "outputs": [
        {
          "output_type": "stream",
          "text": [
            "Best loss train: 0.0745\n",
            "Best loss eval: 0.0729\n"
          ],
          "name": "stdout"
        },
        {
          "output_type": "display_data",
          "data": {
            "image/png": "[encoded data removed]",
            "text/plain": [
              "<Figure size 864x576 with 1 Axes>"
            ]
          },
          "metadata": {
            "tags": [],
            "needs_background": "light"
          }
        },
        {
          "output_type": "stream",
          "text": [
            "\n",
            "Best acc: 0.5972\n"
          ],
          "name": "stdout"
        },
        {
          "output_type": "display_data",
          "data": {
            "image/png": "[encoded data removed]",
            "text/plain": [
              "<Figure size 864x576 with 1 Axes>"
            ]
          },
          "metadata": {
            "tags": [],
            "needs_background": "light"
          }
        }
      ]
    },
    {
      "cell_type": "code",
      "metadata": {
        "colab": {
          "base_uri": "https://localhost:8080/"
        },
        "id": "mo7twhZvijj3",
        "outputId": "3ef98e8f-7802-4b77-ff01-06b2ed00ad52"
      },
      "source": [
        "model.eval()\n",
        "\n",
        "classes_count = [0] * 10\n",
        "classes_correct = [0] * 10\n",
        "\n",
        "for images, targets in test_dataloader:\n",
        "    images = images.to(device)\n",
        "    targets = targets.to(device)\n",
        "    x1, answers = targets[:, :-9], torch.max(targets[:, -9:], 1)[1]\n",
        "\n",
        "    images = Variable(images)\n",
        "    x1 = Variable(x1)\n",
        "    answers = Variable(answers)\n",
        "    \n",
        "    with torch.no_grad():\n",
        "        preds = model(images, x1)\n",
        "\n",
        "        preds = preds.cpu()\n",
        "        pred_max = torch.exp(torch.max(preds.data, 1)[0]).tolist()\n",
        "        pred_class = (torch.max(preds.data, 1)[1]+1).tolist()\n",
        "        answers = answers.tolist()\n",
        "\n",
        "        for idx in range(len(pred_class)):\n",
        "            if pred_max[idx] < 0.5:\n",
        "                pred_class[idx] = 0\n",
        "\n",
        "            classes_count[answers[idx]] += 1\n",
        "            if answers[idx] == pred_class[idx]:\n",
        "                classes_correct[answers[idx]] += 1\n",
        "\n",
        "plt.rcParams['figure.figsize'] = (14, 8)\n",
        "plt.bar(range(10), classes_count, color=\"red\");\n",
        "plt.bar(range(10), classes_correct, color=\"green\");\n",
        "plt.xticks(range(10), names);\n",
        "plt.ylabel('Correct/Total number of class elements')\n",
        "plt.xlabel('Classes')\n",
        "plt.title(\"Prediction histogram\")\n",
        "plt.show()\n",
        "\n",
        "print()\n",
        "for idx in range(10):\n",
        "    if classes_count[idx] != 0:\n",
        "        print(\"{}:   {}/{}   {:.1f}%\".format(names[idx].title(), classes_correct[idx], classes_count[idx], 100*classes_correct[idx]/classes_count[idx]))\n",
        "    else:\n",
        "        print(\"{}:   {}/{}\".format(names[idx].title(), classes_correct[idx], classes_count[idx]))\n",
        "\n",
        "print(\"\\ntotal:   {}/{}   {:.1f}%\".format(sum(classes_correct), sum(classes_count), 100*sum(classes_correct)/sum(classes_count)))"
      ],
      "execution_count": null,
      "outputs": [
        {
          "output_type": "stream",
          "text": [
            "/usr/local/lib/python3.7/dist-packages/ipykernel_launcher.py:63: UserWarning: Implicit dimension choice for softmax has been deprecated. Change the call to include dim=X as an argument.\n",
            "/usr/local/lib/python3.7/dist-packages/ipykernel_launcher.py:83: UserWarning: Implicit dimension choice for log_softmax has been deprecated. Change the call to include dim=X as an argument.\n"
          ],
          "name": "stderr"
        },
        {
          "output_type": "display_data",
          "data": {
            "image/png": "[encoded data removed]",
            "text/plain": [
              "<Figure size 1008x576 with 1 Axes>"
            ]
          },
          "metadata": {
            "tags": [],
            "needs_background": "light"
          }
        },
        {
          "output_type": "stream",
          "text": [
            "\n",
            "Nothing:   55/91   60.4%\n",
            "Stand:   0/6   0.0%\n",
            "Sit:   0/9   0.0%\n",
            "Lie:   0/14   0.0%\n",
            "Go:   0/12   0.0%\n",
            "Run:   0/4   0.0%\n",
            "Jump:   0/7   0.0%\n",
            "Interact:   0/5   0.0%\n",
            "Sleep:   0/7   0.0%\n",
            "Eat:   0/0\n",
            "\n",
            "total:   55/155   35.5%\n"
          ],
          "name": "stdout"
        }
      ]
    },
    {
      "cell_type": "code",
      "metadata": {
        "id": "c3Fo7h7YjL7l"
      },
      "source": [
        ""
      ],
      "execution_count": null,
      "outputs": []
    }
  ]
}