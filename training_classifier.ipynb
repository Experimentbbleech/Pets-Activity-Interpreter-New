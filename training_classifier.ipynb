{
  "nbformat": 4,
  "nbformat_minor": 0,
  "metadata": {
    "colab": {
      "name": "training_classifier.ipynb",
      "provenance": [],
      "collapsed_sections": [
        "x4mgkPL-xpHO",
        "SodqLenCm0Zu"
      ],
      "toc_visible": true
    },
    "kernelspec": {
      "name": "python3",
      "display_name": "Python 3"
    },
    "language_info": {
      "name": "python"
    },
    "accelerator": "GPU"
  },
  "cells": [
    {
      "cell_type": "code",
      "metadata": {
        "id": "kzHDYc6wyXu_",
        "colab": {
          "base_uri": "https://localhost:8080/"
        },
        "outputId": "d419185a-d6b3-4415-9393-1edc8e5dbfcb"
      },
      "source": [
        "!pip install catboost"
      ],
      "execution_count": null,
      "outputs": [
        {
          "output_type": "stream",
          "text": [
            "Collecting catboost\n",
            "\u001b[?25l  Downloading https://files.pythonhosted.org/packages/47/80/8e9c57ec32dfed6ba2922bc5c96462cbf8596ce1a6f5de532ad1e43e53fe/catboost-0.25.1-cp37-none-manylinux1_x86_64.whl (67.3MB)\n",
            "\u001b[K     |████████████████████████████████| 67.3MB 45kB/s \n",
            "\u001b[?25hRequirement already satisfied: pandas>=0.24.0 in /usr/local/lib/python3.7/dist-packages (from catboost) (1.1.5)\n",
            "Requirement already satisfied: scipy in /usr/local/lib/python3.7/dist-packages (from catboost) (1.4.1)\n",
            "Requirement already satisfied: six in /usr/local/lib/python3.7/dist-packages (from catboost) (1.15.0)\n",
            "Requirement already satisfied: graphviz in /usr/local/lib/python3.7/dist-packages (from catboost) (0.10.1)\n",
            "Requirement already satisfied: plotly in /usr/local/lib/python3.7/dist-packages (from catboost) (4.4.1)\n",
            "Requirement already satisfied: matplotlib in /usr/local/lib/python3.7/dist-packages (from catboost) (3.2.2)\n",
            "Requirement already satisfied: numpy>=1.16.0 in /usr/local/lib/python3.7/dist-packages (from catboost) (1.19.5)\n",
            "Requirement already satisfied: python-dateutil>=2.7.3 in /usr/local/lib/python3.7/dist-packages (from pandas>=0.24.0->catboost) (2.8.1)\n",
            "Requirement already satisfied: pytz>=2017.2 in /usr/local/lib/python3.7/dist-packages (from pandas>=0.24.0->catboost) (2018.9)\n",
            "Requirement already satisfied: retrying>=1.3.3 in /usr/local/lib/python3.7/dist-packages (from plotly->catboost) (1.3.3)\n",
            "Requirement already satisfied: cycler>=0.10 in /usr/local/lib/python3.7/dist-packages (from matplotlib->catboost) (0.10.0)\n",
            "Requirement already satisfied: pyparsing!=2.0.4,!=2.1.2,!=2.1.6,>=2.0.1 in /usr/local/lib/python3.7/dist-packages (from matplotlib->catboost) (2.4.7)\n",
            "Requirement already satisfied: kiwisolver>=1.0.1 in /usr/local/lib/python3.7/dist-packages (from matplotlib->catboost) (1.3.1)\n",
            "Installing collected packages: catboost\n",
            "Successfully installed catboost-0.25.1\n"
          ],
          "name": "stdout"
        }
      ]
    },
    {
      "cell_type": "code",
      "metadata": {
        "id": "a5JCighXeWVp"
      },
      "source": [
        "import os\n",
        "import shutil\n",
        "import random\n",
        "import numpy as np \n",
        "import pandas as pd\n",
        "import matplotlib.pyplot as plt\n",
        "from PIL import Image\n",
        "import lightgbm as lgbm\n",
        "from google.colab import files\n",
        "from sklearn.model_selection import train_test_split\n",
        "from catboost import Pool, CatBoostClassifier\n",
        "from sklearn.metrics import precision_score\n",
        "import torch\n",
        "import tqdm\n",
        "import torch.nn as nn\n",
        "import torch.nn.functional as F\n",
        "import torch.optim as optim\n",
        "from torch.utils.data import DataLoader, Dataset\n",
        "from torchvision import datasets, transforms\n",
        "from torch.autograd import Variable"
      ],
      "execution_count": null,
      "outputs": []
    },
    {
      "cell_type": "code",
      "metadata": {
        "id": "OK4oj_7PCcpr"
      },
      "source": [
        "torch.manual_seed(22)\n",
        "random.seed(22)"
      ],
      "execution_count": null,
      "outputs": []
    },
    {
      "cell_type": "code",
      "metadata": {
        "id": "iQXfKCbEgi6b",
        "colab": {
          "resources": {
            "http://localhost:8080/nbextensions/google.colab/files.js": {
              "data": "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",
              "ok": true,
              "headers": [
                [
                  "content-type",
                  "application/javascript"
                ]
              ],
              "status": 200,
              "status_text": ""
            }
          },
          "base_uri": "https://localhost:8080/",
          "height": 72
        },
        "outputId": "7af95cda-1212-4d8b-83ad-a7429259e2da"
      },
      "source": [
        "files.upload(); #animals_data.zip"
      ],
      "execution_count": null,
      "outputs": [
        {
          "output_type": "display_data",
          "data": {
            "text/html": [
              "\n",
              "     <input type=\"file\" id=\"files-7d52c455-93e0-4480-9b2e-7bb8a6e758c9\" name=\"files[]\" multiple disabled\n",
              "        style=\"border:none\" />\n",
              "     <output id=\"result-7d52c455-93e0-4480-9b2e-7bb8a6e758c9\">\n",
              "      Upload widget is only available when the cell has been executed in the\n",
              "      current browser session. Please rerun this cell to enable.\n",
              "      </output>\n",
              "      <script src=\"/nbextensions/google.colab/files.js\"></script> "
            ],
            "text/plain": [
              "<IPython.core.display.HTML object>"
            ]
          },
          "metadata": {
            "tags": []
          }
        },
        {
          "output_type": "stream",
          "text": [
            "Saving animals_data.zip to animals_data.zip\n"
          ],
          "name": "stdout"
        }
      ]
    },
    {
      "cell_type": "code",
      "metadata": {
        "id": "c9Gcvg8yhFFV"
      },
      "source": [
        "data_dir = '/content/data'"
      ],
      "execution_count": null,
      "outputs": []
    },
    {
      "cell_type": "code",
      "metadata": {
        "id": "vkAWKmqxhGKU"
      },
      "source": [
        "shutil.unpack_archive('/content/animals_data.zip', data_dir)"
      ],
      "execution_count": null,
      "outputs": []
    },
    {
      "cell_type": "code",
      "metadata": {
        "id": "rHTkdg6vhaee",
        "colab": {
          "base_uri": "https://localhost:8080/"
        },
        "outputId": "6e509069-774f-4024-8a35-3c2e4dbb3435"
      },
      "source": [
        "df = pd.read_csv(os.path.join(data_dir, 'animals_data.csv'))\n",
        "print(\"Строк в датасете: {}\".format(len(df)))"
      ],
      "execution_count": null,
      "outputs": [
        {
          "output_type": "stream",
          "text": [
            "Строк в датасете: 967\n"
          ],
          "name": "stdout"
        }
      ]
    },
    {
      "cell_type": "code",
      "metadata": {
        "id": "LpiSl9-dkQ1n"
      },
      "source": [
        "classes = ['stand', 'sit', 'lie', 'go', 'run', 'jump', 'interact', 'sleep', 'eat']\n",
        "X = df.drop(classes, axis=1)\n",
        "y = df[['id'] + classes]"
      ],
      "execution_count": null,
      "outputs": []
    },
    {
      "cell_type": "code",
      "metadata": {
        "id": "DnaJgeWzhJk0"
      },
      "source": [
        "for column in X.columns:\n",
        "    if '_x' in column or '_width' in column or '_y' in column or '_height' in column:\n",
        "        X[column] = X[column].astype(float)\n",
        "\n",
        "df_dict = X.to_dict()\n",
        "\n",
        "for idx in df_dict['id'].values():\n",
        "    img_name = os.path.join(data_dir, 'animals', \"0\"*(3-len(str(idx))) + str(idx) + \".jpeg\")\n",
        "    image = Image.open(img_name)\n",
        "    x_size, y_size = image.size\n",
        "    for column in df_dict.keys():\n",
        "        if '_x' in column or '_width' in column:\n",
        "            df_dict[column][idx] /= x_size\n",
        "        elif '_y' in column or '_height' in column:\n",
        "            df_dict[column][idx] /= y_size\n",
        "\n",
        "X = pd.DataFrame.from_dict(df_dict)"
      ],
      "execution_count": null,
      "outputs": []
    },
    {
      "cell_type": "code",
      "metadata": {
        "id": "EoNSfOJfqWiH"
      },
      "source": [
        "y['label'] = 0\n",
        "for idx in range(1, len(y.columns)-1):\n",
        "    y['label'] += y[y.columns[idx]] * idx"
      ],
      "execution_count": null,
      "outputs": []
    },
    {
      "cell_type": "code",
      "metadata": {
        "id": "SortDs4emlbk"
      },
      "source": [
        "X.set_index('id', inplace=True)\n",
        "y.set_index('id', inplace=True)"
      ],
      "execution_count": null,
      "outputs": []
    },
    {
      "cell_type": "code",
      "metadata": {
        "id": "qMnSkmGKwqgV"
      },
      "source": [
        "X['animal'] = 0\n",
        "for idx in range(5):\n",
        "    X['animal'] += X[X.columns[idx]] * idx\n",
        "\n",
        "X = X.drop(['cat', 'cow', 'dog', 'horse', 'sheep'], axis=1)\n",
        "\n",
        "X['bounds_width'] += X['bounds_x']\n",
        "X['bounds_height'] += X['bounds_y']"
      ],
      "execution_count": null,
      "outputs": []
    },
    {
      "cell_type": "code",
      "metadata": {
        "colab": {
          "base_uri": "https://localhost:8080/",
          "height": 513
        },
        "id": "T7mbiqXq3X0F",
        "outputId": "18180262-bfe0-41b2-cbd4-e324a87f64bc"
      },
      "source": [
        "def distrib_hist(y):\n",
        "    plt.rcParams['figure.figsize'] = (14, 8)\n",
        "    levels = list(sum(list(y[col])) for col in y.columns[:-1])\n",
        "    levels = [len(y)-sum(levels)] + levels\n",
        "    names = ['nothing'] + list(y.columns[:-1])\n",
        "\n",
        "    plt.bar(range(10), levels);\n",
        "    plt.xticks(range(10), names);\n",
        "    plt.ylabel('Number of class elements')\n",
        "    plt.xlabel('Classes')\n",
        "    plt.title(\"Distribution histogram\");\n",
        "\n",
        "distrib_hist(y)"
      ],
      "execution_count": null,
      "outputs": [
        {
          "output_type": "display_data",
          "data": {
            "image/png": "[encoded data removed]",
            "text/plain": [
              "<Figure size 1008x576 with 1 Axes>"
            ]
          },
          "metadata": {
            "tags": [],
            "needs_background": "light"
          }
        }
      ]
    },
    {
      "cell_type": "code",
      "metadata": {
        "id": "gdfdhcI5nQgS",
        "colab": {
          "base_uri": "https://localhost:8080/"
        },
        "outputId": "6cd09dda-c113-4e93-bf3d-4f87549bbfad"
      },
      "source": [
        "X_train, X_test, y_train, y_test = train_test_split(X, y, test_size=0.4, random_state=22)\n",
        "X_val, X_test, y_val, y_test = train_test_split(X_test, y_test, test_size=0.4, random_state=22)\n",
        "\n",
        "print(f\"SPLIT\\nTrain:\\t{len(X_train)}\\nVal:\\t{len(X_val)}\\nTest:\\t{len(X_test)}\")"
      ],
      "execution_count": null,
      "outputs": [
        {
          "output_type": "stream",
          "text": [
            "SPLIT\n",
            "Train:\t580\n",
            "Val:\t232\n",
            "Test:\t155\n"
          ],
          "name": "stdout"
        }
      ]
    },
    {
      "cell_type": "code",
      "metadata": {
        "id": "LyoLBwfpHSRs"
      },
      "source": [
        "coord_columns = []\n",
        "for c in range(len(X_train.columns)):\n",
        "    column = X_train.columns[c]\n",
        "    if '_x' in column or '_width' in column or '_y' in column or '_height' in column:\n",
        "        coord_columns.append(c)\n",
        "\n",
        "delta = 0.001\n",
        "\n",
        "next_idx = float(max(list(map(int, X_train.index))) + 1)\n",
        "\n",
        "for idx in list(map(int, X_train.index)):\n",
        "    features = list(X_train.loc[idx])\n",
        "    answers = list(y_train.loc[idx])\n",
        "\n",
        "    if answers[-1] not in [0, 1]:\n",
        "        for cc in coord_columns:\n",
        "            if features[cc] != 0:\n",
        "                features[cc] += random.uniform(-delta, delta)\n",
        "        X_train = X_train.append(pd.Series(features, index=X_train.columns, name=next_idx))\n",
        "        y_train = y_train.append(pd.Series(answers, index=y_train.columns, name=next_idx))\n",
        "        next_idx += 1"
      ],
      "execution_count": null,
      "outputs": []
    },
    {
      "cell_type": "code",
      "metadata": {
        "colab": {
          "base_uri": "https://localhost:8080/",
          "height": 513
        },
        "id": "XtbTiK5lJxjS",
        "outputId": "a98fa15e-eb72-47de-f629-4ef5ef1bd694"
      },
      "source": [
        "distrib_hist(y_train)"
      ],
      "execution_count": null,
      "outputs": [
        {
          "output_type": "display_data",
          "data": {
            "image/png": "[encoded data removed]",
            "text/plain": [
              "<Figure size 1008x576 with 1 Axes>"
            ]
          },
          "metadata": {
            "tags": [],
            "needs_background": "light"
          }
        }
      ]
    },
    {
      "cell_type": "markdown",
      "metadata": {
        "id": "x4mgkPL-xpHO"
      },
      "source": [
        "# LightGBM Classifier\n",
        "0.4261"
      ]
    },
    {
      "cell_type": "code",
      "metadata": {
        "id": "JZzpqqi_n-Tz"
      },
      "source": [
        "params = {'task': 'train',\n",
        "        'boosting_type': 'gbdt',\n",
        "        'objective': 'multiclass',\n",
        "        'num_class': 10,\n",
        "        'metric': 'multi_logloss',\n",
        "        'learning_rate': 0.003,\n",
        "        'max_depth': 10,\n",
        "        'num_leaves': 20}\n",
        "\n",
        "d_train = lgbm.Dataset(X_train, label=y_train['label'])\n",
        "\n",
        "num_epochs = 1000"
      ],
      "execution_count": null,
      "outputs": []
    },
    {
      "cell_type": "code",
      "metadata": {
        "id": "KcA9RsfZpNLg"
      },
      "source": [
        "lgbm_classifier = lgbm.train(params, d_train, num_epochs)"
      ],
      "execution_count": null,
      "outputs": []
    },
    {
      "cell_type": "code",
      "metadata": {
        "id": "eD93jB8DqBmf"
      },
      "source": [
        "y_pred = lgbm_classifier.predict(X_test)"
      ],
      "execution_count": null,
      "outputs": []
    },
    {
      "cell_type": "code",
      "metadata": {
        "id": "bFUOOoj6uNIJ"
      },
      "source": [
        "y_pred = [np.argmax(line) for line in y_pred]"
      ],
      "execution_count": null,
      "outputs": []
    },
    {
      "cell_type": "code",
      "metadata": {
        "colab": {
          "base_uri": "https://localhost:8080/"
        },
        "id": "l4ikDttSudRy",
        "outputId": "82c0c44a-bdc0-457d-94cd-fa03c0320822"
      },
      "source": [
        "precision_score(y_pred, y_test['label'], average=None).mean()"
      ],
      "execution_count": null,
      "outputs": [
        {
          "output_type": "execute_result",
          "data": {
            "text/plain": [
              "0.42230411495378234"
            ]
          },
          "metadata": {
            "tags": []
          },
          "execution_count": 37
        }
      ]
    },
    {
      "cell_type": "markdown",
      "metadata": {
        "id": "h2huov0dyFcu"
      },
      "source": [
        "# Catboost Classifier\n",
        "0.6632"
      ]
    },
    {
      "cell_type": "code",
      "metadata": {
        "id": "NgfFydp1u5O2"
      },
      "source": [
        "train_pool = Pool(data=X_train, label=y_train['label'])\n",
        "eval_pool = Pool(data=X_val, label=y_val['label']) "
      ],
      "execution_count": null,
      "outputs": []
    },
    {
      "cell_type": "code",
      "metadata": {
        "id": "6slQ5lIMyqDs"
      },
      "source": [
        "cat_classifier = CatBoostClassifier(\n",
        "    loss_function='MultiClass',\n",
        "    eval_metric='Accuracy',\n",
        "    use_best_model=True,\n",
        "    random_state = 22\n",
        ")"
      ],
      "execution_count": null,
      "outputs": []
    },
    {
      "cell_type": "code",
      "metadata": {
        "id": "0k6IwSaUy1yn",
        "colab": {
          "base_uri": "https://localhost:8080/"
        },
        "outputId": "1e15277b-57ac-49d0-b81c-ed8bfd11e2cc"
      },
      "source": [
        "cat_classifier.fit(train_pool, eval_set=eval_pool, verbose=False, plot=False)"
      ],
      "execution_count": null,
      "outputs": [
        {
          "output_type": "execute_result",
          "data": {
            "text/plain": [
              "<catboost.core.CatBoostClassifier at 0x7f9ca9c0c1d0>"
            ]
          },
          "metadata": {
            "tags": []
          },
          "execution_count": 138
        }
      ]
    },
    {
      "cell_type": "code",
      "metadata": {
        "colab": {
          "base_uri": "https://localhost:8080/"
        },
        "id": "Uvtr_5d3Uzcz",
        "outputId": "051dde02-833f-4e16-f927-b4e0e63a73ac"
      },
      "source": [
        "cat_classifier.get_best_score()"
      ],
      "execution_count": null,
      "outputs": [
        {
          "output_type": "execute_result",
          "data": {
            "text/plain": [
              "{'learn': {'Accuracy': 1.0, 'MultiClass': 0.010116460792796255},\n",
              " 'validation': {'Accuracy': 0.6077586206896551,\n",
              "  'MultiClass': 1.1765323356409005}}"
            ]
          },
          "metadata": {
            "tags": []
          },
          "execution_count": 139
        }
      ]
    },
    {
      "cell_type": "code",
      "metadata": {
        "colab": {
          "base_uri": "https://localhost:8080/",
          "height": 734
        },
        "id": "n0yaN2dRbSo6",
        "outputId": "1940a1f5-61fd-4e72-e7e8-6f5584dacfee"
      },
      "source": [
        "preds = cat_classifier.predict(X_test)\n",
        "targets = list(y_test[\"label\"])\n",
        "\n",
        "names = ['nothing'] + list(y.columns[:-1])\n",
        "\n",
        "preds = cat_classifier.predict(X_test)\n",
        "targets = list(y_test[\"label\"])\n",
        "\n",
        "classes_count = [0] * 10\n",
        "classes_correct = [0] * 10\n",
        "\n",
        "for idx in range(len(targets)):\n",
        "    classes_count[targets[idx]] += 1\n",
        "    if targets[idx] == preds[idx]:\n",
        "        classes_correct[targets[idx]] += 1\n",
        "\n",
        "plt.rcParams['figure.figsize'] = (14, 8)\n",
        "plt.bar(range(10), classes_count, color=\"red\");\n",
        "plt.bar(range(10), classes_correct, color=\"green\");\n",
        "plt.xticks(range(10), names);\n",
        "plt.ylabel('Correct/Total number of class elements')\n",
        "plt.xlabel('Classes')\n",
        "plt.title(\"Prediction histogram\")\n",
        "plt.show()\n",
        "\n",
        "print()\n",
        "for idx in range(10):\n",
        "    print(\"{}:   {}/{}   {:.1f}%\".format(names[idx].title(), classes_correct[idx], classes_count[idx], 100*classes_correct[idx]/classes_count[idx]))\n",
        "\n",
        "print(\"\\ntotal:   {}/{}   {:.1f}%\".format(sum(classes_correct), sum(classes_count), 100*sum(classes_correct)/sum(classes_count)))"
      ],
      "execution_count": null,
      "outputs": [
        {
          "output_type": "display_data",
          "data": {
            "image/png": "[encoded data removed]",
            "text/plain": [
              "<Figure size 1008x576 with 1 Axes>"
            ]
          },
          "metadata": {
            "tags": [],
            "needs_background": "light"
          }
        },
        {
          "output_type": "stream",
          "text": [
            "\n",
            "Nothing:   20/23   87.0%\n",
            "Stand:   55/64   85.9%\n",
            "Sit:   7/13   53.8%\n",
            "Lie:   4/9   44.4%\n",
            "Go:   2/13   15.4%\n",
            "Run:   4/8   50.0%\n",
            "Jump:   0/1   0.0%\n",
            "Interact:   1/8   12.5%\n",
            "Sleep:   1/2   50.0%\n",
            "Eat:   7/14   50.0%\n",
            "\n",
            "total:   101/155   65.2%\n"
          ],
          "name": "stdout"
        }
      ]
    },
    {
      "cell_type": "code",
      "metadata": {
        "id": "6lTMAOlJ0XvI"
      },
      "source": [
        "cat_classifier.save_model('cat_classifier')"
      ],
      "execution_count": null,
      "outputs": []
    },
    {
      "cell_type": "markdown",
      "metadata": {
        "id": "SodqLenCm0Zu"
      },
      "source": [
        "# MyNet\n",
        "0.6341"
      ]
    },
    {
      "cell_type": "code",
      "metadata": {
        "id": "9brCCXjrU1VT"
      },
      "source": [
        "class AnimalsDataset(Dataset):\n",
        "    def __init__(self, csv_file, root_dir, transform=None):\n",
        "        self.data = csv_file\n",
        "        self.root_dir = root_dir\n",
        "        self.transform = transform\n",
        "\n",
        "    def __len__(self):\n",
        "        return len(self.data)\n",
        "\n",
        "    def __getitem__(self, idx):\n",
        "        img_idx = self.data.iloc[idx, 0]\n",
        "        img_name = os.path.join(self.root_dir, \"0\"*(3-len(str(img_idx))) + str(img_idx) + \".jpeg\")\n",
        "        image = Image.open(img_name)\n",
        "        features = self.data.iloc[idx, 1:].to_numpy()\n",
        "\n",
        "        if self.transform:\n",
        "            image = self.transform(image)\n",
        "\n",
        "        sample = (image, features)\n",
        "\n",
        "        return sample"
      ],
      "execution_count": null,
      "outputs": []
    },
    {
      "cell_type": "code",
      "metadata": {
        "id": "mIA38WnanNoS"
      },
      "source": [
        "target_size = (188, 188)"
      ],
      "execution_count": null,
      "outputs": []
    },
    {
      "cell_type": "code",
      "metadata": {
        "colab": {
          "base_uri": "https://localhost:8080/"
        },
        "id": "7QE5flz9nQF5",
        "outputId": "c1e4805e-54ba-49da-aeec-6ac98d9ac1d1"
      },
      "source": [
        "train_transforms = transforms.Compose([\n",
        "        transforms.Resize(target_size),\n",
        "        transforms.ToTensor()\n",
        "])\n",
        "\n",
        "\n",
        "for column in df.columns:\n",
        "    if '_x' in column or '_width' in column or '_y' in column or '_height' in column:\n",
        "        df[column] = df[column].astype(float)\n",
        "\n",
        "df_dict = df.to_dict()\n",
        "\n",
        "for idx in df_dict['id'].values():\n",
        "    img_name = os.path.join(data_dir, 'animals', \"0\"*(3-len(str(idx))) + str(idx) + \".jpeg\")\n",
        "    image = Image.open(img_name)\n",
        "    x_size, y_size = image.size\n",
        "    for column in df_dict.keys():\n",
        "        if '_x' in column or '_width' in column:\n",
        "            df_dict[column][idx] /= x_size\n",
        "        elif '_y' in column or '_height' in column:\n",
        "            df_dict[column][idx] /= y_size\n",
        "\n",
        "df = pd.DataFrame.from_dict(df_dict)\n",
        "\n",
        "dataset = AnimalsDataset(csv_file=df, root_dir=os.path.join(data_dir, 'animals'), transform=train_transforms)\n",
        "\n",
        "print(f\"Экземпляров в датасете: {len(dataset)}\")"
      ],
      "execution_count": null,
      "outputs": [
        {
          "output_type": "stream",
          "text": [
            "Экземпляров в датасете: 967\n"
          ],
          "name": "stdout"
        }
      ]
    },
    {
      "cell_type": "code",
      "metadata": {
        "id": "k5QWFGkro5hM"
      },
      "source": [
        "train_set, val_set, test_set = torch.utils.data.random_split(dataset, [580, 232, 155])\n",
        "\n",
        "batch_size = 20\n",
        "num_workers = 0\n",
        "\n",
        "train_dataloader = DataLoader(train_set, batch_size=batch_size, shuffle=True, num_workers=num_workers)\n",
        "val_dataloader = DataLoader(val_set, batch_size=batch_size, shuffle=True, num_workers=num_workers)\n",
        "test_dataloader = DataLoader(test_set, batch_size=batch_size, shuffle=True, num_workers=num_workers)"
      ],
      "execution_count": null,
      "outputs": []
    },
    {
      "cell_type": "code",
      "metadata": {
        "colab": {
          "base_uri": "https://localhost:8080/"
        },
        "id": "Hrsa36JYpJnF",
        "outputId": "e4dd19d0-626b-4ea0-aaf4-600b7686cc6e"
      },
      "source": [
        "device = torch.device(\"cuda:0\" if torch.cuda.is_available() else \"cpu\")\n",
        "print(\"Device:\", device)"
      ],
      "execution_count": null,
      "outputs": [
        {
          "output_type": "stream",
          "text": [
            "Device: cuda:0\n"
          ],
          "name": "stdout"
        }
      ]
    },
    {
      "cell_type": "code",
      "metadata": {
        "id": "c1vvS1gnpb0E"
      },
      "source": [
        "class MyNet(nn.Module):\n",
        "    def __init__(self):\n",
        "        super(MyNet, self).__init__()\n",
        "        self.conv1 = nn.Conv2d(3, 10, kernel_size=3)\n",
        "        self.conv1_1 = nn.Conv2d(10, 10, kernel_size=3)\n",
        "        self.conv2 = nn.Conv2d(10, 20, kernel_size=3)\n",
        "        self.conv3 = nn.Conv2d(20, 20, kernel_size=3)\n",
        "        self.conv4 = nn.Conv2d(20, 30, kernel_size=3)\n",
        "\n",
        "        self.fc1 = nn.Linear(1280, 640)\n",
        "        self.fc2 = nn.Linear(640, 300)\n",
        "        self.fc3 = nn.Linear(300, 100)\n",
        "        self.fc4 = nn.Linear(100, 31)\n",
        "\n",
        "        self.fc5 = nn.Linear(100, 60)\n",
        "        self.fc6 = nn.Linear(60, 30)\n",
        "        self.fc7 = nn.Linear(30, 20)\n",
        "        self.fc8 = nn.Linear(20, 9)\n",
        "\n",
        "        self.dropout = nn.Dropout2d()\n",
        "        self.bn21 = nn.BatchNorm2d(10)\n",
        "        self.bn22 = nn.BatchNorm2d(20)\n",
        "        self.bn11 = nn.BatchNorm1d(60)\n",
        "        self.bn12 = nn.BatchNorm1d(30)\n",
        "        self.bn13 = nn.BatchNorm1d(20)\n",
        "\n",
        "\n",
        "    \n",
        "    def forward(self, x, x1):\n",
        "        # input is 256x256x3\n",
        "        # conv1(kernel=3, filters=10)x2 188x188x3 -> 184x184x10\n",
        "        # max_pool(kernel=2) 184x184x10 -> 92x92x10\n",
        "        x = F.relu(self.bn21(F.max_pool2d(self.conv1_1(self.conv1(x)), 2)))\n",
        "        \n",
        "        # conv2(kernel=3, filters=20)x2 92x92x10 -> 88x88x20\n",
        "        # max_pool(kernel=2) 88x88x20 -> 44x44x20\n",
        "        x = F.relu(self.bn22(F.max_pool2d(self.dropout(self.conv3(self.conv2(x))), 2)))\n",
        "\n",
        "        # conv2(kernel=3, filters=20)x2 44x44x20 -> 40x40x20\n",
        "        # max_pool(kernel=2) 40x40x20 -> 20x20x20\n",
        "        x = F.relu(self.bn22(F.max_pool2d(self.dropout(self.conv3(self.conv3(x))), 2)))\n",
        "\n",
        "        # conv2(kernel=3, filters=20)x2 20x20x20 -> 16x16x20\n",
        "        # max_pool(kernel=2) 16x16x20 -> 8x8x20\n",
        "        x = F.relu(self.bn22(F.max_pool2d(self.dropout(self.conv3(self.conv3(x))), 2)))\n",
        "        \n",
        "        # flatten 8x8x20 = 1280\n",
        "        x = x.view(-1, 1280)\n",
        "        \n",
        "        # 1280 -> 640\n",
        "        x = F.relu(self.fc1(x))\n",
        "        x = F.dropout(x, training=self.training)\n",
        "\n",
        "        # 640 -> 300\n",
        "        x = F.relu(self.fc2(x))\n",
        "        x = F.dropout(x, training=self.training)\n",
        "\n",
        "        # 300 -> 100\n",
        "        x = F.relu(self.fc3(x))\n",
        "        x = F.dropout(x, training=self.training)\n",
        "        \n",
        "        # 100 -> 31\n",
        "        x = F.softmax(self.fc4(x))\n",
        "        \n",
        "        # 31 + 69 = 100\n",
        "        x = torch.cat((x, x1.float()), dim=1)\n",
        "\n",
        "        # 100 -> 60\n",
        "        x = F.relu(self.bn11(self.fc5(x)))\n",
        "        x = F.dropout(x, training=self.training)\n",
        "\n",
        "        # 60 -> 30\n",
        "        x = F.relu(self.bn12(self.fc6(x)))\n",
        "        x = F.dropout(x, training=self.training)\n",
        "\n",
        "        # 30 -> 20\n",
        "        x = F.relu(self.bn13(self.fc7(x)))\n",
        "        x = F.dropout(x, training=self.training)\n",
        "\n",
        "        # 20 -> 9\n",
        "        x = self.fc8(x)\n",
        "\n",
        "        return F.log_softmax(x)"
      ],
      "execution_count": null,
      "outputs": []
    },
    {
      "cell_type": "code",
      "metadata": {
        "id": "XO-GujUPy6Ri"
      },
      "source": [
        "model = MyNet()\n",
        "model.to(device)\n",
        "\n",
        "criterion = nn.NLLLoss()\n",
        "\n",
        "params = [p for p in model.parameters() if p.requires_grad]\n",
        "optimizer = torch.optim.Adam(params, amsgrad=True, lr=0.001)\n",
        "\n",
        "loss_history = {'train':[], 'val':[]}\n",
        "acc_history = []"
      ],
      "execution_count": null,
      "outputs": []
    },
    {
      "cell_type": "code",
      "metadata": {
        "id": "eJMtu_Pzy8Zi"
      },
      "source": [
        "def train():\n",
        "    model.train()\n",
        "\n",
        "    running_loss = 0.\n",
        "    for images, targets in train_dataloader:\n",
        "        images = images.to(device)\n",
        "        targets = targets.to(device)\n",
        "        x1, answers = targets[:, :-9], torch.max(targets[:, -9:], 1)[1]\n",
        "\n",
        "        images = Variable(images)\n",
        "        x1 = Variable(x1)\n",
        "        answers = Variable(answers)\n",
        "\n",
        "        optimizer.zero_grad()\n",
        "\n",
        "        with torch.set_grad_enabled(True):\n",
        "            preds = model(images, x1)\n",
        "\n",
        "            loss = criterion(preds, answers)\n",
        "            loss.backward()\n",
        "            running_loss += loss.item() / len(images)\n",
        "\n",
        "            optimizer.step()\n",
        "\n",
        "    epoch_loss = running_loss/len(train_dataloader)\n",
        "    loss_history['train'].append(epoch_loss)\n",
        "    print('TRAIN Average loss: {:.4f}'.format(epoch_loss))"
      ],
      "execution_count": null,
      "outputs": []
    },
    {
      "cell_type": "code",
      "metadata": {
        "id": "YQWNEj4wy9zL"
      },
      "source": [
        "def val():\n",
        "    model.eval()\n",
        "\n",
        "    running_loss = 0.\n",
        "    correct = 0\n",
        "    for images, targets in val_dataloader:\n",
        "        images = images.to(device)\n",
        "        targets = targets.to(device)\n",
        "        x1, answers = targets[:, :-9], torch.max(targets[:, -9:], 1)[1]\n",
        "\n",
        "        images = Variable(images)\n",
        "        x1 = Variable(x1)\n",
        "        answers = Variable(answers)\n",
        "        \n",
        "        with torch.no_grad():\n",
        "            preds = model(images, x1)\n",
        "            loss = criterion(preds, answers)\n",
        "            running_loss += loss.item() / len(images)\n",
        "\n",
        "            pred = torch.max(preds.data, 1)[1]\n",
        "            correct += pred.eq(answers.data).cpu().sum() / len(images)\n",
        "\n",
        "\n",
        "    epoch_loss = running_loss/len(val_dataloader)\n",
        "    loss_history['val'].append(epoch_loss)\n",
        "    accuracy = correct / len(val_dataloader)\n",
        "    acc_history.append(accuracy)\n",
        "    print('EVAL  Average loss: {:.4f}, Accuracy: {:.4f}\\n'.format(epoch_loss, accuracy))"
      ],
      "execution_count": null,
      "outputs": []
    },
    {
      "cell_type": "code",
      "metadata": {
        "id": "5-ki753Vy_pb",
        "colab": {
          "base_uri": "https://localhost:8080/"
        },
        "outputId": "bd3f4d9b-65d2-4299-f89a-a953d3520e8a"
      },
      "source": [
        "num_epochs = 15\n",
        "\n",
        "for epoch in range(num_epochs):\n",
        "    print(\"Epoch %d\" % epoch)\n",
        "    train()\n",
        "    val()"
      ],
      "execution_count": null,
      "outputs": [
        {
          "output_type": "stream",
          "text": [
            "Epoch 0\n"
          ],
          "name": "stdout"
        },
        {
          "output_type": "stream",
          "text": [
            "/usr/local/lib/python3.7/dist-packages/ipykernel_launcher.py:63: UserWarning: Implicit dimension choice for softmax has been deprecated. Change the call to include dim=X as an argument.\n",
            "/usr/local/lib/python3.7/dist-packages/ipykernel_launcher.py:83: UserWarning: Implicit dimension choice for log_softmax has been deprecated. Change the call to include dim=X as an argument.\n"
          ],
          "name": "stderr"
        },
        {
          "output_type": "stream",
          "text": [
            "TRAIN Average loss: 0.1136\n",
            "EVAL  Average loss: 0.1141, Accuracy: 0.0611\n",
            "\n",
            "Epoch 1\n",
            "TRAIN Average loss: 0.1048\n",
            "EVAL  Average loss: 0.1064, Accuracy: 0.2958\n",
            "\n",
            "Epoch 2\n",
            "TRAIN Average loss: 0.0971\n",
            "EVAL  Average loss: 0.1006, Accuracy: 0.4403\n",
            "\n",
            "Epoch 3\n",
            "TRAIN Average loss: 0.0922\n",
            "EVAL  Average loss: 0.0972, Accuracy: 0.4583\n",
            "\n",
            "Epoch 4\n",
            "TRAIN Average loss: 0.0888\n",
            "EVAL  Average loss: 0.0924, Accuracy: 0.5292\n",
            "\n",
            "Epoch 5\n",
            "TRAIN Average loss: 0.0846\n",
            "EVAL  Average loss: 0.0901, Accuracy: 0.5708\n",
            "\n",
            "Epoch 6\n",
            "TRAIN Average loss: 0.0832\n",
            "EVAL  Average loss: 0.0851, Accuracy: 0.5833\n",
            "\n",
            "Epoch 7\n",
            "TRAIN Average loss: 0.0814\n",
            "EVAL  Average loss: 0.0832, Accuracy: 0.5806\n",
            "\n",
            "Epoch 8\n",
            "TRAIN Average loss: 0.0812\n",
            "EVAL  Average loss: 0.0832, Accuracy: 0.5722\n",
            "\n",
            "Epoch 9\n",
            "TRAIN Average loss: 0.0769\n",
            "EVAL  Average loss: 0.0802, Accuracy: 0.5778\n",
            "\n",
            "Epoch 10\n",
            "TRAIN Average loss: 0.0779\n",
            "EVAL  Average loss: 0.0752, Accuracy: 0.5833\n",
            "\n",
            "Epoch 11\n",
            "TRAIN Average loss: 0.0787\n",
            "EVAL  Average loss: 0.0767, Accuracy: 0.5750\n",
            "\n",
            "Epoch 12\n",
            "TRAIN Average loss: 0.0762\n",
            "EVAL  Average loss: 0.0731, Accuracy: 0.5861\n",
            "\n",
            "Epoch 13\n",
            "TRAIN Average loss: 0.0753\n",
            "EVAL  Average loss: 0.0729, Accuracy: 0.5972\n",
            "\n",
            "Epoch 14\n",
            "TRAIN Average loss: 0.0745\n",
            "EVAL  Average loss: 0.0753, Accuracy: 0.5861\n",
            "\n"
          ],
          "name": "stdout"
        }
      ]
    },
    {
      "cell_type": "code",
      "metadata": {
        "colab": {
          "base_uri": "https://localhost:8080/"
        },
        "id": "JLMP1uhQueJ1",
        "outputId": "54adf1af-972a-4a89-c77b-bb571768e148"
      },
      "source": [
        "plt.rcParams['figure.figsize'] = (12, 8)\n",
        "plt.plot(loss_history['train'], label='train')\n",
        "plt.plot(loss_history['val'], label='eval')\n",
        "plt.legend()\n",
        "plt.title('Loss');\n",
        "print('Best loss train: {:.4f}'.format(min(loss_history['train'])))\n",
        "print('Best loss eval: {:.4f}'.format(min(loss_history['val'])))\n",
        "plt.show()\n",
        "\n",
        "print()\n",
        "\n",
        "plt.plot(acc_history, label='eval')\n",
        "plt.legend()\n",
        "plt.title('Accuracy');\n",
        "print('Best acc: {:.4f}'.format(max(acc_history)))\n",
        "plt.show()"
      ],
      "execution_count": null,
      "outputs": [
        {
          "output_type": "stream",
          "text": [
            "Best loss train: 0.0745\n",
            "Best loss eval: 0.0729\n"
          ],
          "name": "stdout"
        },
        {
          "output_type": "display_data",
          "data": {
            "image/png": "[encoded data removed]",
            "text/plain": [
              "<Figure size 864x576 with 1 Axes>"
            ]
          },
          "metadata": {
            "tags": [],
            "needs_background": "light"
          }
        },
        {
          "output_type": "stream",
          "text": [
            "\n",
            "Best acc: 0.5972\n"
          ],
          "name": "stdout"
        },
        {
          "output_type": "display_data",
          "data": {
            "image/png": "[encoded data removed]",
            "text/plain": [
              "<Figure size 864x576 with 1 Axes>"
            ]
          },
          "metadata": {
            "tags": [],
            "needs_background": "light"
          }
        }
      ]
    },
    {
      "cell_type": "code",
      "metadata": {
        "colab": {
          "base_uri": "https://localhost:8080/"
        },
        "id": "mo7twhZvijj3",
        "outputId": "3ef98e8f-7802-4b77-ff01-06b2ed00ad52"
      },
      "source": [
        "model.eval()\n",
        "\n",
        "classes_count = [0] * 10\n",
        "classes_correct = [0] * 10\n",
        "\n",
        "for images, targets in test_dataloader:\n",
        "    images = images.to(device)\n",
        "    targets = targets.to(device)\n",
        "    x1, answers = targets[:, :-9], torch.max(targets[:, -9:], 1)[1]\n",
        "\n",
        "    images = Variable(images)\n",
        "    x1 = Variable(x1)\n",
        "    answers = Variable(answers)\n",
        "    \n",
        "    with torch.no_grad():\n",
        "        preds = model(images, x1)\n",
        "\n",
        "        preds = preds.cpu()\n",
        "        pred_max = torch.exp(torch.max(preds.data, 1)[0]).tolist()\n",
        "        pred_class = (torch.max(preds.data, 1)[1]+1).tolist()\n",
        "        answers = answers.tolist()\n",
        "\n",
        "        for idx in range(len(pred_class)):\n",
        "            if pred_max[idx] < 0.5:\n",
        "                pred_class[idx] = 0\n",
        "\n",
        "            classes_count[answers[idx]] += 1\n",
        "            if answers[idx] == pred_class[idx]:\n",
        "                classes_correct[answers[idx]] += 1\n",
        "\n",
        "plt.rcParams['figure.figsize'] = (14, 8)\n",
        "plt.bar(range(10), classes_count, color=\"red\");\n",
        "plt.bar(range(10), classes_correct, color=\"green\");\n",
        "plt.xticks(range(10), names);\n",
        "plt.ylabel('Correct/Total number of class elements')\n",
        "plt.xlabel('Classes')\n",
        "plt.title(\"Prediction histogram\")\n",
        "plt.show()\n",
        "\n",
        "print()\n",
        "for idx in range(10):\n",
        "    if classes_count[idx] != 0:\n",
        "        print(\"{}:   {}/{}   {:.1f}%\".format(names[idx].title(), classes_correct[idx], classes_count[idx], 100*classes_correct[idx]/classes_count[idx]))\n",
        "    else:\n",
        "        print(\"{}:   {}/{}\".format(names[idx].title(), classes_correct[idx], classes_count[idx]))\n",
        "\n",
        "print(\"\\ntotal:   {}/{}   {:.1f}%\".format(sum(classes_correct), sum(classes_count), 100*sum(classes_correct)/sum(classes_count)))"
      ],
      "execution_count": null,
      "outputs": [
        {
          "output_type": "stream",
          "text": [
            "/usr/local/lib/python3.7/dist-packages/ipykernel_launcher.py:63: UserWarning: Implicit dimension choice for softmax has been deprecated. Change the call to include dim=X as an argument.\n",
            "/usr/local/lib/python3.7/dist-packages/ipykernel_launcher.py:83: UserWarning: Implicit dimension choice for log_softmax has been deprecated. Change the call to include dim=X as an argument.\n"
          ],
          "name": "stderr"
        },
        {
          "output_type": "display_data",
          "data": {
            "image/png": "[encoded data removed]",
            "text/plain": [
              "<Figure size 1008x576 with 1 Axes>"
            ]
          },
          "metadata": {
            "tags": [],
            "needs_background": "light"
          }
        },
        {
          "output_type": "stream",
          "text": [
            "\n",
            "Nothing:   55/91   60.4%\n",
            "Stand:   0/6   0.0%\n",
            "Sit:   0/9   0.0%\n",
            "Lie:   0/14   0.0%\n",
            "Go:   0/12   0.0%\n",
            "Run:   0/4   0.0%\n",
            "Jump:   0/7   0.0%\n",
            "Interact:   0/5   0.0%\n",
            "Sleep:   0/7   0.0%\n",
            "Eat:   0/0\n",
            "\n",
            "total:   55/155   35.5%\n"
          ],
          "name": "stdout"
        }
      ]
    },
    {
      "cell_type": "code",
      "metadata": {
        "id": "c3Fo7h7YjL7l"
      },
      "source": [
        ""
      ],
      "execution_count": null,
      "outputs": []
    }
  ]
}